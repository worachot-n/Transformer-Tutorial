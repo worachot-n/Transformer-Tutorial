{
  "nbformat": 4,
  "nbformat_minor": 0,
  "metadata": {
    "colab": {
      "provenance": [],
      "toc_visible": true,
      "machine_shape": "hm",
      "authorship_tag": "ABX9TyN67t1oJLVfvHRrnkBfExWp",
      "include_colab_link": true
    },
    "kernelspec": {
      "name": "python3",
      "display_name": "Python 3"
    },
    "language_info": {
      "name": "python"
    },
    "accelerator": "GPU",
    "gpuClass": "standard",
    "widgets": {
      "application/vnd.jupyter.widget-state+json": {
        "6d765209f2ee47ee8bf1ac8b41b5795b": {
          "model_module": "@jupyter-widgets/controls",
          "model_name": "HBoxModel",
          "model_module_version": "1.5.0",
          "state": {
            "_dom_classes": [],
            "_model_module": "@jupyter-widgets/controls",
            "_model_module_version": "1.5.0",
            "_model_name": "HBoxModel",
            "_view_count": null,
            "_view_module": "@jupyter-widgets/controls",
            "_view_module_version": "1.5.0",
            "_view_name": "HBoxView",
            "box_style": "",
            "children": [
              "IPY_MODEL_06ab1af3e59046508d87edac509ebbbb",
              "IPY_MODEL_9feaf6250252481e8a90603e07e247e3",
              "IPY_MODEL_175dca9027bf4473a2ebf286a7e1ddc1"
            ],
            "layout": "IPY_MODEL_8c015fc3176e451f9dba1d928831afb7"
          }
        },
        "06ab1af3e59046508d87edac509ebbbb": {
          "model_module": "@jupyter-widgets/controls",
          "model_name": "HTMLModel",
          "model_module_version": "1.5.0",
          "state": {
            "_dom_classes": [],
            "_model_module": "@jupyter-widgets/controls",
            "_model_module_version": "1.5.0",
            "_model_name": "HTMLModel",
            "_view_count": null,
            "_view_module": "@jupyter-widgets/controls",
            "_view_module_version": "1.5.0",
            "_view_name": "HTMLView",
            "description": "",
            "description_tooltip": null,
            "layout": "IPY_MODEL_6727e1ab96ac47d3b057a0a03ef8783b",
            "placeholder": "​",
            "style": "IPY_MODEL_239fde78de404ed8842a31d0374ffb34",
            "value": "100%"
          }
        },
        "9feaf6250252481e8a90603e07e247e3": {
          "model_module": "@jupyter-widgets/controls",
          "model_name": "FloatProgressModel",
          "model_module_version": "1.5.0",
          "state": {
            "_dom_classes": [],
            "_model_module": "@jupyter-widgets/controls",
            "_model_module_version": "1.5.0",
            "_model_name": "FloatProgressModel",
            "_view_count": null,
            "_view_module": "@jupyter-widgets/controls",
            "_view_module_version": "1.5.0",
            "_view_name": "ProgressView",
            "bar_style": "success",
            "description": "",
            "description_tooltip": null,
            "layout": "IPY_MODEL_711734dc23a941b89f4b4a499a916761",
            "max": 3,
            "min": 0,
            "orientation": "horizontal",
            "style": "IPY_MODEL_c70e9170c8514dc3b72098bbffef2a59",
            "value": 3
          }
        },
        "175dca9027bf4473a2ebf286a7e1ddc1": {
          "model_module": "@jupyter-widgets/controls",
          "model_name": "HTMLModel",
          "model_module_version": "1.5.0",
          "state": {
            "_dom_classes": [],
            "_model_module": "@jupyter-widgets/controls",
            "_model_module_version": "1.5.0",
            "_model_name": "HTMLModel",
            "_view_count": null,
            "_view_module": "@jupyter-widgets/controls",
            "_view_module_version": "1.5.0",
            "_view_name": "HTMLView",
            "description": "",
            "description_tooltip": null,
            "layout": "IPY_MODEL_66acf14577fe45638a0987c8d563ea6c",
            "placeholder": "​",
            "style": "IPY_MODEL_b37f0cca60664832ab799bc615fa25a8",
            "value": " 3/3 [00:00&lt;00:00, 93.46it/s]"
          }
        },
        "8c015fc3176e451f9dba1d928831afb7": {
          "model_module": "@jupyter-widgets/base",
          "model_name": "LayoutModel",
          "model_module_version": "1.2.0",
          "state": {
            "_model_module": "@jupyter-widgets/base",
            "_model_module_version": "1.2.0",
            "_model_name": "LayoutModel",
            "_view_count": null,
            "_view_module": "@jupyter-widgets/base",
            "_view_module_version": "1.2.0",
            "_view_name": "LayoutView",
            "align_content": null,
            "align_items": null,
            "align_self": null,
            "border": null,
            "bottom": null,
            "display": null,
            "flex": null,
            "flex_flow": null,
            "grid_area": null,
            "grid_auto_columns": null,
            "grid_auto_flow": null,
            "grid_auto_rows": null,
            "grid_column": null,
            "grid_gap": null,
            "grid_row": null,
            "grid_template_areas": null,
            "grid_template_columns": null,
            "grid_template_rows": null,
            "height": null,
            "justify_content": null,
            "justify_items": null,
            "left": null,
            "margin": null,
            "max_height": null,
            "max_width": null,
            "min_height": null,
            "min_width": null,
            "object_fit": null,
            "object_position": null,
            "order": null,
            "overflow": null,
            "overflow_x": null,
            "overflow_y": null,
            "padding": null,
            "right": null,
            "top": null,
            "visibility": null,
            "width": null
          }
        },
        "6727e1ab96ac47d3b057a0a03ef8783b": {
          "model_module": "@jupyter-widgets/base",
          "model_name": "LayoutModel",
          "model_module_version": "1.2.0",
          "state": {
            "_model_module": "@jupyter-widgets/base",
            "_model_module_version": "1.2.0",
            "_model_name": "LayoutModel",
            "_view_count": null,
            "_view_module": "@jupyter-widgets/base",
            "_view_module_version": "1.2.0",
            "_view_name": "LayoutView",
            "align_content": null,
            "align_items": null,
            "align_self": null,
            "border": null,
            "bottom": null,
            "display": null,
            "flex": null,
            "flex_flow": null,
            "grid_area": null,
            "grid_auto_columns": null,
            "grid_auto_flow": null,
            "grid_auto_rows": null,
            "grid_column": null,
            "grid_gap": null,
            "grid_row": null,
            "grid_template_areas": null,
            "grid_template_columns": null,
            "grid_template_rows": null,
            "height": null,
            "justify_content": null,
            "justify_items": null,
            "left": null,
            "margin": null,
            "max_height": null,
            "max_width": null,
            "min_height": null,
            "min_width": null,
            "object_fit": null,
            "object_position": null,
            "order": null,
            "overflow": null,
            "overflow_x": null,
            "overflow_y": null,
            "padding": null,
            "right": null,
            "top": null,
            "visibility": null,
            "width": null
          }
        },
        "239fde78de404ed8842a31d0374ffb34": {
          "model_module": "@jupyter-widgets/controls",
          "model_name": "DescriptionStyleModel",
          "model_module_version": "1.5.0",
          "state": {
            "_model_module": "@jupyter-widgets/controls",
            "_model_module_version": "1.5.0",
            "_model_name": "DescriptionStyleModel",
            "_view_count": null,
            "_view_module": "@jupyter-widgets/base",
            "_view_module_version": "1.2.0",
            "_view_name": "StyleView",
            "description_width": ""
          }
        },
        "711734dc23a941b89f4b4a499a916761": {
          "model_module": "@jupyter-widgets/base",
          "model_name": "LayoutModel",
          "model_module_version": "1.2.0",
          "state": {
            "_model_module": "@jupyter-widgets/base",
            "_model_module_version": "1.2.0",
            "_model_name": "LayoutModel",
            "_view_count": null,
            "_view_module": "@jupyter-widgets/base",
            "_view_module_version": "1.2.0",
            "_view_name": "LayoutView",
            "align_content": null,
            "align_items": null,
            "align_self": null,
            "border": null,
            "bottom": null,
            "display": null,
            "flex": null,
            "flex_flow": null,
            "grid_area": null,
            "grid_auto_columns": null,
            "grid_auto_flow": null,
            "grid_auto_rows": null,
            "grid_column": null,
            "grid_gap": null,
            "grid_row": null,
            "grid_template_areas": null,
            "grid_template_columns": null,
            "grid_template_rows": null,
            "height": null,
            "justify_content": null,
            "justify_items": null,
            "left": null,
            "margin": null,
            "max_height": null,
            "max_width": null,
            "min_height": null,
            "min_width": null,
            "object_fit": null,
            "object_position": null,
            "order": null,
            "overflow": null,
            "overflow_x": null,
            "overflow_y": null,
            "padding": null,
            "right": null,
            "top": null,
            "visibility": null,
            "width": null
          }
        },
        "c70e9170c8514dc3b72098bbffef2a59": {
          "model_module": "@jupyter-widgets/controls",
          "model_name": "ProgressStyleModel",
          "model_module_version": "1.5.0",
          "state": {
            "_model_module": "@jupyter-widgets/controls",
            "_model_module_version": "1.5.0",
            "_model_name": "ProgressStyleModel",
            "_view_count": null,
            "_view_module": "@jupyter-widgets/base",
            "_view_module_version": "1.2.0",
            "_view_name": "StyleView",
            "bar_color": null,
            "description_width": ""
          }
        },
        "66acf14577fe45638a0987c8d563ea6c": {
          "model_module": "@jupyter-widgets/base",
          "model_name": "LayoutModel",
          "model_module_version": "1.2.0",
          "state": {
            "_model_module": "@jupyter-widgets/base",
            "_model_module_version": "1.2.0",
            "_model_name": "LayoutModel",
            "_view_count": null,
            "_view_module": "@jupyter-widgets/base",
            "_view_module_version": "1.2.0",
            "_view_name": "LayoutView",
            "align_content": null,
            "align_items": null,
            "align_self": null,
            "border": null,
            "bottom": null,
            "display": null,
            "flex": null,
            "flex_flow": null,
            "grid_area": null,
            "grid_auto_columns": null,
            "grid_auto_flow": null,
            "grid_auto_rows": null,
            "grid_column": null,
            "grid_gap": null,
            "grid_row": null,
            "grid_template_areas": null,
            "grid_template_columns": null,
            "grid_template_rows": null,
            "height": null,
            "justify_content": null,
            "justify_items": null,
            "left": null,
            "margin": null,
            "max_height": null,
            "max_width": null,
            "min_height": null,
            "min_width": null,
            "object_fit": null,
            "object_position": null,
            "order": null,
            "overflow": null,
            "overflow_x": null,
            "overflow_y": null,
            "padding": null,
            "right": null,
            "top": null,
            "visibility": null,
            "width": null
          }
        },
        "b37f0cca60664832ab799bc615fa25a8": {
          "model_module": "@jupyter-widgets/controls",
          "model_name": "DescriptionStyleModel",
          "model_module_version": "1.5.0",
          "state": {
            "_model_module": "@jupyter-widgets/controls",
            "_model_module_version": "1.5.0",
            "_model_name": "DescriptionStyleModel",
            "_view_count": null,
            "_view_module": "@jupyter-widgets/base",
            "_view_module_version": "1.2.0",
            "_view_name": "StyleView",
            "description_width": ""
          }
        },
        "b4fc2eba517b49c6a20e9380044ba964": {
          "model_module": "@jupyter-widgets/controls",
          "model_name": "HBoxModel",
          "model_module_version": "1.5.0",
          "state": {
            "_dom_classes": [],
            "_model_module": "@jupyter-widgets/controls",
            "_model_module_version": "1.5.0",
            "_model_name": "HBoxModel",
            "_view_count": null,
            "_view_module": "@jupyter-widgets/controls",
            "_view_module_version": "1.5.0",
            "_view_name": "HBoxView",
            "box_style": "",
            "children": [
              "IPY_MODEL_2ad05256e32947da823f51bdcdef84a8",
              "IPY_MODEL_6d2a5b04e1e54d949443799bb3d382c4",
              "IPY_MODEL_a1a083e4aa8b405286910521e77f699b"
            ],
            "layout": "IPY_MODEL_fdaae59458c1419c9f6315b0896022ff"
          }
        },
        "2ad05256e32947da823f51bdcdef84a8": {
          "model_module": "@jupyter-widgets/controls",
          "model_name": "HTMLModel",
          "model_module_version": "1.5.0",
          "state": {
            "_dom_classes": [],
            "_model_module": "@jupyter-widgets/controls",
            "_model_module_version": "1.5.0",
            "_model_name": "HTMLModel",
            "_view_count": null,
            "_view_module": "@jupyter-widgets/controls",
            "_view_module_version": "1.5.0",
            "_view_name": "HTMLView",
            "description": "",
            "description_tooltip": null,
            "layout": "IPY_MODEL_40c4a82db5f1455582cc1f9e83504874",
            "placeholder": "​",
            "style": "IPY_MODEL_255beca63b374835a2a710de91ae9b5d",
            "value": "100%"
          }
        },
        "6d2a5b04e1e54d949443799bb3d382c4": {
          "model_module": "@jupyter-widgets/controls",
          "model_name": "FloatProgressModel",
          "model_module_version": "1.5.0",
          "state": {
            "_dom_classes": [],
            "_model_module": "@jupyter-widgets/controls",
            "_model_module_version": "1.5.0",
            "_model_name": "FloatProgressModel",
            "_view_count": null,
            "_view_module": "@jupyter-widgets/controls",
            "_view_module_version": "1.5.0",
            "_view_name": "ProgressView",
            "bar_style": "success",
            "description": "",
            "description_tooltip": null,
            "layout": "IPY_MODEL_f6304e251e194af6ae0ee02ef3a32821",
            "max": 3,
            "min": 0,
            "orientation": "horizontal",
            "style": "IPY_MODEL_5504cad3c64b42d18175aebd10ea3a13",
            "value": 3
          }
        },
        "a1a083e4aa8b405286910521e77f699b": {
          "model_module": "@jupyter-widgets/controls",
          "model_name": "HTMLModel",
          "model_module_version": "1.5.0",
          "state": {
            "_dom_classes": [],
            "_model_module": "@jupyter-widgets/controls",
            "_model_module_version": "1.5.0",
            "_model_name": "HTMLModel",
            "_view_count": null,
            "_view_module": "@jupyter-widgets/controls",
            "_view_module_version": "1.5.0",
            "_view_name": "HTMLView",
            "description": "",
            "description_tooltip": null,
            "layout": "IPY_MODEL_0b1a17275c2a4a36bab1cf76e3ff658e",
            "placeholder": "​",
            "style": "IPY_MODEL_906307af1dcf4229b2320aaee7f4d16f",
            "value": " 3/3 [00:00&lt;00:00, 91.91it/s]"
          }
        },
        "fdaae59458c1419c9f6315b0896022ff": {
          "model_module": "@jupyter-widgets/base",
          "model_name": "LayoutModel",
          "model_module_version": "1.2.0",
          "state": {
            "_model_module": "@jupyter-widgets/base",
            "_model_module_version": "1.2.0",
            "_model_name": "LayoutModel",
            "_view_count": null,
            "_view_module": "@jupyter-widgets/base",
            "_view_module_version": "1.2.0",
            "_view_name": "LayoutView",
            "align_content": null,
            "align_items": null,
            "align_self": null,
            "border": null,
            "bottom": null,
            "display": null,
            "flex": null,
            "flex_flow": null,
            "grid_area": null,
            "grid_auto_columns": null,
            "grid_auto_flow": null,
            "grid_auto_rows": null,
            "grid_column": null,
            "grid_gap": null,
            "grid_row": null,
            "grid_template_areas": null,
            "grid_template_columns": null,
            "grid_template_rows": null,
            "height": null,
            "justify_content": null,
            "justify_items": null,
            "left": null,
            "margin": null,
            "max_height": null,
            "max_width": null,
            "min_height": null,
            "min_width": null,
            "object_fit": null,
            "object_position": null,
            "order": null,
            "overflow": null,
            "overflow_x": null,
            "overflow_y": null,
            "padding": null,
            "right": null,
            "top": null,
            "visibility": null,
            "width": null
          }
        },
        "40c4a82db5f1455582cc1f9e83504874": {
          "model_module": "@jupyter-widgets/base",
          "model_name": "LayoutModel",
          "model_module_version": "1.2.0",
          "state": {
            "_model_module": "@jupyter-widgets/base",
            "_model_module_version": "1.2.0",
            "_model_name": "LayoutModel",
            "_view_count": null,
            "_view_module": "@jupyter-widgets/base",
            "_view_module_version": "1.2.0",
            "_view_name": "LayoutView",
            "align_content": null,
            "align_items": null,
            "align_self": null,
            "border": null,
            "bottom": null,
            "display": null,
            "flex": null,
            "flex_flow": null,
            "grid_area": null,
            "grid_auto_columns": null,
            "grid_auto_flow": null,
            "grid_auto_rows": null,
            "grid_column": null,
            "grid_gap": null,
            "grid_row": null,
            "grid_template_areas": null,
            "grid_template_columns": null,
            "grid_template_rows": null,
            "height": null,
            "justify_content": null,
            "justify_items": null,
            "left": null,
            "margin": null,
            "max_height": null,
            "max_width": null,
            "min_height": null,
            "min_width": null,
            "object_fit": null,
            "object_position": null,
            "order": null,
            "overflow": null,
            "overflow_x": null,
            "overflow_y": null,
            "padding": null,
            "right": null,
            "top": null,
            "visibility": null,
            "width": null
          }
        },
        "255beca63b374835a2a710de91ae9b5d": {
          "model_module": "@jupyter-widgets/controls",
          "model_name": "DescriptionStyleModel",
          "model_module_version": "1.5.0",
          "state": {
            "_model_module": "@jupyter-widgets/controls",
            "_model_module_version": "1.5.0",
            "_model_name": "DescriptionStyleModel",
            "_view_count": null,
            "_view_module": "@jupyter-widgets/base",
            "_view_module_version": "1.2.0",
            "_view_name": "StyleView",
            "description_width": ""
          }
        },
        "f6304e251e194af6ae0ee02ef3a32821": {
          "model_module": "@jupyter-widgets/base",
          "model_name": "LayoutModel",
          "model_module_version": "1.2.0",
          "state": {
            "_model_module": "@jupyter-widgets/base",
            "_model_module_version": "1.2.0",
            "_model_name": "LayoutModel",
            "_view_count": null,
            "_view_module": "@jupyter-widgets/base",
            "_view_module_version": "1.2.0",
            "_view_name": "LayoutView",
            "align_content": null,
            "align_items": null,
            "align_self": null,
            "border": null,
            "bottom": null,
            "display": null,
            "flex": null,
            "flex_flow": null,
            "grid_area": null,
            "grid_auto_columns": null,
            "grid_auto_flow": null,
            "grid_auto_rows": null,
            "grid_column": null,
            "grid_gap": null,
            "grid_row": null,
            "grid_template_areas": null,
            "grid_template_columns": null,
            "grid_template_rows": null,
            "height": null,
            "justify_content": null,
            "justify_items": null,
            "left": null,
            "margin": null,
            "max_height": null,
            "max_width": null,
            "min_height": null,
            "min_width": null,
            "object_fit": null,
            "object_position": null,
            "order": null,
            "overflow": null,
            "overflow_x": null,
            "overflow_y": null,
            "padding": null,
            "right": null,
            "top": null,
            "visibility": null,
            "width": null
          }
        },
        "5504cad3c64b42d18175aebd10ea3a13": {
          "model_module": "@jupyter-widgets/controls",
          "model_name": "ProgressStyleModel",
          "model_module_version": "1.5.0",
          "state": {
            "_model_module": "@jupyter-widgets/controls",
            "_model_module_version": "1.5.0",
            "_model_name": "ProgressStyleModel",
            "_view_count": null,
            "_view_module": "@jupyter-widgets/base",
            "_view_module_version": "1.2.0",
            "_view_name": "StyleView",
            "bar_color": null,
            "description_width": ""
          }
        },
        "0b1a17275c2a4a36bab1cf76e3ff658e": {
          "model_module": "@jupyter-widgets/base",
          "model_name": "LayoutModel",
          "model_module_version": "1.2.0",
          "state": {
            "_model_module": "@jupyter-widgets/base",
            "_model_module_version": "1.2.0",
            "_model_name": "LayoutModel",
            "_view_count": null,
            "_view_module": "@jupyter-widgets/base",
            "_view_module_version": "1.2.0",
            "_view_name": "LayoutView",
            "align_content": null,
            "align_items": null,
            "align_self": null,
            "border": null,
            "bottom": null,
            "display": null,
            "flex": null,
            "flex_flow": null,
            "grid_area": null,
            "grid_auto_columns": null,
            "grid_auto_flow": null,
            "grid_auto_rows": null,
            "grid_column": null,
            "grid_gap": null,
            "grid_row": null,
            "grid_template_areas": null,
            "grid_template_columns": null,
            "grid_template_rows": null,
            "height": null,
            "justify_content": null,
            "justify_items": null,
            "left": null,
            "margin": null,
            "max_height": null,
            "max_width": null,
            "min_height": null,
            "min_width": null,
            "object_fit": null,
            "object_position": null,
            "order": null,
            "overflow": null,
            "overflow_x": null,
            "overflow_y": null,
            "padding": null,
            "right": null,
            "top": null,
            "visibility": null,
            "width": null
          }
        },
        "906307af1dcf4229b2320aaee7f4d16f": {
          "model_module": "@jupyter-widgets/controls",
          "model_name": "DescriptionStyleModel",
          "model_module_version": "1.5.0",
          "state": {
            "_model_module": "@jupyter-widgets/controls",
            "_model_module_version": "1.5.0",
            "_model_name": "DescriptionStyleModel",
            "_view_count": null,
            "_view_module": "@jupyter-widgets/base",
            "_view_module_version": "1.2.0",
            "_view_name": "StyleView",
            "description_width": ""
          }
        },
        "aedc41a1b24441f8884d0b7b9e8b7930": {
          "model_module": "@jupyter-widgets/controls",
          "model_name": "HBoxModel",
          "model_module_version": "1.5.0",
          "state": {
            "_dom_classes": [],
            "_model_module": "@jupyter-widgets/controls",
            "_model_module_version": "1.5.0",
            "_model_name": "HBoxModel",
            "_view_count": null,
            "_view_module": "@jupyter-widgets/controls",
            "_view_module_version": "1.5.0",
            "_view_name": "HBoxView",
            "box_style": "",
            "children": [
              "IPY_MODEL_e51d9e82280e41d0a6cdf54d709f075c",
              "IPY_MODEL_816e3374d6db4ed88e41aacbbdb365f5",
              "IPY_MODEL_9624a7c821834da2a84915198a36c4f6"
            ],
            "layout": "IPY_MODEL_af05a9c418164c4ba42f88aae7ccab1e"
          }
        },
        "e51d9e82280e41d0a6cdf54d709f075c": {
          "model_module": "@jupyter-widgets/controls",
          "model_name": "HTMLModel",
          "model_module_version": "1.5.0",
          "state": {
            "_dom_classes": [],
            "_model_module": "@jupyter-widgets/controls",
            "_model_module_version": "1.5.0",
            "_model_name": "HTMLModel",
            "_view_count": null,
            "_view_module": "@jupyter-widgets/controls",
            "_view_module_version": "1.5.0",
            "_view_name": "HTMLView",
            "description": "",
            "description_tooltip": null,
            "layout": "IPY_MODEL_a1aec1625c184de09cd870b99d450392",
            "placeholder": "​",
            "style": "IPY_MODEL_1ec62ddf2b2f4392bc8c32d8dbb477d6",
            "value": "100%"
          }
        },
        "816e3374d6db4ed88e41aacbbdb365f5": {
          "model_module": "@jupyter-widgets/controls",
          "model_name": "FloatProgressModel",
          "model_module_version": "1.5.0",
          "state": {
            "_dom_classes": [],
            "_model_module": "@jupyter-widgets/controls",
            "_model_module_version": "1.5.0",
            "_model_name": "FloatProgressModel",
            "_view_count": null,
            "_view_module": "@jupyter-widgets/controls",
            "_view_module_version": "1.5.0",
            "_view_name": "ProgressView",
            "bar_style": "success",
            "description": "",
            "description_tooltip": null,
            "layout": "IPY_MODEL_329f61ad7aeb41f8af62de07a78fc980",
            "max": 1,
            "min": 0,
            "orientation": "horizontal",
            "style": "IPY_MODEL_0c1286fd778740f780ec698905e8b788",
            "value": 1
          }
        },
        "9624a7c821834da2a84915198a36c4f6": {
          "model_module": "@jupyter-widgets/controls",
          "model_name": "HTMLModel",
          "model_module_version": "1.5.0",
          "state": {
            "_dom_classes": [],
            "_model_module": "@jupyter-widgets/controls",
            "_model_module_version": "1.5.0",
            "_model_name": "HTMLModel",
            "_view_count": null,
            "_view_module": "@jupyter-widgets/controls",
            "_view_module_version": "1.5.0",
            "_view_name": "HTMLView",
            "description": "",
            "description_tooltip": null,
            "layout": "IPY_MODEL_b35c06df23e445ec8740ca1b20d2498f",
            "placeholder": "​",
            "style": "IPY_MODEL_90edf955377e496ab03a60d2e2fd037f",
            "value": " 1/1 [00:01&lt;00:00,  1.11s/ba]"
          }
        },
        "af05a9c418164c4ba42f88aae7ccab1e": {
          "model_module": "@jupyter-widgets/base",
          "model_name": "LayoutModel",
          "model_module_version": "1.2.0",
          "state": {
            "_model_module": "@jupyter-widgets/base",
            "_model_module_version": "1.2.0",
            "_model_name": "LayoutModel",
            "_view_count": null,
            "_view_module": "@jupyter-widgets/base",
            "_view_module_version": "1.2.0",
            "_view_name": "LayoutView",
            "align_content": null,
            "align_items": null,
            "align_self": null,
            "border": null,
            "bottom": null,
            "display": null,
            "flex": null,
            "flex_flow": null,
            "grid_area": null,
            "grid_auto_columns": null,
            "grid_auto_flow": null,
            "grid_auto_rows": null,
            "grid_column": null,
            "grid_gap": null,
            "grid_row": null,
            "grid_template_areas": null,
            "grid_template_columns": null,
            "grid_template_rows": null,
            "height": null,
            "justify_content": null,
            "justify_items": null,
            "left": null,
            "margin": null,
            "max_height": null,
            "max_width": null,
            "min_height": null,
            "min_width": null,
            "object_fit": null,
            "object_position": null,
            "order": null,
            "overflow": null,
            "overflow_x": null,
            "overflow_y": null,
            "padding": null,
            "right": null,
            "top": null,
            "visibility": null,
            "width": null
          }
        },
        "a1aec1625c184de09cd870b99d450392": {
          "model_module": "@jupyter-widgets/base",
          "model_name": "LayoutModel",
          "model_module_version": "1.2.0",
          "state": {
            "_model_module": "@jupyter-widgets/base",
            "_model_module_version": "1.2.0",
            "_model_name": "LayoutModel",
            "_view_count": null,
            "_view_module": "@jupyter-widgets/base",
            "_view_module_version": "1.2.0",
            "_view_name": "LayoutView",
            "align_content": null,
            "align_items": null,
            "align_self": null,
            "border": null,
            "bottom": null,
            "display": null,
            "flex": null,
            "flex_flow": null,
            "grid_area": null,
            "grid_auto_columns": null,
            "grid_auto_flow": null,
            "grid_auto_rows": null,
            "grid_column": null,
            "grid_gap": null,
            "grid_row": null,
            "grid_template_areas": null,
            "grid_template_columns": null,
            "grid_template_rows": null,
            "height": null,
            "justify_content": null,
            "justify_items": null,
            "left": null,
            "margin": null,
            "max_height": null,
            "max_width": null,
            "min_height": null,
            "min_width": null,
            "object_fit": null,
            "object_position": null,
            "order": null,
            "overflow": null,
            "overflow_x": null,
            "overflow_y": null,
            "padding": null,
            "right": null,
            "top": null,
            "visibility": null,
            "width": null
          }
        },
        "1ec62ddf2b2f4392bc8c32d8dbb477d6": {
          "model_module": "@jupyter-widgets/controls",
          "model_name": "DescriptionStyleModel",
          "model_module_version": "1.5.0",
          "state": {
            "_model_module": "@jupyter-widgets/controls",
            "_model_module_version": "1.5.0",
            "_model_name": "DescriptionStyleModel",
            "_view_count": null,
            "_view_module": "@jupyter-widgets/base",
            "_view_module_version": "1.2.0",
            "_view_name": "StyleView",
            "description_width": ""
          }
        },
        "329f61ad7aeb41f8af62de07a78fc980": {
          "model_module": "@jupyter-widgets/base",
          "model_name": "LayoutModel",
          "model_module_version": "1.2.0",
          "state": {
            "_model_module": "@jupyter-widgets/base",
            "_model_module_version": "1.2.0",
            "_model_name": "LayoutModel",
            "_view_count": null,
            "_view_module": "@jupyter-widgets/base",
            "_view_module_version": "1.2.0",
            "_view_name": "LayoutView",
            "align_content": null,
            "align_items": null,
            "align_self": null,
            "border": null,
            "bottom": null,
            "display": null,
            "flex": null,
            "flex_flow": null,
            "grid_area": null,
            "grid_auto_columns": null,
            "grid_auto_flow": null,
            "grid_auto_rows": null,
            "grid_column": null,
            "grid_gap": null,
            "grid_row": null,
            "grid_template_areas": null,
            "grid_template_columns": null,
            "grid_template_rows": null,
            "height": null,
            "justify_content": null,
            "justify_items": null,
            "left": null,
            "margin": null,
            "max_height": null,
            "max_width": null,
            "min_height": null,
            "min_width": null,
            "object_fit": null,
            "object_position": null,
            "order": null,
            "overflow": null,
            "overflow_x": null,
            "overflow_y": null,
            "padding": null,
            "right": null,
            "top": null,
            "visibility": null,
            "width": null
          }
        },
        "0c1286fd778740f780ec698905e8b788": {
          "model_module": "@jupyter-widgets/controls",
          "model_name": "ProgressStyleModel",
          "model_module_version": "1.5.0",
          "state": {
            "_model_module": "@jupyter-widgets/controls",
            "_model_module_version": "1.5.0",
            "_model_name": "ProgressStyleModel",
            "_view_count": null,
            "_view_module": "@jupyter-widgets/base",
            "_view_module_version": "1.2.0",
            "_view_name": "StyleView",
            "bar_color": null,
            "description_width": ""
          }
        },
        "b35c06df23e445ec8740ca1b20d2498f": {
          "model_module": "@jupyter-widgets/base",
          "model_name": "LayoutModel",
          "model_module_version": "1.2.0",
          "state": {
            "_model_module": "@jupyter-widgets/base",
            "_model_module_version": "1.2.0",
            "_model_name": "LayoutModel",
            "_view_count": null,
            "_view_module": "@jupyter-widgets/base",
            "_view_module_version": "1.2.0",
            "_view_name": "LayoutView",
            "align_content": null,
            "align_items": null,
            "align_self": null,
            "border": null,
            "bottom": null,
            "display": null,
            "flex": null,
            "flex_flow": null,
            "grid_area": null,
            "grid_auto_columns": null,
            "grid_auto_flow": null,
            "grid_auto_rows": null,
            "grid_column": null,
            "grid_gap": null,
            "grid_row": null,
            "grid_template_areas": null,
            "grid_template_columns": null,
            "grid_template_rows": null,
            "height": null,
            "justify_content": null,
            "justify_items": null,
            "left": null,
            "margin": null,
            "max_height": null,
            "max_width": null,
            "min_height": null,
            "min_width": null,
            "object_fit": null,
            "object_position": null,
            "order": null,
            "overflow": null,
            "overflow_x": null,
            "overflow_y": null,
            "padding": null,
            "right": null,
            "top": null,
            "visibility": null,
            "width": null
          }
        },
        "90edf955377e496ab03a60d2e2fd037f": {
          "model_module": "@jupyter-widgets/controls",
          "model_name": "DescriptionStyleModel",
          "model_module_version": "1.5.0",
          "state": {
            "_model_module": "@jupyter-widgets/controls",
            "_model_module_version": "1.5.0",
            "_model_name": "DescriptionStyleModel",
            "_view_count": null,
            "_view_module": "@jupyter-widgets/base",
            "_view_module_version": "1.2.0",
            "_view_name": "StyleView",
            "description_width": ""
          }
        },
        "2cefa579896244b8aa5eebd2ec82c45e": {
          "model_module": "@jupyter-widgets/controls",
          "model_name": "HBoxModel",
          "model_module_version": "1.5.0",
          "state": {
            "_dom_classes": [],
            "_model_module": "@jupyter-widgets/controls",
            "_model_module_version": "1.5.0",
            "_model_name": "HBoxModel",
            "_view_count": null,
            "_view_module": "@jupyter-widgets/controls",
            "_view_module_version": "1.5.0",
            "_view_name": "HBoxView",
            "box_style": "",
            "children": [
              "IPY_MODEL_36c489775a0549f89292c6e0d2156b4f",
              "IPY_MODEL_7d15b4b70f7c487c9d008b62ae2cae2a",
              "IPY_MODEL_d9f62b0dc78746c1b814845d57c2e5fe"
            ],
            "layout": "IPY_MODEL_e1119209fd88410782634dceed5f00df"
          }
        },
        "36c489775a0549f89292c6e0d2156b4f": {
          "model_module": "@jupyter-widgets/controls",
          "model_name": "HTMLModel",
          "model_module_version": "1.5.0",
          "state": {
            "_dom_classes": [],
            "_model_module": "@jupyter-widgets/controls",
            "_model_module_version": "1.5.0",
            "_model_name": "HTMLModel",
            "_view_count": null,
            "_view_module": "@jupyter-widgets/controls",
            "_view_module_version": "1.5.0",
            "_view_name": "HTMLView",
            "description": "",
            "description_tooltip": null,
            "layout": "IPY_MODEL_210dca38652748f99b929958e6e533e1",
            "placeholder": "​",
            "style": "IPY_MODEL_a2732210fb2f4f28ab30561d18182252",
            "value": "100%"
          }
        },
        "7d15b4b70f7c487c9d008b62ae2cae2a": {
          "model_module": "@jupyter-widgets/controls",
          "model_name": "FloatProgressModel",
          "model_module_version": "1.5.0",
          "state": {
            "_dom_classes": [],
            "_model_module": "@jupyter-widgets/controls",
            "_model_module_version": "1.5.0",
            "_model_name": "FloatProgressModel",
            "_view_count": null,
            "_view_module": "@jupyter-widgets/controls",
            "_view_module_version": "1.5.0",
            "_view_name": "ProgressView",
            "bar_style": "success",
            "description": "",
            "description_tooltip": null,
            "layout": "IPY_MODEL_c9f08a30c12e4e6f8b7406ac2db47650",
            "max": 1,
            "min": 0,
            "orientation": "horizontal",
            "style": "IPY_MODEL_5ffa5c2234a04c2c8ff237c947cc537d",
            "value": 1
          }
        },
        "d9f62b0dc78746c1b814845d57c2e5fe": {
          "model_module": "@jupyter-widgets/controls",
          "model_name": "HTMLModel",
          "model_module_version": "1.5.0",
          "state": {
            "_dom_classes": [],
            "_model_module": "@jupyter-widgets/controls",
            "_model_module_version": "1.5.0",
            "_model_name": "HTMLModel",
            "_view_count": null,
            "_view_module": "@jupyter-widgets/controls",
            "_view_module_version": "1.5.0",
            "_view_name": "HTMLView",
            "description": "",
            "description_tooltip": null,
            "layout": "IPY_MODEL_1bbd30dfa87f4f0a91b48586752aa6b5",
            "placeholder": "​",
            "style": "IPY_MODEL_df257497645e4090b864828c5d71e9bb",
            "value": " 1/1 [00:00&lt;00:00,  9.12ba/s]"
          }
        },
        "e1119209fd88410782634dceed5f00df": {
          "model_module": "@jupyter-widgets/base",
          "model_name": "LayoutModel",
          "model_module_version": "1.2.0",
          "state": {
            "_model_module": "@jupyter-widgets/base",
            "_model_module_version": "1.2.0",
            "_model_name": "LayoutModel",
            "_view_count": null,
            "_view_module": "@jupyter-widgets/base",
            "_view_module_version": "1.2.0",
            "_view_name": "LayoutView",
            "align_content": null,
            "align_items": null,
            "align_self": null,
            "border": null,
            "bottom": null,
            "display": null,
            "flex": null,
            "flex_flow": null,
            "grid_area": null,
            "grid_auto_columns": null,
            "grid_auto_flow": null,
            "grid_auto_rows": null,
            "grid_column": null,
            "grid_gap": null,
            "grid_row": null,
            "grid_template_areas": null,
            "grid_template_columns": null,
            "grid_template_rows": null,
            "height": null,
            "justify_content": null,
            "justify_items": null,
            "left": null,
            "margin": null,
            "max_height": null,
            "max_width": null,
            "min_height": null,
            "min_width": null,
            "object_fit": null,
            "object_position": null,
            "order": null,
            "overflow": null,
            "overflow_x": null,
            "overflow_y": null,
            "padding": null,
            "right": null,
            "top": null,
            "visibility": null,
            "width": null
          }
        },
        "210dca38652748f99b929958e6e533e1": {
          "model_module": "@jupyter-widgets/base",
          "model_name": "LayoutModel",
          "model_module_version": "1.2.0",
          "state": {
            "_model_module": "@jupyter-widgets/base",
            "_model_module_version": "1.2.0",
            "_model_name": "LayoutModel",
            "_view_count": null,
            "_view_module": "@jupyter-widgets/base",
            "_view_module_version": "1.2.0",
            "_view_name": "LayoutView",
            "align_content": null,
            "align_items": null,
            "align_self": null,
            "border": null,
            "bottom": null,
            "display": null,
            "flex": null,
            "flex_flow": null,
            "grid_area": null,
            "grid_auto_columns": null,
            "grid_auto_flow": null,
            "grid_auto_rows": null,
            "grid_column": null,
            "grid_gap": null,
            "grid_row": null,
            "grid_template_areas": null,
            "grid_template_columns": null,
            "grid_template_rows": null,
            "height": null,
            "justify_content": null,
            "justify_items": null,
            "left": null,
            "margin": null,
            "max_height": null,
            "max_width": null,
            "min_height": null,
            "min_width": null,
            "object_fit": null,
            "object_position": null,
            "order": null,
            "overflow": null,
            "overflow_x": null,
            "overflow_y": null,
            "padding": null,
            "right": null,
            "top": null,
            "visibility": null,
            "width": null
          }
        },
        "a2732210fb2f4f28ab30561d18182252": {
          "model_module": "@jupyter-widgets/controls",
          "model_name": "DescriptionStyleModel",
          "model_module_version": "1.5.0",
          "state": {
            "_model_module": "@jupyter-widgets/controls",
            "_model_module_version": "1.5.0",
            "_model_name": "DescriptionStyleModel",
            "_view_count": null,
            "_view_module": "@jupyter-widgets/base",
            "_view_module_version": "1.2.0",
            "_view_name": "StyleView",
            "description_width": ""
          }
        },
        "c9f08a30c12e4e6f8b7406ac2db47650": {
          "model_module": "@jupyter-widgets/base",
          "model_name": "LayoutModel",
          "model_module_version": "1.2.0",
          "state": {
            "_model_module": "@jupyter-widgets/base",
            "_model_module_version": "1.2.0",
            "_model_name": "LayoutModel",
            "_view_count": null,
            "_view_module": "@jupyter-widgets/base",
            "_view_module_version": "1.2.0",
            "_view_name": "LayoutView",
            "align_content": null,
            "align_items": null,
            "align_self": null,
            "border": null,
            "bottom": null,
            "display": null,
            "flex": null,
            "flex_flow": null,
            "grid_area": null,
            "grid_auto_columns": null,
            "grid_auto_flow": null,
            "grid_auto_rows": null,
            "grid_column": null,
            "grid_gap": null,
            "grid_row": null,
            "grid_template_areas": null,
            "grid_template_columns": null,
            "grid_template_rows": null,
            "height": null,
            "justify_content": null,
            "justify_items": null,
            "left": null,
            "margin": null,
            "max_height": null,
            "max_width": null,
            "min_height": null,
            "min_width": null,
            "object_fit": null,
            "object_position": null,
            "order": null,
            "overflow": null,
            "overflow_x": null,
            "overflow_y": null,
            "padding": null,
            "right": null,
            "top": null,
            "visibility": null,
            "width": null
          }
        },
        "5ffa5c2234a04c2c8ff237c947cc537d": {
          "model_module": "@jupyter-widgets/controls",
          "model_name": "ProgressStyleModel",
          "model_module_version": "1.5.0",
          "state": {
            "_model_module": "@jupyter-widgets/controls",
            "_model_module_version": "1.5.0",
            "_model_name": "ProgressStyleModel",
            "_view_count": null,
            "_view_module": "@jupyter-widgets/base",
            "_view_module_version": "1.2.0",
            "_view_name": "StyleView",
            "bar_color": null,
            "description_width": ""
          }
        },
        "1bbd30dfa87f4f0a91b48586752aa6b5": {
          "model_module": "@jupyter-widgets/base",
          "model_name": "LayoutModel",
          "model_module_version": "1.2.0",
          "state": {
            "_model_module": "@jupyter-widgets/base",
            "_model_module_version": "1.2.0",
            "_model_name": "LayoutModel",
            "_view_count": null,
            "_view_module": "@jupyter-widgets/base",
            "_view_module_version": "1.2.0",
            "_view_name": "LayoutView",
            "align_content": null,
            "align_items": null,
            "align_self": null,
            "border": null,
            "bottom": null,
            "display": null,
            "flex": null,
            "flex_flow": null,
            "grid_area": null,
            "grid_auto_columns": null,
            "grid_auto_flow": null,
            "grid_auto_rows": null,
            "grid_column": null,
            "grid_gap": null,
            "grid_row": null,
            "grid_template_areas": null,
            "grid_template_columns": null,
            "grid_template_rows": null,
            "height": null,
            "justify_content": null,
            "justify_items": null,
            "left": null,
            "margin": null,
            "max_height": null,
            "max_width": null,
            "min_height": null,
            "min_width": null,
            "object_fit": null,
            "object_position": null,
            "order": null,
            "overflow": null,
            "overflow_x": null,
            "overflow_y": null,
            "padding": null,
            "right": null,
            "top": null,
            "visibility": null,
            "width": null
          }
        },
        "df257497645e4090b864828c5d71e9bb": {
          "model_module": "@jupyter-widgets/controls",
          "model_name": "DescriptionStyleModel",
          "model_module_version": "1.5.0",
          "state": {
            "_model_module": "@jupyter-widgets/controls",
            "_model_module_version": "1.5.0",
            "_model_name": "DescriptionStyleModel",
            "_view_count": null,
            "_view_module": "@jupyter-widgets/base",
            "_view_module_version": "1.2.0",
            "_view_name": "StyleView",
            "description_width": ""
          }
        },
        "e5ba399a88a541bfa31686a98f562a16": {
          "model_module": "@jupyter-widgets/controls",
          "model_name": "HBoxModel",
          "model_module_version": "1.5.0",
          "state": {
            "_dom_classes": [],
            "_model_module": "@jupyter-widgets/controls",
            "_model_module_version": "1.5.0",
            "_model_name": "HBoxModel",
            "_view_count": null,
            "_view_module": "@jupyter-widgets/controls",
            "_view_module_version": "1.5.0",
            "_view_name": "HBoxView",
            "box_style": "",
            "children": [
              "IPY_MODEL_326d922b4df84f948ef7cc95fc7a3e57",
              "IPY_MODEL_743a17aea94942419a05a8fa070283da",
              "IPY_MODEL_04a5a2ec176041bd8f69cf756015c4d5"
            ],
            "layout": "IPY_MODEL_562ea98f9fc9468c9357fb8dcca89bef"
          }
        },
        "326d922b4df84f948ef7cc95fc7a3e57": {
          "model_module": "@jupyter-widgets/controls",
          "model_name": "HTMLModel",
          "model_module_version": "1.5.0",
          "state": {
            "_dom_classes": [],
            "_model_module": "@jupyter-widgets/controls",
            "_model_module_version": "1.5.0",
            "_model_name": "HTMLModel",
            "_view_count": null,
            "_view_module": "@jupyter-widgets/controls",
            "_view_module_version": "1.5.0",
            "_view_name": "HTMLView",
            "description": "",
            "description_tooltip": null,
            "layout": "IPY_MODEL_019fba2e6cde4feea2184a6b61272485",
            "placeholder": "​",
            "style": "IPY_MODEL_28d63b1e475a49739ce741e1544149db",
            "value": "100%"
          }
        },
        "743a17aea94942419a05a8fa070283da": {
          "model_module": "@jupyter-widgets/controls",
          "model_name": "FloatProgressModel",
          "model_module_version": "1.5.0",
          "state": {
            "_dom_classes": [],
            "_model_module": "@jupyter-widgets/controls",
            "_model_module_version": "1.5.0",
            "_model_name": "FloatProgressModel",
            "_view_count": null,
            "_view_module": "@jupyter-widgets/controls",
            "_view_module_version": "1.5.0",
            "_view_name": "ProgressView",
            "bar_style": "success",
            "description": "",
            "description_tooltip": null,
            "layout": "IPY_MODEL_6f98a4eaa272489bb97ab53df0403199",
            "max": 1,
            "min": 0,
            "orientation": "horizontal",
            "style": "IPY_MODEL_aaff7a9d0b6e4febb8bfd7f80d6490a5",
            "value": 1
          }
        },
        "04a5a2ec176041bd8f69cf756015c4d5": {
          "model_module": "@jupyter-widgets/controls",
          "model_name": "HTMLModel",
          "model_module_version": "1.5.0",
          "state": {
            "_dom_classes": [],
            "_model_module": "@jupyter-widgets/controls",
            "_model_module_version": "1.5.0",
            "_model_name": "HTMLModel",
            "_view_count": null,
            "_view_module": "@jupyter-widgets/controls",
            "_view_module_version": "1.5.0",
            "_view_name": "HTMLView",
            "description": "",
            "description_tooltip": null,
            "layout": "IPY_MODEL_783b94051938431099e649ff4fbf5f74",
            "placeholder": "​",
            "style": "IPY_MODEL_62e9d39c5ea64f42929be8fba9bbfcf6",
            "value": " 1/1 [00:00&lt;00:00,  9.03ba/s]"
          }
        },
        "562ea98f9fc9468c9357fb8dcca89bef": {
          "model_module": "@jupyter-widgets/base",
          "model_name": "LayoutModel",
          "model_module_version": "1.2.0",
          "state": {
            "_model_module": "@jupyter-widgets/base",
            "_model_module_version": "1.2.0",
            "_model_name": "LayoutModel",
            "_view_count": null,
            "_view_module": "@jupyter-widgets/base",
            "_view_module_version": "1.2.0",
            "_view_name": "LayoutView",
            "align_content": null,
            "align_items": null,
            "align_self": null,
            "border": null,
            "bottom": null,
            "display": null,
            "flex": null,
            "flex_flow": null,
            "grid_area": null,
            "grid_auto_columns": null,
            "grid_auto_flow": null,
            "grid_auto_rows": null,
            "grid_column": null,
            "grid_gap": null,
            "grid_row": null,
            "grid_template_areas": null,
            "grid_template_columns": null,
            "grid_template_rows": null,
            "height": null,
            "justify_content": null,
            "justify_items": null,
            "left": null,
            "margin": null,
            "max_height": null,
            "max_width": null,
            "min_height": null,
            "min_width": null,
            "object_fit": null,
            "object_position": null,
            "order": null,
            "overflow": null,
            "overflow_x": null,
            "overflow_y": null,
            "padding": null,
            "right": null,
            "top": null,
            "visibility": null,
            "width": null
          }
        },
        "019fba2e6cde4feea2184a6b61272485": {
          "model_module": "@jupyter-widgets/base",
          "model_name": "LayoutModel",
          "model_module_version": "1.2.0",
          "state": {
            "_model_module": "@jupyter-widgets/base",
            "_model_module_version": "1.2.0",
            "_model_name": "LayoutModel",
            "_view_count": null,
            "_view_module": "@jupyter-widgets/base",
            "_view_module_version": "1.2.0",
            "_view_name": "LayoutView",
            "align_content": null,
            "align_items": null,
            "align_self": null,
            "border": null,
            "bottom": null,
            "display": null,
            "flex": null,
            "flex_flow": null,
            "grid_area": null,
            "grid_auto_columns": null,
            "grid_auto_flow": null,
            "grid_auto_rows": null,
            "grid_column": null,
            "grid_gap": null,
            "grid_row": null,
            "grid_template_areas": null,
            "grid_template_columns": null,
            "grid_template_rows": null,
            "height": null,
            "justify_content": null,
            "justify_items": null,
            "left": null,
            "margin": null,
            "max_height": null,
            "max_width": null,
            "min_height": null,
            "min_width": null,
            "object_fit": null,
            "object_position": null,
            "order": null,
            "overflow": null,
            "overflow_x": null,
            "overflow_y": null,
            "padding": null,
            "right": null,
            "top": null,
            "visibility": null,
            "width": null
          }
        },
        "28d63b1e475a49739ce741e1544149db": {
          "model_module": "@jupyter-widgets/controls",
          "model_name": "DescriptionStyleModel",
          "model_module_version": "1.5.0",
          "state": {
            "_model_module": "@jupyter-widgets/controls",
            "_model_module_version": "1.5.0",
            "_model_name": "DescriptionStyleModel",
            "_view_count": null,
            "_view_module": "@jupyter-widgets/base",
            "_view_module_version": "1.2.0",
            "_view_name": "StyleView",
            "description_width": ""
          }
        },
        "6f98a4eaa272489bb97ab53df0403199": {
          "model_module": "@jupyter-widgets/base",
          "model_name": "LayoutModel",
          "model_module_version": "1.2.0",
          "state": {
            "_model_module": "@jupyter-widgets/base",
            "_model_module_version": "1.2.0",
            "_model_name": "LayoutModel",
            "_view_count": null,
            "_view_module": "@jupyter-widgets/base",
            "_view_module_version": "1.2.0",
            "_view_name": "LayoutView",
            "align_content": null,
            "align_items": null,
            "align_self": null,
            "border": null,
            "bottom": null,
            "display": null,
            "flex": null,
            "flex_flow": null,
            "grid_area": null,
            "grid_auto_columns": null,
            "grid_auto_flow": null,
            "grid_auto_rows": null,
            "grid_column": null,
            "grid_gap": null,
            "grid_row": null,
            "grid_template_areas": null,
            "grid_template_columns": null,
            "grid_template_rows": null,
            "height": null,
            "justify_content": null,
            "justify_items": null,
            "left": null,
            "margin": null,
            "max_height": null,
            "max_width": null,
            "min_height": null,
            "min_width": null,
            "object_fit": null,
            "object_position": null,
            "order": null,
            "overflow": null,
            "overflow_x": null,
            "overflow_y": null,
            "padding": null,
            "right": null,
            "top": null,
            "visibility": null,
            "width": null
          }
        },
        "aaff7a9d0b6e4febb8bfd7f80d6490a5": {
          "model_module": "@jupyter-widgets/controls",
          "model_name": "ProgressStyleModel",
          "model_module_version": "1.5.0",
          "state": {
            "_model_module": "@jupyter-widgets/controls",
            "_model_module_version": "1.5.0",
            "_model_name": "ProgressStyleModel",
            "_view_count": null,
            "_view_module": "@jupyter-widgets/base",
            "_view_module_version": "1.2.0",
            "_view_name": "StyleView",
            "bar_color": null,
            "description_width": ""
          }
        },
        "783b94051938431099e649ff4fbf5f74": {
          "model_module": "@jupyter-widgets/base",
          "model_name": "LayoutModel",
          "model_module_version": "1.2.0",
          "state": {
            "_model_module": "@jupyter-widgets/base",
            "_model_module_version": "1.2.0",
            "_model_name": "LayoutModel",
            "_view_count": null,
            "_view_module": "@jupyter-widgets/base",
            "_view_module_version": "1.2.0",
            "_view_name": "LayoutView",
            "align_content": null,
            "align_items": null,
            "align_self": null,
            "border": null,
            "bottom": null,
            "display": null,
            "flex": null,
            "flex_flow": null,
            "grid_area": null,
            "grid_auto_columns": null,
            "grid_auto_flow": null,
            "grid_auto_rows": null,
            "grid_column": null,
            "grid_gap": null,
            "grid_row": null,
            "grid_template_areas": null,
            "grid_template_columns": null,
            "grid_template_rows": null,
            "height": null,
            "justify_content": null,
            "justify_items": null,
            "left": null,
            "margin": null,
            "max_height": null,
            "max_width": null,
            "min_height": null,
            "min_width": null,
            "object_fit": null,
            "object_position": null,
            "order": null,
            "overflow": null,
            "overflow_x": null,
            "overflow_y": null,
            "padding": null,
            "right": null,
            "top": null,
            "visibility": null,
            "width": null
          }
        },
        "62e9d39c5ea64f42929be8fba9bbfcf6": {
          "model_module": "@jupyter-widgets/controls",
          "model_name": "DescriptionStyleModel",
          "model_module_version": "1.5.0",
          "state": {
            "_model_module": "@jupyter-widgets/controls",
            "_model_module_version": "1.5.0",
            "_model_name": "DescriptionStyleModel",
            "_view_count": null,
            "_view_module": "@jupyter-widgets/base",
            "_view_module_version": "1.2.0",
            "_view_name": "StyleView",
            "description_width": ""
          }
        },
        "844a4ddc04be4e41a338bf880576606c": {
          "model_module": "@jupyter-widgets/controls",
          "model_name": "HBoxModel",
          "model_module_version": "1.5.0",
          "state": {
            "_dom_classes": [],
            "_model_module": "@jupyter-widgets/controls",
            "_model_module_version": "1.5.0",
            "_model_name": "HBoxModel",
            "_view_count": null,
            "_view_module": "@jupyter-widgets/controls",
            "_view_module_version": "1.5.0",
            "_view_name": "HBoxView",
            "box_style": "",
            "children": [
              "IPY_MODEL_efd4e37ca87b40f9a5e0c27ce3b23ccb",
              "IPY_MODEL_e75d094a4e154c3587fe39ce9be14236",
              "IPY_MODEL_27ae85bccb824b71b96b576d54875b27"
            ],
            "layout": "IPY_MODEL_2b4643aafc8e46ae8c016d0b2f517e2e"
          }
        },
        "efd4e37ca87b40f9a5e0c27ce3b23ccb": {
          "model_module": "@jupyter-widgets/controls",
          "model_name": "HTMLModel",
          "model_module_version": "1.5.0",
          "state": {
            "_dom_classes": [],
            "_model_module": "@jupyter-widgets/controls",
            "_model_module_version": "1.5.0",
            "_model_name": "HTMLModel",
            "_view_count": null,
            "_view_module": "@jupyter-widgets/controls",
            "_view_module_version": "1.5.0",
            "_view_name": "HTMLView",
            "description": "",
            "description_tooltip": null,
            "layout": "IPY_MODEL_43d9937b8b224405a27b907da6f1e45f",
            "placeholder": "​",
            "style": "IPY_MODEL_cfdbf56eb761470bb293f72b30af17eb",
            "value": "100%"
          }
        },
        "e75d094a4e154c3587fe39ce9be14236": {
          "model_module": "@jupyter-widgets/controls",
          "model_name": "FloatProgressModel",
          "model_module_version": "1.5.0",
          "state": {
            "_dom_classes": [],
            "_model_module": "@jupyter-widgets/controls",
            "_model_module_version": "1.5.0",
            "_model_name": "FloatProgressModel",
            "_view_count": null,
            "_view_module": "@jupyter-widgets/controls",
            "_view_module_version": "1.5.0",
            "_view_name": "ProgressView",
            "bar_style": "success",
            "description": "",
            "description_tooltip": null,
            "layout": "IPY_MODEL_f19cf3918a3948d1bff467ad6d5f7139",
            "max": 16,
            "min": 0,
            "orientation": "horizontal",
            "style": "IPY_MODEL_4688d604d1534677a6d6d81ea5e70a52",
            "value": 16
          }
        },
        "27ae85bccb824b71b96b576d54875b27": {
          "model_module": "@jupyter-widgets/controls",
          "model_name": "HTMLModel",
          "model_module_version": "1.5.0",
          "state": {
            "_dom_classes": [],
            "_model_module": "@jupyter-widgets/controls",
            "_model_module_version": "1.5.0",
            "_model_name": "HTMLModel",
            "_view_count": null,
            "_view_module": "@jupyter-widgets/controls",
            "_view_module_version": "1.5.0",
            "_view_name": "HTMLView",
            "description": "",
            "description_tooltip": null,
            "layout": "IPY_MODEL_c147c6f281b24884bca7d342397e625d",
            "placeholder": "​",
            "style": "IPY_MODEL_1cddbae166434f749bd104c4dbbeef5a",
            "value": " 16/16 [00:35&lt;00:00,  2.26s/ba]"
          }
        },
        "2b4643aafc8e46ae8c016d0b2f517e2e": {
          "model_module": "@jupyter-widgets/base",
          "model_name": "LayoutModel",
          "model_module_version": "1.2.0",
          "state": {
            "_model_module": "@jupyter-widgets/base",
            "_model_module_version": "1.2.0",
            "_model_name": "LayoutModel",
            "_view_count": null,
            "_view_module": "@jupyter-widgets/base",
            "_view_module_version": "1.2.0",
            "_view_name": "LayoutView",
            "align_content": null,
            "align_items": null,
            "align_self": null,
            "border": null,
            "bottom": null,
            "display": null,
            "flex": null,
            "flex_flow": null,
            "grid_area": null,
            "grid_auto_columns": null,
            "grid_auto_flow": null,
            "grid_auto_rows": null,
            "grid_column": null,
            "grid_gap": null,
            "grid_row": null,
            "grid_template_areas": null,
            "grid_template_columns": null,
            "grid_template_rows": null,
            "height": null,
            "justify_content": null,
            "justify_items": null,
            "left": null,
            "margin": null,
            "max_height": null,
            "max_width": null,
            "min_height": null,
            "min_width": null,
            "object_fit": null,
            "object_position": null,
            "order": null,
            "overflow": null,
            "overflow_x": null,
            "overflow_y": null,
            "padding": null,
            "right": null,
            "top": null,
            "visibility": null,
            "width": null
          }
        },
        "43d9937b8b224405a27b907da6f1e45f": {
          "model_module": "@jupyter-widgets/base",
          "model_name": "LayoutModel",
          "model_module_version": "1.2.0",
          "state": {
            "_model_module": "@jupyter-widgets/base",
            "_model_module_version": "1.2.0",
            "_model_name": "LayoutModel",
            "_view_count": null,
            "_view_module": "@jupyter-widgets/base",
            "_view_module_version": "1.2.0",
            "_view_name": "LayoutView",
            "align_content": null,
            "align_items": null,
            "align_self": null,
            "border": null,
            "bottom": null,
            "display": null,
            "flex": null,
            "flex_flow": null,
            "grid_area": null,
            "grid_auto_columns": null,
            "grid_auto_flow": null,
            "grid_auto_rows": null,
            "grid_column": null,
            "grid_gap": null,
            "grid_row": null,
            "grid_template_areas": null,
            "grid_template_columns": null,
            "grid_template_rows": null,
            "height": null,
            "justify_content": null,
            "justify_items": null,
            "left": null,
            "margin": null,
            "max_height": null,
            "max_width": null,
            "min_height": null,
            "min_width": null,
            "object_fit": null,
            "object_position": null,
            "order": null,
            "overflow": null,
            "overflow_x": null,
            "overflow_y": null,
            "padding": null,
            "right": null,
            "top": null,
            "visibility": null,
            "width": null
          }
        },
        "cfdbf56eb761470bb293f72b30af17eb": {
          "model_module": "@jupyter-widgets/controls",
          "model_name": "DescriptionStyleModel",
          "model_module_version": "1.5.0",
          "state": {
            "_model_module": "@jupyter-widgets/controls",
            "_model_module_version": "1.5.0",
            "_model_name": "DescriptionStyleModel",
            "_view_count": null,
            "_view_module": "@jupyter-widgets/base",
            "_view_module_version": "1.2.0",
            "_view_name": "StyleView",
            "description_width": ""
          }
        },
        "f19cf3918a3948d1bff467ad6d5f7139": {
          "model_module": "@jupyter-widgets/base",
          "model_name": "LayoutModel",
          "model_module_version": "1.2.0",
          "state": {
            "_model_module": "@jupyter-widgets/base",
            "_model_module_version": "1.2.0",
            "_model_name": "LayoutModel",
            "_view_count": null,
            "_view_module": "@jupyter-widgets/base",
            "_view_module_version": "1.2.0",
            "_view_name": "LayoutView",
            "align_content": null,
            "align_items": null,
            "align_self": null,
            "border": null,
            "bottom": null,
            "display": null,
            "flex": null,
            "flex_flow": null,
            "grid_area": null,
            "grid_auto_columns": null,
            "grid_auto_flow": null,
            "grid_auto_rows": null,
            "grid_column": null,
            "grid_gap": null,
            "grid_row": null,
            "grid_template_areas": null,
            "grid_template_columns": null,
            "grid_template_rows": null,
            "height": null,
            "justify_content": null,
            "justify_items": null,
            "left": null,
            "margin": null,
            "max_height": null,
            "max_width": null,
            "min_height": null,
            "min_width": null,
            "object_fit": null,
            "object_position": null,
            "order": null,
            "overflow": null,
            "overflow_x": null,
            "overflow_y": null,
            "padding": null,
            "right": null,
            "top": null,
            "visibility": null,
            "width": null
          }
        },
        "4688d604d1534677a6d6d81ea5e70a52": {
          "model_module": "@jupyter-widgets/controls",
          "model_name": "ProgressStyleModel",
          "model_module_version": "1.5.0",
          "state": {
            "_model_module": "@jupyter-widgets/controls",
            "_model_module_version": "1.5.0",
            "_model_name": "ProgressStyleModel",
            "_view_count": null,
            "_view_module": "@jupyter-widgets/base",
            "_view_module_version": "1.2.0",
            "_view_name": "StyleView",
            "bar_color": null,
            "description_width": ""
          }
        },
        "c147c6f281b24884bca7d342397e625d": {
          "model_module": "@jupyter-widgets/base",
          "model_name": "LayoutModel",
          "model_module_version": "1.2.0",
          "state": {
            "_model_module": "@jupyter-widgets/base",
            "_model_module_version": "1.2.0",
            "_model_name": "LayoutModel",
            "_view_count": null,
            "_view_module": "@jupyter-widgets/base",
            "_view_module_version": "1.2.0",
            "_view_name": "LayoutView",
            "align_content": null,
            "align_items": null,
            "align_self": null,
            "border": null,
            "bottom": null,
            "display": null,
            "flex": null,
            "flex_flow": null,
            "grid_area": null,
            "grid_auto_columns": null,
            "grid_auto_flow": null,
            "grid_auto_rows": null,
            "grid_column": null,
            "grid_gap": null,
            "grid_row": null,
            "grid_template_areas": null,
            "grid_template_columns": null,
            "grid_template_rows": null,
            "height": null,
            "justify_content": null,
            "justify_items": null,
            "left": null,
            "margin": null,
            "max_height": null,
            "max_width": null,
            "min_height": null,
            "min_width": null,
            "object_fit": null,
            "object_position": null,
            "order": null,
            "overflow": null,
            "overflow_x": null,
            "overflow_y": null,
            "padding": null,
            "right": null,
            "top": null,
            "visibility": null,
            "width": null
          }
        },
        "1cddbae166434f749bd104c4dbbeef5a": {
          "model_module": "@jupyter-widgets/controls",
          "model_name": "DescriptionStyleModel",
          "model_module_version": "1.5.0",
          "state": {
            "_model_module": "@jupyter-widgets/controls",
            "_model_module_version": "1.5.0",
            "_model_name": "DescriptionStyleModel",
            "_view_count": null,
            "_view_module": "@jupyter-widgets/base",
            "_view_module_version": "1.2.0",
            "_view_name": "StyleView",
            "description_width": ""
          }
        },
        "754cfb92e97b410da883595808f46f8b": {
          "model_module": "@jupyter-widgets/controls",
          "model_name": "HBoxModel",
          "model_module_version": "1.5.0",
          "state": {
            "_dom_classes": [],
            "_model_module": "@jupyter-widgets/controls",
            "_model_module_version": "1.5.0",
            "_model_name": "HBoxModel",
            "_view_count": null,
            "_view_module": "@jupyter-widgets/controls",
            "_view_module_version": "1.5.0",
            "_view_name": "HBoxView",
            "box_style": "",
            "children": [
              "IPY_MODEL_c76f5fb604ef4e9385fb5a0fde5c6409",
              "IPY_MODEL_1f5e289dcfbc4719bff61375e12145a9",
              "IPY_MODEL_2d6768f07ec74e3684a2f7f6b8d50d97"
            ],
            "layout": "IPY_MODEL_c64e7dffacca4c339498d32f51d6c8b1"
          }
        },
        "c76f5fb604ef4e9385fb5a0fde5c6409": {
          "model_module": "@jupyter-widgets/controls",
          "model_name": "HTMLModel",
          "model_module_version": "1.5.0",
          "state": {
            "_dom_classes": [],
            "_model_module": "@jupyter-widgets/controls",
            "_model_module_version": "1.5.0",
            "_model_name": "HTMLModel",
            "_view_count": null,
            "_view_module": "@jupyter-widgets/controls",
            "_view_module_version": "1.5.0",
            "_view_name": "HTMLView",
            "description": "",
            "description_tooltip": null,
            "layout": "IPY_MODEL_cd63a203d0b348dab8fc92323d03bf9d",
            "placeholder": "​",
            "style": "IPY_MODEL_b2e5f451d473479d8b5fead8bc3ef1ac",
            "value": "100%"
          }
        },
        "1f5e289dcfbc4719bff61375e12145a9": {
          "model_module": "@jupyter-widgets/controls",
          "model_name": "FloatProgressModel",
          "model_module_version": "1.5.0",
          "state": {
            "_dom_classes": [],
            "_model_module": "@jupyter-widgets/controls",
            "_model_module_version": "1.5.0",
            "_model_name": "FloatProgressModel",
            "_view_count": null,
            "_view_module": "@jupyter-widgets/controls",
            "_view_module_version": "1.5.0",
            "_view_name": "ProgressView",
            "bar_style": "success",
            "description": "",
            "description_tooltip": null,
            "layout": "IPY_MODEL_c2f6283104c14323a47e930733a30bee",
            "max": 2,
            "min": 0,
            "orientation": "horizontal",
            "style": "IPY_MODEL_e3bddb76f3a447e49e3ee2e0990c4791",
            "value": 2
          }
        },
        "2d6768f07ec74e3684a2f7f6b8d50d97": {
          "model_module": "@jupyter-widgets/controls",
          "model_name": "HTMLModel",
          "model_module_version": "1.5.0",
          "state": {
            "_dom_classes": [],
            "_model_module": "@jupyter-widgets/controls",
            "_model_module_version": "1.5.0",
            "_model_name": "HTMLModel",
            "_view_count": null,
            "_view_module": "@jupyter-widgets/controls",
            "_view_module_version": "1.5.0",
            "_view_name": "HTMLView",
            "description": "",
            "description_tooltip": null,
            "layout": "IPY_MODEL_1ae47693cd48441e845ac0623d5d763e",
            "placeholder": "​",
            "style": "IPY_MODEL_c68b70874eaa439fb22ea16519b31dda",
            "value": " 2/2 [00:03&lt;00:00,  1.75s/ba]"
          }
        },
        "c64e7dffacca4c339498d32f51d6c8b1": {
          "model_module": "@jupyter-widgets/base",
          "model_name": "LayoutModel",
          "model_module_version": "1.2.0",
          "state": {
            "_model_module": "@jupyter-widgets/base",
            "_model_module_version": "1.2.0",
            "_model_name": "LayoutModel",
            "_view_count": null,
            "_view_module": "@jupyter-widgets/base",
            "_view_module_version": "1.2.0",
            "_view_name": "LayoutView",
            "align_content": null,
            "align_items": null,
            "align_self": null,
            "border": null,
            "bottom": null,
            "display": null,
            "flex": null,
            "flex_flow": null,
            "grid_area": null,
            "grid_auto_columns": null,
            "grid_auto_flow": null,
            "grid_auto_rows": null,
            "grid_column": null,
            "grid_gap": null,
            "grid_row": null,
            "grid_template_areas": null,
            "grid_template_columns": null,
            "grid_template_rows": null,
            "height": null,
            "justify_content": null,
            "justify_items": null,
            "left": null,
            "margin": null,
            "max_height": null,
            "max_width": null,
            "min_height": null,
            "min_width": null,
            "object_fit": null,
            "object_position": null,
            "order": null,
            "overflow": null,
            "overflow_x": null,
            "overflow_y": null,
            "padding": null,
            "right": null,
            "top": null,
            "visibility": null,
            "width": null
          }
        },
        "cd63a203d0b348dab8fc92323d03bf9d": {
          "model_module": "@jupyter-widgets/base",
          "model_name": "LayoutModel",
          "model_module_version": "1.2.0",
          "state": {
            "_model_module": "@jupyter-widgets/base",
            "_model_module_version": "1.2.0",
            "_model_name": "LayoutModel",
            "_view_count": null,
            "_view_module": "@jupyter-widgets/base",
            "_view_module_version": "1.2.0",
            "_view_name": "LayoutView",
            "align_content": null,
            "align_items": null,
            "align_self": null,
            "border": null,
            "bottom": null,
            "display": null,
            "flex": null,
            "flex_flow": null,
            "grid_area": null,
            "grid_auto_columns": null,
            "grid_auto_flow": null,
            "grid_auto_rows": null,
            "grid_column": null,
            "grid_gap": null,
            "grid_row": null,
            "grid_template_areas": null,
            "grid_template_columns": null,
            "grid_template_rows": null,
            "height": null,
            "justify_content": null,
            "justify_items": null,
            "left": null,
            "margin": null,
            "max_height": null,
            "max_width": null,
            "min_height": null,
            "min_width": null,
            "object_fit": null,
            "object_position": null,
            "order": null,
            "overflow": null,
            "overflow_x": null,
            "overflow_y": null,
            "padding": null,
            "right": null,
            "top": null,
            "visibility": null,
            "width": null
          }
        },
        "b2e5f451d473479d8b5fead8bc3ef1ac": {
          "model_module": "@jupyter-widgets/controls",
          "model_name": "DescriptionStyleModel",
          "model_module_version": "1.5.0",
          "state": {
            "_model_module": "@jupyter-widgets/controls",
            "_model_module_version": "1.5.0",
            "_model_name": "DescriptionStyleModel",
            "_view_count": null,
            "_view_module": "@jupyter-widgets/base",
            "_view_module_version": "1.2.0",
            "_view_name": "StyleView",
            "description_width": ""
          }
        },
        "c2f6283104c14323a47e930733a30bee": {
          "model_module": "@jupyter-widgets/base",
          "model_name": "LayoutModel",
          "model_module_version": "1.2.0",
          "state": {
            "_model_module": "@jupyter-widgets/base",
            "_model_module_version": "1.2.0",
            "_model_name": "LayoutModel",
            "_view_count": null,
            "_view_module": "@jupyter-widgets/base",
            "_view_module_version": "1.2.0",
            "_view_name": "LayoutView",
            "align_content": null,
            "align_items": null,
            "align_self": null,
            "border": null,
            "bottom": null,
            "display": null,
            "flex": null,
            "flex_flow": null,
            "grid_area": null,
            "grid_auto_columns": null,
            "grid_auto_flow": null,
            "grid_auto_rows": null,
            "grid_column": null,
            "grid_gap": null,
            "grid_row": null,
            "grid_template_areas": null,
            "grid_template_columns": null,
            "grid_template_rows": null,
            "height": null,
            "justify_content": null,
            "justify_items": null,
            "left": null,
            "margin": null,
            "max_height": null,
            "max_width": null,
            "min_height": null,
            "min_width": null,
            "object_fit": null,
            "object_position": null,
            "order": null,
            "overflow": null,
            "overflow_x": null,
            "overflow_y": null,
            "padding": null,
            "right": null,
            "top": null,
            "visibility": null,
            "width": null
          }
        },
        "e3bddb76f3a447e49e3ee2e0990c4791": {
          "model_module": "@jupyter-widgets/controls",
          "model_name": "ProgressStyleModel",
          "model_module_version": "1.5.0",
          "state": {
            "_model_module": "@jupyter-widgets/controls",
            "_model_module_version": "1.5.0",
            "_model_name": "ProgressStyleModel",
            "_view_count": null,
            "_view_module": "@jupyter-widgets/base",
            "_view_module_version": "1.2.0",
            "_view_name": "StyleView",
            "bar_color": null,
            "description_width": ""
          }
        },
        "1ae47693cd48441e845ac0623d5d763e": {
          "model_module": "@jupyter-widgets/base",
          "model_name": "LayoutModel",
          "model_module_version": "1.2.0",
          "state": {
            "_model_module": "@jupyter-widgets/base",
            "_model_module_version": "1.2.0",
            "_model_name": "LayoutModel",
            "_view_count": null,
            "_view_module": "@jupyter-widgets/base",
            "_view_module_version": "1.2.0",
            "_view_name": "LayoutView",
            "align_content": null,
            "align_items": null,
            "align_self": null,
            "border": null,
            "bottom": null,
            "display": null,
            "flex": null,
            "flex_flow": null,
            "grid_area": null,
            "grid_auto_columns": null,
            "grid_auto_flow": null,
            "grid_auto_rows": null,
            "grid_column": null,
            "grid_gap": null,
            "grid_row": null,
            "grid_template_areas": null,
            "grid_template_columns": null,
            "grid_template_rows": null,
            "height": null,
            "justify_content": null,
            "justify_items": null,
            "left": null,
            "margin": null,
            "max_height": null,
            "max_width": null,
            "min_height": null,
            "min_width": null,
            "object_fit": null,
            "object_position": null,
            "order": null,
            "overflow": null,
            "overflow_x": null,
            "overflow_y": null,
            "padding": null,
            "right": null,
            "top": null,
            "visibility": null,
            "width": null
          }
        },
        "c68b70874eaa439fb22ea16519b31dda": {
          "model_module": "@jupyter-widgets/controls",
          "model_name": "DescriptionStyleModel",
          "model_module_version": "1.5.0",
          "state": {
            "_model_module": "@jupyter-widgets/controls",
            "_model_module_version": "1.5.0",
            "_model_name": "DescriptionStyleModel",
            "_view_count": null,
            "_view_module": "@jupyter-widgets/base",
            "_view_module_version": "1.2.0",
            "_view_name": "StyleView",
            "description_width": ""
          }
        },
        "122e76e4fff241159ec5b06c4436ceea": {
          "model_module": "@jupyter-widgets/controls",
          "model_name": "HBoxModel",
          "model_module_version": "1.5.0",
          "state": {
            "_dom_classes": [],
            "_model_module": "@jupyter-widgets/controls",
            "_model_module_version": "1.5.0",
            "_model_name": "HBoxModel",
            "_view_count": null,
            "_view_module": "@jupyter-widgets/controls",
            "_view_module_version": "1.5.0",
            "_view_name": "HBoxView",
            "box_style": "",
            "children": [
              "IPY_MODEL_81b3ee709b074a22be6dec790d3130c2",
              "IPY_MODEL_0c6ea639fecf4ee295a509c980a20310",
              "IPY_MODEL_e4a6b3b8ba504883839486a2124f406a"
            ],
            "layout": "IPY_MODEL_0922a3ef6eb540078425443f243de429"
          }
        },
        "81b3ee709b074a22be6dec790d3130c2": {
          "model_module": "@jupyter-widgets/controls",
          "model_name": "HTMLModel",
          "model_module_version": "1.5.0",
          "state": {
            "_dom_classes": [],
            "_model_module": "@jupyter-widgets/controls",
            "_model_module_version": "1.5.0",
            "_model_name": "HTMLModel",
            "_view_count": null,
            "_view_module": "@jupyter-widgets/controls",
            "_view_module_version": "1.5.0",
            "_view_name": "HTMLView",
            "description": "",
            "description_tooltip": null,
            "layout": "IPY_MODEL_87a347fbcc434de0a7a8622e508aba17",
            "placeholder": "​",
            "style": "IPY_MODEL_1d0f04d34811481eb2fe5844a1639266",
            "value": "100%"
          }
        },
        "0c6ea639fecf4ee295a509c980a20310": {
          "model_module": "@jupyter-widgets/controls",
          "model_name": "FloatProgressModel",
          "model_module_version": "1.5.0",
          "state": {
            "_dom_classes": [],
            "_model_module": "@jupyter-widgets/controls",
            "_model_module_version": "1.5.0",
            "_model_name": "FloatProgressModel",
            "_view_count": null,
            "_view_module": "@jupyter-widgets/controls",
            "_view_module_version": "1.5.0",
            "_view_name": "ProgressView",
            "bar_style": "success",
            "description": "",
            "description_tooltip": null,
            "layout": "IPY_MODEL_d75d4df42a334bbb873d58a46af950dd",
            "max": 2,
            "min": 0,
            "orientation": "horizontal",
            "style": "IPY_MODEL_53904a925c77452faefa0376b73c37bf",
            "value": 2
          }
        },
        "e4a6b3b8ba504883839486a2124f406a": {
          "model_module": "@jupyter-widgets/controls",
          "model_name": "HTMLModel",
          "model_module_version": "1.5.0",
          "state": {
            "_dom_classes": [],
            "_model_module": "@jupyter-widgets/controls",
            "_model_module_version": "1.5.0",
            "_model_name": "HTMLModel",
            "_view_count": null,
            "_view_module": "@jupyter-widgets/controls",
            "_view_module_version": "1.5.0",
            "_view_name": "HTMLView",
            "description": "",
            "description_tooltip": null,
            "layout": "IPY_MODEL_93c4c20f5efb481292fb4da53c399c19",
            "placeholder": "​",
            "style": "IPY_MODEL_bbe13cef8d0b41cf9f02429ebde03800",
            "value": " 2/2 [00:03&lt;00:00,  1.80s/ba]"
          }
        },
        "0922a3ef6eb540078425443f243de429": {
          "model_module": "@jupyter-widgets/base",
          "model_name": "LayoutModel",
          "model_module_version": "1.2.0",
          "state": {
            "_model_module": "@jupyter-widgets/base",
            "_model_module_version": "1.2.0",
            "_model_name": "LayoutModel",
            "_view_count": null,
            "_view_module": "@jupyter-widgets/base",
            "_view_module_version": "1.2.0",
            "_view_name": "LayoutView",
            "align_content": null,
            "align_items": null,
            "align_self": null,
            "border": null,
            "bottom": null,
            "display": null,
            "flex": null,
            "flex_flow": null,
            "grid_area": null,
            "grid_auto_columns": null,
            "grid_auto_flow": null,
            "grid_auto_rows": null,
            "grid_column": null,
            "grid_gap": null,
            "grid_row": null,
            "grid_template_areas": null,
            "grid_template_columns": null,
            "grid_template_rows": null,
            "height": null,
            "justify_content": null,
            "justify_items": null,
            "left": null,
            "margin": null,
            "max_height": null,
            "max_width": null,
            "min_height": null,
            "min_width": null,
            "object_fit": null,
            "object_position": null,
            "order": null,
            "overflow": null,
            "overflow_x": null,
            "overflow_y": null,
            "padding": null,
            "right": null,
            "top": null,
            "visibility": null,
            "width": null
          }
        },
        "87a347fbcc434de0a7a8622e508aba17": {
          "model_module": "@jupyter-widgets/base",
          "model_name": "LayoutModel",
          "model_module_version": "1.2.0",
          "state": {
            "_model_module": "@jupyter-widgets/base",
            "_model_module_version": "1.2.0",
            "_model_name": "LayoutModel",
            "_view_count": null,
            "_view_module": "@jupyter-widgets/base",
            "_view_module_version": "1.2.0",
            "_view_name": "LayoutView",
            "align_content": null,
            "align_items": null,
            "align_self": null,
            "border": null,
            "bottom": null,
            "display": null,
            "flex": null,
            "flex_flow": null,
            "grid_area": null,
            "grid_auto_columns": null,
            "grid_auto_flow": null,
            "grid_auto_rows": null,
            "grid_column": null,
            "grid_gap": null,
            "grid_row": null,
            "grid_template_areas": null,
            "grid_template_columns": null,
            "grid_template_rows": null,
            "height": null,
            "justify_content": null,
            "justify_items": null,
            "left": null,
            "margin": null,
            "max_height": null,
            "max_width": null,
            "min_height": null,
            "min_width": null,
            "object_fit": null,
            "object_position": null,
            "order": null,
            "overflow": null,
            "overflow_x": null,
            "overflow_y": null,
            "padding": null,
            "right": null,
            "top": null,
            "visibility": null,
            "width": null
          }
        },
        "1d0f04d34811481eb2fe5844a1639266": {
          "model_module": "@jupyter-widgets/controls",
          "model_name": "DescriptionStyleModel",
          "model_module_version": "1.5.0",
          "state": {
            "_model_module": "@jupyter-widgets/controls",
            "_model_module_version": "1.5.0",
            "_model_name": "DescriptionStyleModel",
            "_view_count": null,
            "_view_module": "@jupyter-widgets/base",
            "_view_module_version": "1.2.0",
            "_view_name": "StyleView",
            "description_width": ""
          }
        },
        "d75d4df42a334bbb873d58a46af950dd": {
          "model_module": "@jupyter-widgets/base",
          "model_name": "LayoutModel",
          "model_module_version": "1.2.0",
          "state": {
            "_model_module": "@jupyter-widgets/base",
            "_model_module_version": "1.2.0",
            "_model_name": "LayoutModel",
            "_view_count": null,
            "_view_module": "@jupyter-widgets/base",
            "_view_module_version": "1.2.0",
            "_view_name": "LayoutView",
            "align_content": null,
            "align_items": null,
            "align_self": null,
            "border": null,
            "bottom": null,
            "display": null,
            "flex": null,
            "flex_flow": null,
            "grid_area": null,
            "grid_auto_columns": null,
            "grid_auto_flow": null,
            "grid_auto_rows": null,
            "grid_column": null,
            "grid_gap": null,
            "grid_row": null,
            "grid_template_areas": null,
            "grid_template_columns": null,
            "grid_template_rows": null,
            "height": null,
            "justify_content": null,
            "justify_items": null,
            "left": null,
            "margin": null,
            "max_height": null,
            "max_width": null,
            "min_height": null,
            "min_width": null,
            "object_fit": null,
            "object_position": null,
            "order": null,
            "overflow": null,
            "overflow_x": null,
            "overflow_y": null,
            "padding": null,
            "right": null,
            "top": null,
            "visibility": null,
            "width": null
          }
        },
        "53904a925c77452faefa0376b73c37bf": {
          "model_module": "@jupyter-widgets/controls",
          "model_name": "ProgressStyleModel",
          "model_module_version": "1.5.0",
          "state": {
            "_model_module": "@jupyter-widgets/controls",
            "_model_module_version": "1.5.0",
            "_model_name": "ProgressStyleModel",
            "_view_count": null,
            "_view_module": "@jupyter-widgets/base",
            "_view_module_version": "1.2.0",
            "_view_name": "StyleView",
            "bar_color": null,
            "description_width": ""
          }
        },
        "93c4c20f5efb481292fb4da53c399c19": {
          "model_module": "@jupyter-widgets/base",
          "model_name": "LayoutModel",
          "model_module_version": "1.2.0",
          "state": {
            "_model_module": "@jupyter-widgets/base",
            "_model_module_version": "1.2.0",
            "_model_name": "LayoutModel",
            "_view_count": null,
            "_view_module": "@jupyter-widgets/base",
            "_view_module_version": "1.2.0",
            "_view_name": "LayoutView",
            "align_content": null,
            "align_items": null,
            "align_self": null,
            "border": null,
            "bottom": null,
            "display": null,
            "flex": null,
            "flex_flow": null,
            "grid_area": null,
            "grid_auto_columns": null,
            "grid_auto_flow": null,
            "grid_auto_rows": null,
            "grid_column": null,
            "grid_gap": null,
            "grid_row": null,
            "grid_template_areas": null,
            "grid_template_columns": null,
            "grid_template_rows": null,
            "height": null,
            "justify_content": null,
            "justify_items": null,
            "left": null,
            "margin": null,
            "max_height": null,
            "max_width": null,
            "min_height": null,
            "min_width": null,
            "object_fit": null,
            "object_position": null,
            "order": null,
            "overflow": null,
            "overflow_x": null,
            "overflow_y": null,
            "padding": null,
            "right": null,
            "top": null,
            "visibility": null,
            "width": null
          }
        },
        "bbe13cef8d0b41cf9f02429ebde03800": {
          "model_module": "@jupyter-widgets/controls",
          "model_name": "DescriptionStyleModel",
          "model_module_version": "1.5.0",
          "state": {
            "_model_module": "@jupyter-widgets/controls",
            "_model_module_version": "1.5.0",
            "_model_name": "DescriptionStyleModel",
            "_view_count": null,
            "_view_module": "@jupyter-widgets/base",
            "_view_module_version": "1.2.0",
            "_view_name": "StyleView",
            "description_width": ""
          }
        }
      }
    }
  },
  "cells": [
    {
      "cell_type": "markdown",
      "metadata": {
        "id": "view-in-github",
        "colab_type": "text"
      },
      "source": [
        "<a href=\"https://colab.research.google.com/github/worachot-n/Transformer-Tutorial/blob/main/Transformer_Tutorial.ipynb\" target=\"_parent\"><img src=\"https://colab.research.google.com/assets/colab-badge.svg\" alt=\"Open In Colab\"/></a>"
      ]
    },
    {
      "cell_type": "code",
      "source": [
        "from google.colab import drive\n",
        "drive.mount('/content/drive')"
      ],
      "metadata": {
        "colab": {
          "base_uri": "https://localhost:8080/"
        },
        "id": "pYvQhlN9Gv47",
        "outputId": "c7720e97-6ea6-4569-ace9-d9f5eedff508"
      },
      "execution_count": 1,
      "outputs": [
        {
          "output_type": "stream",
          "name": "stdout",
          "text": [
            "Drive already mounted at /content/drive; to attempt to forcibly remount, call drive.mount(\"/content/drive\", force_remount=True).\n"
          ]
        }
      ]
    },
    {
      "cell_type": "code",
      "source": [
        "!pwd"
      ],
      "metadata": {
        "colab": {
          "base_uri": "https://localhost:8080/"
        },
        "id": "ZkZA-1IvG26D",
        "outputId": "caba54a8-3af9-4e49-a6e3-ef9433d8707f"
      },
      "execution_count": 2,
      "outputs": [
        {
          "output_type": "stream",
          "name": "stdout",
          "text": [
            "/content\n"
          ]
        }
      ]
    },
    {
      "cell_type": "markdown",
      "source": [
        "# Transformer Pipeline"
      ],
      "metadata": {
        "id": "yfN8CI_YHdTB"
      }
    },
    {
      "cell_type": "code",
      "source": [
        "text = \"\"\"Dear Amazon, last week I ordered an Optimus Prime action figure\n",
        "from your online store in Germany. Unfortunately, when I opened the package,\n",
        "I discovered to my horror that I had been sent an action figure of Megatron\n",
        "instead! As a lifelong enemy of the Decepticons, I hope you can understand my\n",
        "dilemma. To resolve the issue, I demand an exchange of Megatron for the\n",
        "Optimus Prime figure I ordered. Enclosed are copies of my records concerning\n",
        "this purchase. I expect to hear from you soon. Sincerely, Bumblebee.\"\"\""
      ],
      "metadata": {
        "id": "8Z2Bh2NvG4ct"
      },
      "execution_count": 3,
      "outputs": []
    },
    {
      "cell_type": "code",
      "source": [
        "!pip install transformers --quiet\n",
        "!pip install sentencepiece --quiet"
      ],
      "metadata": {
        "id": "Boytm_N-HBBS"
      },
      "execution_count": 4,
      "outputs": []
    },
    {
      "cell_type": "markdown",
      "source": [
        "##Text-Classification"
      ],
      "metadata": {
        "id": "YIpgVjZIIorf"
      }
    },
    {
      "cell_type": "code",
      "source": [
        "from transformers import pipeline"
      ],
      "metadata": {
        "id": "KzJLsTXgG8xA"
      },
      "execution_count": 5,
      "outputs": []
    },
    {
      "cell_type": "code",
      "source": [
        "classifier = pipeline(\"text-classification\")"
      ],
      "metadata": {
        "colab": {
          "base_uri": "https://localhost:8080/"
        },
        "id": "yB61z09uHJ_l",
        "outputId": "72645924-db0f-4ed6-a1a4-ac8ba8b88674"
      },
      "execution_count": 6,
      "outputs": [
        {
          "output_type": "stream",
          "name": "stderr",
          "text": [
            "No model was supplied, defaulted to distilbert-base-uncased-finetuned-sst-2-english (https://huggingface.co/distilbert-base-uncased-finetuned-sst-2-english)\n"
          ]
        }
      ]
    },
    {
      "cell_type": "code",
      "source": [
        "import pandas as pd\n",
        "outputs = classifier(text)\n",
        "pd.DataFrame(outputs)"
      ],
      "metadata": {
        "colab": {
          "base_uri": "https://localhost:8080/",
          "height": 81
        },
        "id": "LHOrBveiHK3J",
        "outputId": "c328a215-6830-4401-f2e8-0632ddb47028"
      },
      "execution_count": 7,
      "outputs": [
        {
          "output_type": "execute_result",
          "data": {
            "text/plain": [
              "      label     score\n",
              "0  NEGATIVE  0.901546"
            ],
            "text/html": [
              "\n",
              "  <div id=\"df-20bb65d9-b22c-4b72-9623-7b8cef8cf004\">\n",
              "    <div class=\"colab-df-container\">\n",
              "      <div>\n",
              "<style scoped>\n",
              "    .dataframe tbody tr th:only-of-type {\n",
              "        vertical-align: middle;\n",
              "    }\n",
              "\n",
              "    .dataframe tbody tr th {\n",
              "        vertical-align: top;\n",
              "    }\n",
              "\n",
              "    .dataframe thead th {\n",
              "        text-align: right;\n",
              "    }\n",
              "</style>\n",
              "<table border=\"1\" class=\"dataframe\">\n",
              "  <thead>\n",
              "    <tr style=\"text-align: right;\">\n",
              "      <th></th>\n",
              "      <th>label</th>\n",
              "      <th>score</th>\n",
              "    </tr>\n",
              "  </thead>\n",
              "  <tbody>\n",
              "    <tr>\n",
              "      <th>0</th>\n",
              "      <td>NEGATIVE</td>\n",
              "      <td>0.901546</td>\n",
              "    </tr>\n",
              "  </tbody>\n",
              "</table>\n",
              "</div>\n",
              "      <button class=\"colab-df-convert\" onclick=\"convertToInteractive('df-20bb65d9-b22c-4b72-9623-7b8cef8cf004')\"\n",
              "              title=\"Convert this dataframe to an interactive table.\"\n",
              "              style=\"display:none;\">\n",
              "        \n",
              "  <svg xmlns=\"http://www.w3.org/2000/svg\" height=\"24px\"viewBox=\"0 0 24 24\"\n",
              "       width=\"24px\">\n",
              "    <path d=\"M0 0h24v24H0V0z\" fill=\"none\"/>\n",
              "    <path d=\"M18.56 5.44l.94 2.06.94-2.06 2.06-.94-2.06-.94-.94-2.06-.94 2.06-2.06.94zm-11 1L8.5 8.5l.94-2.06 2.06-.94-2.06-.94L8.5 2.5l-.94 2.06-2.06.94zm10 10l.94 2.06.94-2.06 2.06-.94-2.06-.94-.94-2.06-.94 2.06-2.06.94z\"/><path d=\"M17.41 7.96l-1.37-1.37c-.4-.4-.92-.59-1.43-.59-.52 0-1.04.2-1.43.59L10.3 9.45l-7.72 7.72c-.78.78-.78 2.05 0 2.83L4 21.41c.39.39.9.59 1.41.59.51 0 1.02-.2 1.41-.59l7.78-7.78 2.81-2.81c.8-.78.8-2.07 0-2.86zM5.41 20L4 18.59l7.72-7.72 1.47 1.35L5.41 20z\"/>\n",
              "  </svg>\n",
              "      </button>\n",
              "      \n",
              "  <style>\n",
              "    .colab-df-container {\n",
              "      display:flex;\n",
              "      flex-wrap:wrap;\n",
              "      gap: 12px;\n",
              "    }\n",
              "\n",
              "    .colab-df-convert {\n",
              "      background-color: #E8F0FE;\n",
              "      border: none;\n",
              "      border-radius: 50%;\n",
              "      cursor: pointer;\n",
              "      display: none;\n",
              "      fill: #1967D2;\n",
              "      height: 32px;\n",
              "      padding: 0 0 0 0;\n",
              "      width: 32px;\n",
              "    }\n",
              "\n",
              "    .colab-df-convert:hover {\n",
              "      background-color: #E2EBFA;\n",
              "      box-shadow: 0px 1px 2px rgba(60, 64, 67, 0.3), 0px 1px 3px 1px rgba(60, 64, 67, 0.15);\n",
              "      fill: #174EA6;\n",
              "    }\n",
              "\n",
              "    [theme=dark] .colab-df-convert {\n",
              "      background-color: #3B4455;\n",
              "      fill: #D2E3FC;\n",
              "    }\n",
              "\n",
              "    [theme=dark] .colab-df-convert:hover {\n",
              "      background-color: #434B5C;\n",
              "      box-shadow: 0px 1px 3px 1px rgba(0, 0, 0, 0.15);\n",
              "      filter: drop-shadow(0px 1px 2px rgba(0, 0, 0, 0.3));\n",
              "      fill: #FFFFFF;\n",
              "    }\n",
              "  </style>\n",
              "\n",
              "      <script>\n",
              "        const buttonEl =\n",
              "          document.querySelector('#df-20bb65d9-b22c-4b72-9623-7b8cef8cf004 button.colab-df-convert');\n",
              "        buttonEl.style.display =\n",
              "          google.colab.kernel.accessAllowed ? 'block' : 'none';\n",
              "\n",
              "        async function convertToInteractive(key) {\n",
              "          const element = document.querySelector('#df-20bb65d9-b22c-4b72-9623-7b8cef8cf004');\n",
              "          const dataTable =\n",
              "            await google.colab.kernel.invokeFunction('convertToInteractive',\n",
              "                                                     [key], {});\n",
              "          if (!dataTable) return;\n",
              "\n",
              "          const docLinkHtml = 'Like what you see? Visit the ' +\n",
              "            '<a target=\"_blank\" href=https://colab.research.google.com/notebooks/data_table.ipynb>data table notebook</a>'\n",
              "            + ' to learn more about interactive tables.';\n",
              "          element.innerHTML = '';\n",
              "          dataTable['output_type'] = 'display_data';\n",
              "          await google.colab.output.renderOutput(dataTable, element);\n",
              "          const docLink = document.createElement('div');\n",
              "          docLink.innerHTML = docLinkHtml;\n",
              "          element.appendChild(docLink);\n",
              "        }\n",
              "      </script>\n",
              "    </div>\n",
              "  </div>\n",
              "  "
            ]
          },
          "metadata": {},
          "execution_count": 7
        }
      ]
    },
    {
      "cell_type": "markdown",
      "source": [
        "##Named Entity Recognition"
      ],
      "metadata": {
        "id": "TwToeN-pIzdz"
      }
    },
    {
      "cell_type": "code",
      "source": [
        "ner_tagger = pipeline(\"ner\", aggregation_strategy=\"simple\")"
      ],
      "metadata": {
        "colab": {
          "base_uri": "https://localhost:8080/"
        },
        "id": "2Ih-VX66HODF",
        "outputId": "a09a75bc-5358-4225-8a32-3cc51720380e"
      },
      "execution_count": 8,
      "outputs": [
        {
          "output_type": "stream",
          "name": "stderr",
          "text": [
            "No model was supplied, defaulted to dbmdz/bert-large-cased-finetuned-conll03-english (https://huggingface.co/dbmdz/bert-large-cased-finetuned-conll03-english)\n"
          ]
        }
      ]
    },
    {
      "cell_type": "code",
      "source": [
        "outputs = ner_tagger(text)\n",
        "pd.DataFrame(outputs)"
      ],
      "metadata": {
        "colab": {
          "base_uri": "https://localhost:8080/",
          "height": 363
        },
        "id": "FfkH99e9IyWP",
        "outputId": "9fcb949a-fc9a-41f8-ea28-e6ab7eca026f"
      },
      "execution_count": 9,
      "outputs": [
        {
          "output_type": "execute_result",
          "data": {
            "text/plain": [
              "  entity_group     score           word  start  end\n",
              "0          ORG  0.879011         Amazon      5   11\n",
              "1         MISC  0.990859  Optimus Prime     36   49\n",
              "2          LOC  0.999755        Germany     90   97\n",
              "3         MISC  0.556571           Mega    208  212\n",
              "4          PER  0.590255         ##tron    212  216\n",
              "5          ORG  0.669693         Decept    253  259\n",
              "6         MISC  0.498349        ##icons    259  264\n",
              "7         MISC  0.775362       Megatron    350  358\n",
              "8         MISC  0.987854  Optimus Prime    367  380\n",
              "9          PER  0.812096      Bumblebee    502  511"
            ],
            "text/html": [
              "\n",
              "  <div id=\"df-973305a7-c345-43db-ad80-cc7ac23a9230\">\n",
              "    <div class=\"colab-df-container\">\n",
              "      <div>\n",
              "<style scoped>\n",
              "    .dataframe tbody tr th:only-of-type {\n",
              "        vertical-align: middle;\n",
              "    }\n",
              "\n",
              "    .dataframe tbody tr th {\n",
              "        vertical-align: top;\n",
              "    }\n",
              "\n",
              "    .dataframe thead th {\n",
              "        text-align: right;\n",
              "    }\n",
              "</style>\n",
              "<table border=\"1\" class=\"dataframe\">\n",
              "  <thead>\n",
              "    <tr style=\"text-align: right;\">\n",
              "      <th></th>\n",
              "      <th>entity_group</th>\n",
              "      <th>score</th>\n",
              "      <th>word</th>\n",
              "      <th>start</th>\n",
              "      <th>end</th>\n",
              "    </tr>\n",
              "  </thead>\n",
              "  <tbody>\n",
              "    <tr>\n",
              "      <th>0</th>\n",
              "      <td>ORG</td>\n",
              "      <td>0.879011</td>\n",
              "      <td>Amazon</td>\n",
              "      <td>5</td>\n",
              "      <td>11</td>\n",
              "    </tr>\n",
              "    <tr>\n",
              "      <th>1</th>\n",
              "      <td>MISC</td>\n",
              "      <td>0.990859</td>\n",
              "      <td>Optimus Prime</td>\n",
              "      <td>36</td>\n",
              "      <td>49</td>\n",
              "    </tr>\n",
              "    <tr>\n",
              "      <th>2</th>\n",
              "      <td>LOC</td>\n",
              "      <td>0.999755</td>\n",
              "      <td>Germany</td>\n",
              "      <td>90</td>\n",
              "      <td>97</td>\n",
              "    </tr>\n",
              "    <tr>\n",
              "      <th>3</th>\n",
              "      <td>MISC</td>\n",
              "      <td>0.556571</td>\n",
              "      <td>Mega</td>\n",
              "      <td>208</td>\n",
              "      <td>212</td>\n",
              "    </tr>\n",
              "    <tr>\n",
              "      <th>4</th>\n",
              "      <td>PER</td>\n",
              "      <td>0.590255</td>\n",
              "      <td>##tron</td>\n",
              "      <td>212</td>\n",
              "      <td>216</td>\n",
              "    </tr>\n",
              "    <tr>\n",
              "      <th>5</th>\n",
              "      <td>ORG</td>\n",
              "      <td>0.669693</td>\n",
              "      <td>Decept</td>\n",
              "      <td>253</td>\n",
              "      <td>259</td>\n",
              "    </tr>\n",
              "    <tr>\n",
              "      <th>6</th>\n",
              "      <td>MISC</td>\n",
              "      <td>0.498349</td>\n",
              "      <td>##icons</td>\n",
              "      <td>259</td>\n",
              "      <td>264</td>\n",
              "    </tr>\n",
              "    <tr>\n",
              "      <th>7</th>\n",
              "      <td>MISC</td>\n",
              "      <td>0.775362</td>\n",
              "      <td>Megatron</td>\n",
              "      <td>350</td>\n",
              "      <td>358</td>\n",
              "    </tr>\n",
              "    <tr>\n",
              "      <th>8</th>\n",
              "      <td>MISC</td>\n",
              "      <td>0.987854</td>\n",
              "      <td>Optimus Prime</td>\n",
              "      <td>367</td>\n",
              "      <td>380</td>\n",
              "    </tr>\n",
              "    <tr>\n",
              "      <th>9</th>\n",
              "      <td>PER</td>\n",
              "      <td>0.812096</td>\n",
              "      <td>Bumblebee</td>\n",
              "      <td>502</td>\n",
              "      <td>511</td>\n",
              "    </tr>\n",
              "  </tbody>\n",
              "</table>\n",
              "</div>\n",
              "      <button class=\"colab-df-convert\" onclick=\"convertToInteractive('df-973305a7-c345-43db-ad80-cc7ac23a9230')\"\n",
              "              title=\"Convert this dataframe to an interactive table.\"\n",
              "              style=\"display:none;\">\n",
              "        \n",
              "  <svg xmlns=\"http://www.w3.org/2000/svg\" height=\"24px\"viewBox=\"0 0 24 24\"\n",
              "       width=\"24px\">\n",
              "    <path d=\"M0 0h24v24H0V0z\" fill=\"none\"/>\n",
              "    <path d=\"M18.56 5.44l.94 2.06.94-2.06 2.06-.94-2.06-.94-.94-2.06-.94 2.06-2.06.94zm-11 1L8.5 8.5l.94-2.06 2.06-.94-2.06-.94L8.5 2.5l-.94 2.06-2.06.94zm10 10l.94 2.06.94-2.06 2.06-.94-2.06-.94-.94-2.06-.94 2.06-2.06.94z\"/><path d=\"M17.41 7.96l-1.37-1.37c-.4-.4-.92-.59-1.43-.59-.52 0-1.04.2-1.43.59L10.3 9.45l-7.72 7.72c-.78.78-.78 2.05 0 2.83L4 21.41c.39.39.9.59 1.41.59.51 0 1.02-.2 1.41-.59l7.78-7.78 2.81-2.81c.8-.78.8-2.07 0-2.86zM5.41 20L4 18.59l7.72-7.72 1.47 1.35L5.41 20z\"/>\n",
              "  </svg>\n",
              "      </button>\n",
              "      \n",
              "  <style>\n",
              "    .colab-df-container {\n",
              "      display:flex;\n",
              "      flex-wrap:wrap;\n",
              "      gap: 12px;\n",
              "    }\n",
              "\n",
              "    .colab-df-convert {\n",
              "      background-color: #E8F0FE;\n",
              "      border: none;\n",
              "      border-radius: 50%;\n",
              "      cursor: pointer;\n",
              "      display: none;\n",
              "      fill: #1967D2;\n",
              "      height: 32px;\n",
              "      padding: 0 0 0 0;\n",
              "      width: 32px;\n",
              "    }\n",
              "\n",
              "    .colab-df-convert:hover {\n",
              "      background-color: #E2EBFA;\n",
              "      box-shadow: 0px 1px 2px rgba(60, 64, 67, 0.3), 0px 1px 3px 1px rgba(60, 64, 67, 0.15);\n",
              "      fill: #174EA6;\n",
              "    }\n",
              "\n",
              "    [theme=dark] .colab-df-convert {\n",
              "      background-color: #3B4455;\n",
              "      fill: #D2E3FC;\n",
              "    }\n",
              "\n",
              "    [theme=dark] .colab-df-convert:hover {\n",
              "      background-color: #434B5C;\n",
              "      box-shadow: 0px 1px 3px 1px rgba(0, 0, 0, 0.15);\n",
              "      filter: drop-shadow(0px 1px 2px rgba(0, 0, 0, 0.3));\n",
              "      fill: #FFFFFF;\n",
              "    }\n",
              "  </style>\n",
              "\n",
              "      <script>\n",
              "        const buttonEl =\n",
              "          document.querySelector('#df-973305a7-c345-43db-ad80-cc7ac23a9230 button.colab-df-convert');\n",
              "        buttonEl.style.display =\n",
              "          google.colab.kernel.accessAllowed ? 'block' : 'none';\n",
              "\n",
              "        async function convertToInteractive(key) {\n",
              "          const element = document.querySelector('#df-973305a7-c345-43db-ad80-cc7ac23a9230');\n",
              "          const dataTable =\n",
              "            await google.colab.kernel.invokeFunction('convertToInteractive',\n",
              "                                                     [key], {});\n",
              "          if (!dataTable) return;\n",
              "\n",
              "          const docLinkHtml = 'Like what you see? Visit the ' +\n",
              "            '<a target=\"_blank\" href=https://colab.research.google.com/notebooks/data_table.ipynb>data table notebook</a>'\n",
              "            + ' to learn more about interactive tables.';\n",
              "          element.innerHTML = '';\n",
              "          dataTable['output_type'] = 'display_data';\n",
              "          await google.colab.output.renderOutput(dataTable, element);\n",
              "          const docLink = document.createElement('div');\n",
              "          docLink.innerHTML = docLinkHtml;\n",
              "          element.appendChild(docLink);\n",
              "        }\n",
              "      </script>\n",
              "    </div>\n",
              "  </div>\n",
              "  "
            ]
          },
          "metadata": {},
          "execution_count": 9
        }
      ]
    },
    {
      "cell_type": "markdown",
      "source": [
        "##Question Answering"
      ],
      "metadata": {
        "id": "yfBkvOlmI-CD"
      }
    },
    {
      "cell_type": "code",
      "source": [
        "reader = pipeline(\"question-answering\")"
      ],
      "metadata": {
        "colab": {
          "base_uri": "https://localhost:8080/"
        },
        "id": "IjNfJoePHtDX",
        "outputId": "8bab9108-194a-4e98-eb5b-a21eb5d78508"
      },
      "execution_count": 10,
      "outputs": [
        {
          "output_type": "stream",
          "name": "stderr",
          "text": [
            "No model was supplied, defaulted to distilbert-base-cased-distilled-squad (https://huggingface.co/distilbert-base-cased-distilled-squad)\n"
          ]
        }
      ]
    },
    {
      "cell_type": "code",
      "source": [
        "question = \"What does the customer want?\"\n",
        "outputs = reader(question=question, context=text)\n",
        "pd.DataFrame([outputs])"
      ],
      "metadata": {
        "colab": {
          "base_uri": "https://localhost:8080/",
          "height": 81
        },
        "id": "dURSaIrRI7xb",
        "outputId": "2d368e1d-133f-44b5-f021-654ed5510fde"
      },
      "execution_count": 11,
      "outputs": [
        {
          "output_type": "execute_result",
          "data": {
            "text/plain": [
              "      score  start  end                   answer\n",
              "0  0.631292    335  358  an exchange of Megatron"
            ],
            "text/html": [
              "\n",
              "  <div id=\"df-eb013b98-e81a-40c1-9a47-a6b179f58f60\">\n",
              "    <div class=\"colab-df-container\">\n",
              "      <div>\n",
              "<style scoped>\n",
              "    .dataframe tbody tr th:only-of-type {\n",
              "        vertical-align: middle;\n",
              "    }\n",
              "\n",
              "    .dataframe tbody tr th {\n",
              "        vertical-align: top;\n",
              "    }\n",
              "\n",
              "    .dataframe thead th {\n",
              "        text-align: right;\n",
              "    }\n",
              "</style>\n",
              "<table border=\"1\" class=\"dataframe\">\n",
              "  <thead>\n",
              "    <tr style=\"text-align: right;\">\n",
              "      <th></th>\n",
              "      <th>score</th>\n",
              "      <th>start</th>\n",
              "      <th>end</th>\n",
              "      <th>answer</th>\n",
              "    </tr>\n",
              "  </thead>\n",
              "  <tbody>\n",
              "    <tr>\n",
              "      <th>0</th>\n",
              "      <td>0.631292</td>\n",
              "      <td>335</td>\n",
              "      <td>358</td>\n",
              "      <td>an exchange of Megatron</td>\n",
              "    </tr>\n",
              "  </tbody>\n",
              "</table>\n",
              "</div>\n",
              "      <button class=\"colab-df-convert\" onclick=\"convertToInteractive('df-eb013b98-e81a-40c1-9a47-a6b179f58f60')\"\n",
              "              title=\"Convert this dataframe to an interactive table.\"\n",
              "              style=\"display:none;\">\n",
              "        \n",
              "  <svg xmlns=\"http://www.w3.org/2000/svg\" height=\"24px\"viewBox=\"0 0 24 24\"\n",
              "       width=\"24px\">\n",
              "    <path d=\"M0 0h24v24H0V0z\" fill=\"none\"/>\n",
              "    <path d=\"M18.56 5.44l.94 2.06.94-2.06 2.06-.94-2.06-.94-.94-2.06-.94 2.06-2.06.94zm-11 1L8.5 8.5l.94-2.06 2.06-.94-2.06-.94L8.5 2.5l-.94 2.06-2.06.94zm10 10l.94 2.06.94-2.06 2.06-.94-2.06-.94-.94-2.06-.94 2.06-2.06.94z\"/><path d=\"M17.41 7.96l-1.37-1.37c-.4-.4-.92-.59-1.43-.59-.52 0-1.04.2-1.43.59L10.3 9.45l-7.72 7.72c-.78.78-.78 2.05 0 2.83L4 21.41c.39.39.9.59 1.41.59.51 0 1.02-.2 1.41-.59l7.78-7.78 2.81-2.81c.8-.78.8-2.07 0-2.86zM5.41 20L4 18.59l7.72-7.72 1.47 1.35L5.41 20z\"/>\n",
              "  </svg>\n",
              "      </button>\n",
              "      \n",
              "  <style>\n",
              "    .colab-df-container {\n",
              "      display:flex;\n",
              "      flex-wrap:wrap;\n",
              "      gap: 12px;\n",
              "    }\n",
              "\n",
              "    .colab-df-convert {\n",
              "      background-color: #E8F0FE;\n",
              "      border: none;\n",
              "      border-radius: 50%;\n",
              "      cursor: pointer;\n",
              "      display: none;\n",
              "      fill: #1967D2;\n",
              "      height: 32px;\n",
              "      padding: 0 0 0 0;\n",
              "      width: 32px;\n",
              "    }\n",
              "\n",
              "    .colab-df-convert:hover {\n",
              "      background-color: #E2EBFA;\n",
              "      box-shadow: 0px 1px 2px rgba(60, 64, 67, 0.3), 0px 1px 3px 1px rgba(60, 64, 67, 0.15);\n",
              "      fill: #174EA6;\n",
              "    }\n",
              "\n",
              "    [theme=dark] .colab-df-convert {\n",
              "      background-color: #3B4455;\n",
              "      fill: #D2E3FC;\n",
              "    }\n",
              "\n",
              "    [theme=dark] .colab-df-convert:hover {\n",
              "      background-color: #434B5C;\n",
              "      box-shadow: 0px 1px 3px 1px rgba(0, 0, 0, 0.15);\n",
              "      filter: drop-shadow(0px 1px 2px rgba(0, 0, 0, 0.3));\n",
              "      fill: #FFFFFF;\n",
              "    }\n",
              "  </style>\n",
              "\n",
              "      <script>\n",
              "        const buttonEl =\n",
              "          document.querySelector('#df-eb013b98-e81a-40c1-9a47-a6b179f58f60 button.colab-df-convert');\n",
              "        buttonEl.style.display =\n",
              "          google.colab.kernel.accessAllowed ? 'block' : 'none';\n",
              "\n",
              "        async function convertToInteractive(key) {\n",
              "          const element = document.querySelector('#df-eb013b98-e81a-40c1-9a47-a6b179f58f60');\n",
              "          const dataTable =\n",
              "            await google.colab.kernel.invokeFunction('convertToInteractive',\n",
              "                                                     [key], {});\n",
              "          if (!dataTable) return;\n",
              "\n",
              "          const docLinkHtml = 'Like what you see? Visit the ' +\n",
              "            '<a target=\"_blank\" href=https://colab.research.google.com/notebooks/data_table.ipynb>data table notebook</a>'\n",
              "            + ' to learn more about interactive tables.';\n",
              "          element.innerHTML = '';\n",
              "          dataTable['output_type'] = 'display_data';\n",
              "          await google.colab.output.renderOutput(dataTable, element);\n",
              "          const docLink = document.createElement('div');\n",
              "          docLink.innerHTML = docLinkHtml;\n",
              "          element.appendChild(docLink);\n",
              "        }\n",
              "      </script>\n",
              "    </div>\n",
              "  </div>\n",
              "  "
            ]
          },
          "metadata": {},
          "execution_count": 11
        }
      ]
    },
    {
      "cell_type": "markdown",
      "source": [
        "##Summarization"
      ],
      "metadata": {
        "id": "M-4GkytWJAvj"
      }
    },
    {
      "cell_type": "code",
      "source": [
        "summarizer = pipeline(\"summarization\")\n",
        "outputs = summarizer(text, max_length=56, clean_up_tokenization_spaces=True)"
      ],
      "metadata": {
        "colab": {
          "base_uri": "https://localhost:8080/"
        },
        "id": "GjEhAllbHtGU",
        "outputId": "3e8f1b75-bb22-4441-ad48-889bb24f4d60"
      },
      "execution_count": 12,
      "outputs": [
        {
          "output_type": "stream",
          "name": "stderr",
          "text": [
            "No model was supplied, defaulted to sshleifer/distilbart-cnn-12-6 (https://huggingface.co/sshleifer/distilbart-cnn-12-6)\n"
          ]
        }
      ]
    },
    {
      "cell_type": "code",
      "source": [
        "print(outputs[0]['summary_text'])"
      ],
      "metadata": {
        "colab": {
          "base_uri": "https://localhost:8080/"
        },
        "id": "uIwRSvcvHtI8",
        "outputId": "be327915-5eac-4796-ad4a-9471273c17b5"
      },
      "execution_count": 13,
      "outputs": [
        {
          "output_type": "stream",
          "name": "stdout",
          "text": [
            " Bumblebee ordered an Optimus Prime action figure from your online store in Germany. Unfortunately, when I opened the package, I discovered to my horror that I had been sent an action figure of Megatron instead. As a lifelong enemy of the Decepticons, I\n"
          ]
        }
      ]
    },
    {
      "cell_type": "markdown",
      "source": [
        "##Translation"
      ],
      "metadata": {
        "id": "-2how0nbJDre"
      }
    },
    {
      "cell_type": "code",
      "source": [
        "translator = pipeline(\"translation_en_to_de\", model=\"Helsinki-NLP/opus-mt-en-de\")"
      ],
      "metadata": {
        "id": "MDcZEIQUIl43"
      },
      "execution_count": 14,
      "outputs": []
    },
    {
      "cell_type": "code",
      "source": [
        "outputs = translator(text, clean_up_tokenization_spaces=True, min_length=100)\n",
        "print(outputs[0]['translation_text'])"
      ],
      "metadata": {
        "colab": {
          "base_uri": "https://localhost:8080/"
        },
        "id": "Hd2IKEKKIlvA",
        "outputId": "c4c5e049-5f87-4aba-9e1c-480a8fa09305"
      },
      "execution_count": 15,
      "outputs": [
        {
          "output_type": "stream",
          "name": "stdout",
          "text": [
            "Sehr geehrter Amazon, letzte Woche habe ich eine Optimus Prime Action Figur aus Ihrem Online-Shop in Deutschland bestellt. Leider, als ich das Paket öffnete, entdeckte ich zu meinem Entsetzen, dass ich stattdessen eine Action Figur von Megatron geschickt worden war! Als lebenslanger Feind der Decepticons, Ich hoffe, Sie können mein Dilemma verstehen. Um das Problem zu lösen, Ich fordere einen Austausch von Megatron für die Optimus Prime Figur habe ich bestellt. Anbei sind Kopien meiner Aufzeichnungen über diesen Kauf. Ich erwarte, bald von Ihnen zu hören. Aufrichtig, Bumblebee.\n"
          ]
        }
      ]
    },
    {
      "cell_type": "code",
      "source": [
        "from transformers import pipeline\n",
        "translator_de = pipeline(task='translation_en_to_de')\n",
        "\n",
        "text_en = \"The 2019–20 coronavirus pandemic is an ongoing pandemic of coronavirus disease 2019 (COVID-19), caused by severe acute respiratory syndrome coronavirus 2 (SARS-CoV-2).[6] The outbreak was first identified in Wuhan, Hubei, China, in December 2019. The World Health Organization (WHO) declared the outbreak to be a Public Health Emergency of International Concern on 30 January 2020 and recognized it as a pandemic on 11 March.[7][8] As of 30 March 2020, more than 745,000[4] cases of COVID-19 have been reported in over 190 countries and territories, resulting in approximately 35,000[4] deaths. More than 156,500[4] people have since recovered.[5]\"\n",
        "\n",
        "translation_list = []\n",
        "text_list = text_en.split('.')\n",
        "\n",
        "for text in text_list:\n",
        "    translation_list.append(translator_de(text + '.'))"
      ],
      "metadata": {
        "colab": {
          "base_uri": "https://localhost:8080/"
        },
        "id": "oDk_-f8ELuLQ",
        "outputId": "91ca9542-c258-4a59-c1cf-1d439cf76354"
      },
      "execution_count": 16,
      "outputs": [
        {
          "output_type": "stream",
          "name": "stderr",
          "text": [
            "No model was supplied, defaulted to t5-base (https://huggingface.co/t5-base)\n"
          ]
        }
      ]
    },
    {
      "cell_type": "code",
      "source": [
        "print(translation_list)"
      ],
      "metadata": {
        "colab": {
          "base_uri": "https://localhost:8080/"
        },
        "id": "zywCfOfNL-eh",
        "outputId": "668fa3f8-8d4e-49b9-86a7-959d32159a95"
      },
      "execution_count": 17,
      "outputs": [
        {
          "output_type": "stream",
          "name": "stdout",
          "text": [
            "[[{'translation_text': 'Die Koronavirus-Pandemie 2019–20 ist eine anhaltende Pandemie der Koronavirus-Krankheit 2019 (COVID-19), verursacht durch das schwere akute Atemwegssyndrom Koronavirus 2 (SARS-CoV-2).'}], [{'translation_text': '[6] Der Ausbruch wurde erstmals im Dezember 2019 in Wuhan, Hubei, China, festgestellt.'}], [{'translation_text': 'Die Weltgesundheitsorganisation (WHO) hat den Ausbruch am 30. Januar 2020 als öffentlichen Gesundheitsnotstand von internationaler Bedeutung erklärt und ihn am 11. März als Pandemie anerkannt.'}], [{'translation_text': '[7][8] Zum 30. März 2020 wurden in über 190 Ländern und Gebieten mehr als 745 000 Fälle von COVID-19 gemeldet, was zu etwa 35 000 Todesfällen führte.'}], [{'translation_text': 'Mehr als 156.500[4] Menschen haben sich seitdem erholt.'}], [{'translation_text': '[5].'}]]\n"
          ]
        }
      ]
    },
    {
      "cell_type": "markdown",
      "source": [
        "##Text Generation"
      ],
      "metadata": {
        "id": "NvksgrSpL4lU"
      }
    },
    {
      "cell_type": "code",
      "source": [
        "generator = pipeline(\"text-generation\")"
      ],
      "metadata": {
        "colab": {
          "base_uri": "https://localhost:8080/"
        },
        "id": "uBW7V4JpHnLJ",
        "outputId": "eeecd37b-552c-491c-ee49-ba4397345ec6"
      },
      "execution_count": 18,
      "outputs": [
        {
          "output_type": "stream",
          "name": "stderr",
          "text": [
            "No model was supplied, defaulted to gpt2 (https://huggingface.co/gpt2)\n"
          ]
        }
      ]
    },
    {
      "cell_type": "code",
      "source": [
        "response = \"Dear Bumblebee, I am sorry to hear that your order was mixed up.\"\n",
        "prompt = text + \"\\n\\nCustomer service response:\\n\" + response\n",
        "outputs = generator(prompt, max_length=200)\n",
        "print(outputs[0]['generated_text'])"
      ],
      "metadata": {
        "colab": {
          "base_uri": "https://localhost:8080/"
        },
        "id": "bH5TOXceMHqt",
        "outputId": "d2a456e0-86c6-4e2a-e141-0b25c3a299f1"
      },
      "execution_count": 19,
      "outputs": [
        {
          "output_type": "stream",
          "name": "stderr",
          "text": [
            "Setting `pad_token_id` to `eos_token_id`:50256 for open-end generation.\n"
          ]
        },
        {
          "output_type": "stream",
          "name": "stdout",
          "text": [
            "[5]\n",
            "\n",
            "Customer service response:\n",
            "Dear Bumblebee, I am sorry to hear that your order was mixed up. My order did not arrive in time for the holiday weekend. During the holiday you asked again for different information. I apologize at first, but your response is very helpful. I made the purchase at an on-line checkout, a lot of different items (more than a few hundred) went into the package and I wasn't given the information on the same line. After some research into who was responsible for mixing up the order, my original order was not received. My order had originally arrived from Texas but was picked up at 8:00 and then delivered by 3:45 pm and a few hours later, I received a box containing a plastic check and a handwritten note.\n",
            "\n",
            "I am deeply sorry that the order and instructions were not being sent as quickly as you stated in the e-mail. Thank you for your patience on my behalf and for helping me\n"
          ]
        }
      ]
    },
    {
      "cell_type": "markdown",
      "source": [
        "#Hugging Face Datasets"
      ],
      "metadata": {
        "id": "d6ZsTVy7V3OG"
      }
    },
    {
      "cell_type": "code",
      "source": [
        "!pip install datasets --quiet"
      ],
      "metadata": {
        "id": "Vt9gQ5aqiu4j"
      },
      "execution_count": 20,
      "outputs": []
    },
    {
      "cell_type": "code",
      "source": [
        "from datasets import list_datasets\n",
        "all_datasets = list_datasets()"
      ],
      "metadata": {
        "id": "8xEkeFa3isUM"
      },
      "execution_count": 21,
      "outputs": []
    },
    {
      "cell_type": "code",
      "source": [
        "print(f\"There are {len(all_datasets)} datasets currently available on the Hub\")\n",
        "print(f\"The first 10 are: {all_datasets[:10]}\")"
      ],
      "metadata": {
        "colab": {
          "base_uri": "https://localhost:8080/"
        },
        "id": "cK4HTAwgi08W",
        "outputId": "e83dc8a2-952e-496e-cd04-a8650cca45b9"
      },
      "execution_count": 22,
      "outputs": [
        {
          "output_type": "stream",
          "name": "stdout",
          "text": [
            "There are 12138 datasets currently available on the Hub\n",
            "The first 10 are: ['acronym_identification', 'ade_corpus_v2', 'adversarial_qa', 'aeslc', 'afrikaans_ner_corpus', 'ag_news', 'ai2_arc', 'air_dialogue', 'ajgt_twitter_ar', 'allegro_reviews']\n"
          ]
        }
      ]
    },
    {
      "cell_type": "code",
      "source": [
        "from datasets import load_dataset\n",
        "emotions = load_dataset(\"emotion\")"
      ],
      "metadata": {
        "colab": {
          "base_uri": "https://localhost:8080/",
          "height": 105,
          "referenced_widgets": [
            "6d765209f2ee47ee8bf1ac8b41b5795b",
            "06ab1af3e59046508d87edac509ebbbb",
            "9feaf6250252481e8a90603e07e247e3",
            "175dca9027bf4473a2ebf286a7e1ddc1",
            "8c015fc3176e451f9dba1d928831afb7",
            "6727e1ab96ac47d3b057a0a03ef8783b",
            "239fde78de404ed8842a31d0374ffb34",
            "711734dc23a941b89f4b4a499a916761",
            "c70e9170c8514dc3b72098bbffef2a59",
            "66acf14577fe45638a0987c8d563ea6c",
            "b37f0cca60664832ab799bc615fa25a8"
          ]
        },
        "id": "b2dyjo0Vi6Kr",
        "outputId": "cc714be9-3b05-4a1c-9a5c-2cc1f2e0e396"
      },
      "execution_count": 23,
      "outputs": [
        {
          "output_type": "stream",
          "name": "stderr",
          "text": [
            "WARNING:datasets.builder:Using custom data configuration default\n",
            "WARNING:datasets.builder:Reusing dataset emotion (/root/.cache/huggingface/datasets/emotion/default/0.0.0/348f63ca8e27b3713b6c04d723efe6d824a56fb3d1449794716c0f0296072705)\n"
          ]
        },
        {
          "output_type": "display_data",
          "data": {
            "text/plain": [
              "  0%|          | 0/3 [00:00<?, ?it/s]"
            ],
            "application/vnd.jupyter.widget-view+json": {
              "version_major": 2,
              "version_minor": 0,
              "model_id": "6d765209f2ee47ee8bf1ac8b41b5795b"
            }
          },
          "metadata": {}
        }
      ]
    },
    {
      "cell_type": "code",
      "source": [
        "emotions"
      ],
      "metadata": {
        "colab": {
          "base_uri": "https://localhost:8080/"
        },
        "id": "uQdWQt8bi_MY",
        "outputId": "365c4ba6-9670-4922-b09d-2908b55256a1"
      },
      "execution_count": 24,
      "outputs": [
        {
          "output_type": "execute_result",
          "data": {
            "text/plain": [
              "DatasetDict({\n",
              "    train: Dataset({\n",
              "        features: ['text', 'label'],\n",
              "        num_rows: 16000\n",
              "    })\n",
              "    validation: Dataset({\n",
              "        features: ['text', 'label'],\n",
              "        num_rows: 2000\n",
              "    })\n",
              "    test: Dataset({\n",
              "        features: ['text', 'label'],\n",
              "        num_rows: 2000\n",
              "    })\n",
              "})"
            ]
          },
          "metadata": {},
          "execution_count": 24
        }
      ]
    },
    {
      "cell_type": "code",
      "source": [
        "train_ds = emotions[\"train\"]\n",
        "train_ds"
      ],
      "metadata": {
        "colab": {
          "base_uri": "https://localhost:8080/"
        },
        "id": "Z1zFI4ILjAqQ",
        "outputId": "0533039d-c32a-46c6-accc-9320745d3dc4"
      },
      "execution_count": 25,
      "outputs": [
        {
          "output_type": "execute_result",
          "data": {
            "text/plain": [
              "Dataset({\n",
              "    features: ['text', 'label'],\n",
              "    num_rows: 16000\n",
              "})"
            ]
          },
          "metadata": {},
          "execution_count": 25
        }
      ]
    },
    {
      "cell_type": "code",
      "source": [
        "len(train_ds)"
      ],
      "metadata": {
        "colab": {
          "base_uri": "https://localhost:8080/"
        },
        "id": "3QW6ATwgjE4m",
        "outputId": "d41a5d47-3c55-4298-c51f-22a459d419a7"
      },
      "execution_count": 26,
      "outputs": [
        {
          "output_type": "execute_result",
          "data": {
            "text/plain": [
              "16000"
            ]
          },
          "metadata": {},
          "execution_count": 26
        }
      ]
    },
    {
      "cell_type": "code",
      "source": [
        "train_ds[0]"
      ],
      "metadata": {
        "colab": {
          "base_uri": "https://localhost:8080/"
        },
        "id": "8hgs9y4njHFQ",
        "outputId": "20cf94a2-12a3-40bb-ac0e-cd4d44027d3e"
      },
      "execution_count": 27,
      "outputs": [
        {
          "output_type": "execute_result",
          "data": {
            "text/plain": [
              "{'text': 'i didnt feel humiliated', 'label': 0}"
            ]
          },
          "metadata": {},
          "execution_count": 27
        }
      ]
    },
    {
      "cell_type": "code",
      "source": [
        "train_ds.column_names"
      ],
      "metadata": {
        "colab": {
          "base_uri": "https://localhost:8080/"
        },
        "id": "WGq4QQAijITp",
        "outputId": "58aa4d9a-512d-4b19-ac56-e60d786f4ea6"
      },
      "execution_count": 28,
      "outputs": [
        {
          "output_type": "execute_result",
          "data": {
            "text/plain": [
              "['text', 'label']"
            ]
          },
          "metadata": {},
          "execution_count": 28
        }
      ]
    },
    {
      "cell_type": "code",
      "source": [
        "print(train_ds.features)"
      ],
      "metadata": {
        "colab": {
          "base_uri": "https://localhost:8080/"
        },
        "id": "PeLQ2qKUjKwz",
        "outputId": "19d326c8-9742-4ee6-cec7-8d69fcedb915"
      },
      "execution_count": 29,
      "outputs": [
        {
          "output_type": "stream",
          "name": "stdout",
          "text": [
            "{'text': Value(dtype='string', id=None), 'label': ClassLabel(num_classes=6, names=['sadness', 'joy', 'love', 'anger', 'fear', 'surprise'], names_file=None, id=None)}\n"
          ]
        }
      ]
    },
    {
      "cell_type": "code",
      "source": [
        "print(train_ds[:5])"
      ],
      "metadata": {
        "colab": {
          "base_uri": "https://localhost:8080/"
        },
        "id": "VRq7jUnRjNYK",
        "outputId": "4593b8b5-6fe7-4443-b29e-8eff8cf2b342"
      },
      "execution_count": 30,
      "outputs": [
        {
          "output_type": "stream",
          "name": "stdout",
          "text": [
            "{'text': ['i didnt feel humiliated', 'i can go from feeling so hopeless to so damned hopeful just from being around someone who cares and is awake', 'im grabbing a minute to post i feel greedy wrong', 'i am ever feeling nostalgic about the fireplace i will know that it is still on the property', 'i am feeling grouchy'], 'label': [0, 0, 3, 2, 3]}\n"
          ]
        }
      ]
    },
    {
      "cell_type": "code",
      "source": [
        "print(train_ds[\"text\"][:5])"
      ],
      "metadata": {
        "colab": {
          "base_uri": "https://localhost:8080/"
        },
        "id": "op5QmtjPjZP5",
        "outputId": "0ed9cee3-1930-468b-cae0-52af39f9b658"
      },
      "execution_count": 31,
      "outputs": [
        {
          "output_type": "stream",
          "name": "stdout",
          "text": [
            "['i didnt feel humiliated', 'i can go from feeling so hopeless to so damned hopeful just from being around someone who cares and is awake', 'im grabbing a minute to post i feel greedy wrong', 'i am ever feeling nostalgic about the fireplace i will know that it is still on the property', 'i am feeling grouchy']\n"
          ]
        }
      ]
    },
    {
      "cell_type": "markdown",
      "source": [
        "set_format: https://huggingface.co/docs/datasets/package_reference/main_classes#datasets.Dataset.set_format"
      ],
      "metadata": {
        "id": "ymDVUW70kaRH"
      }
    },
    {
      "cell_type": "code",
      "source": [
        "import pandas as pd\n",
        "emotions.set_format(type=\"pandas\")\n",
        "df = emotions[\"train\"][:]\n",
        "df.head()"
      ],
      "metadata": {
        "colab": {
          "base_uri": "https://localhost:8080/",
          "height": 206
        },
        "id": "dj1Cy3wvjcjj",
        "outputId": "f1559754-2800-4394-a801-efdaa3a00516"
      },
      "execution_count": 32,
      "outputs": [
        {
          "output_type": "execute_result",
          "data": {
            "text/plain": [
              "                                                text  label\n",
              "0                            i didnt feel humiliated      0\n",
              "1  i can go from feeling so hopeless to so damned...      0\n",
              "2   im grabbing a minute to post i feel greedy wrong      3\n",
              "3  i am ever feeling nostalgic about the fireplac...      2\n",
              "4                               i am feeling grouchy      3"
            ],
            "text/html": [
              "\n",
              "  <div id=\"df-f6d22376-09c7-4562-ad4c-4575ea3c5b35\">\n",
              "    <div class=\"colab-df-container\">\n",
              "      <div>\n",
              "<style scoped>\n",
              "    .dataframe tbody tr th:only-of-type {\n",
              "        vertical-align: middle;\n",
              "    }\n",
              "\n",
              "    .dataframe tbody tr th {\n",
              "        vertical-align: top;\n",
              "    }\n",
              "\n",
              "    .dataframe thead th {\n",
              "        text-align: right;\n",
              "    }\n",
              "</style>\n",
              "<table border=\"1\" class=\"dataframe\">\n",
              "  <thead>\n",
              "    <tr style=\"text-align: right;\">\n",
              "      <th></th>\n",
              "      <th>text</th>\n",
              "      <th>label</th>\n",
              "    </tr>\n",
              "  </thead>\n",
              "  <tbody>\n",
              "    <tr>\n",
              "      <th>0</th>\n",
              "      <td>i didnt feel humiliated</td>\n",
              "      <td>0</td>\n",
              "    </tr>\n",
              "    <tr>\n",
              "      <th>1</th>\n",
              "      <td>i can go from feeling so hopeless to so damned...</td>\n",
              "      <td>0</td>\n",
              "    </tr>\n",
              "    <tr>\n",
              "      <th>2</th>\n",
              "      <td>im grabbing a minute to post i feel greedy wrong</td>\n",
              "      <td>3</td>\n",
              "    </tr>\n",
              "    <tr>\n",
              "      <th>3</th>\n",
              "      <td>i am ever feeling nostalgic about the fireplac...</td>\n",
              "      <td>2</td>\n",
              "    </tr>\n",
              "    <tr>\n",
              "      <th>4</th>\n",
              "      <td>i am feeling grouchy</td>\n",
              "      <td>3</td>\n",
              "    </tr>\n",
              "  </tbody>\n",
              "</table>\n",
              "</div>\n",
              "      <button class=\"colab-df-convert\" onclick=\"convertToInteractive('df-f6d22376-09c7-4562-ad4c-4575ea3c5b35')\"\n",
              "              title=\"Convert this dataframe to an interactive table.\"\n",
              "              style=\"display:none;\">\n",
              "        \n",
              "  <svg xmlns=\"http://www.w3.org/2000/svg\" height=\"24px\"viewBox=\"0 0 24 24\"\n",
              "       width=\"24px\">\n",
              "    <path d=\"M0 0h24v24H0V0z\" fill=\"none\"/>\n",
              "    <path d=\"M18.56 5.44l.94 2.06.94-2.06 2.06-.94-2.06-.94-.94-2.06-.94 2.06-2.06.94zm-11 1L8.5 8.5l.94-2.06 2.06-.94-2.06-.94L8.5 2.5l-.94 2.06-2.06.94zm10 10l.94 2.06.94-2.06 2.06-.94-2.06-.94-.94-2.06-.94 2.06-2.06.94z\"/><path d=\"M17.41 7.96l-1.37-1.37c-.4-.4-.92-.59-1.43-.59-.52 0-1.04.2-1.43.59L10.3 9.45l-7.72 7.72c-.78.78-.78 2.05 0 2.83L4 21.41c.39.39.9.59 1.41.59.51 0 1.02-.2 1.41-.59l7.78-7.78 2.81-2.81c.8-.78.8-2.07 0-2.86zM5.41 20L4 18.59l7.72-7.72 1.47 1.35L5.41 20z\"/>\n",
              "  </svg>\n",
              "      </button>\n",
              "      \n",
              "  <style>\n",
              "    .colab-df-container {\n",
              "      display:flex;\n",
              "      flex-wrap:wrap;\n",
              "      gap: 12px;\n",
              "    }\n",
              "\n",
              "    .colab-df-convert {\n",
              "      background-color: #E8F0FE;\n",
              "      border: none;\n",
              "      border-radius: 50%;\n",
              "      cursor: pointer;\n",
              "      display: none;\n",
              "      fill: #1967D2;\n",
              "      height: 32px;\n",
              "      padding: 0 0 0 0;\n",
              "      width: 32px;\n",
              "    }\n",
              "\n",
              "    .colab-df-convert:hover {\n",
              "      background-color: #E2EBFA;\n",
              "      box-shadow: 0px 1px 2px rgba(60, 64, 67, 0.3), 0px 1px 3px 1px rgba(60, 64, 67, 0.15);\n",
              "      fill: #174EA6;\n",
              "    }\n",
              "\n",
              "    [theme=dark] .colab-df-convert {\n",
              "      background-color: #3B4455;\n",
              "      fill: #D2E3FC;\n",
              "    }\n",
              "\n",
              "    [theme=dark] .colab-df-convert:hover {\n",
              "      background-color: #434B5C;\n",
              "      box-shadow: 0px 1px 3px 1px rgba(0, 0, 0, 0.15);\n",
              "      filter: drop-shadow(0px 1px 2px rgba(0, 0, 0, 0.3));\n",
              "      fill: #FFFFFF;\n",
              "    }\n",
              "  </style>\n",
              "\n",
              "      <script>\n",
              "        const buttonEl =\n",
              "          document.querySelector('#df-f6d22376-09c7-4562-ad4c-4575ea3c5b35 button.colab-df-convert');\n",
              "        buttonEl.style.display =\n",
              "          google.colab.kernel.accessAllowed ? 'block' : 'none';\n",
              "\n",
              "        async function convertToInteractive(key) {\n",
              "          const element = document.querySelector('#df-f6d22376-09c7-4562-ad4c-4575ea3c5b35');\n",
              "          const dataTable =\n",
              "            await google.colab.kernel.invokeFunction('convertToInteractive',\n",
              "                                                     [key], {});\n",
              "          if (!dataTable) return;\n",
              "\n",
              "          const docLinkHtml = 'Like what you see? Visit the ' +\n",
              "            '<a target=\"_blank\" href=https://colab.research.google.com/notebooks/data_table.ipynb>data table notebook</a>'\n",
              "            + ' to learn more about interactive tables.';\n",
              "          element.innerHTML = '';\n",
              "          dataTable['output_type'] = 'display_data';\n",
              "          await google.colab.output.renderOutput(dataTable, element);\n",
              "          const docLink = document.createElement('div');\n",
              "          docLink.innerHTML = docLinkHtml;\n",
              "          element.appendChild(docLink);\n",
              "        }\n",
              "      </script>\n",
              "    </div>\n",
              "  </div>\n",
              "  "
            ]
          },
          "metadata": {},
          "execution_count": 32
        }
      ]
    },
    {
      "cell_type": "code",
      "source": [
        "emotions[\"train\"].features[\"label\"]"
      ],
      "metadata": {
        "colab": {
          "base_uri": "https://localhost:8080/"
        },
        "id": "IFeCYQX9kuHK",
        "outputId": "525d503a-b5b8-4e2d-af67-c6a6d6e7ebb9"
      },
      "execution_count": 33,
      "outputs": [
        {
          "output_type": "execute_result",
          "data": {
            "text/plain": [
              "ClassLabel(num_classes=6, names=['sadness', 'joy', 'love', 'anger', 'fear', 'surprise'], names_file=None, id=None)"
            ]
          },
          "metadata": {},
          "execution_count": 33
        }
      ]
    },
    {
      "cell_type": "markdown",
      "source": [
        "When you retrieve the labels, ClassLabel.int2str() and ClassLabel.str2int() carries out the conversion from integer value to label name, and vice versa"
      ],
      "metadata": {
        "id": "mFcr4DrrljGx"
      }
    },
    {
      "cell_type": "code",
      "source": [
        "def label_int2str(row):\n",
        "  return emotions[\"train\"].features[\"label\"].int2str(row)"
      ],
      "metadata": {
        "id": "Un-OAi66krp1"
      },
      "execution_count": 34,
      "outputs": []
    },
    {
      "cell_type": "code",
      "source": [
        "df[\"label_name\"] = df[\"label\"].apply(label_int2str)\n",
        "df.head()"
      ],
      "metadata": {
        "colab": {
          "base_uri": "https://localhost:8080/",
          "height": 206
        },
        "id": "_-UHaBHBlluR",
        "outputId": "cdd942e5-487b-48dd-9f62-2056bacff79a"
      },
      "execution_count": 35,
      "outputs": [
        {
          "output_type": "execute_result",
          "data": {
            "text/plain": [
              "                                                text  label label_name\n",
              "0                            i didnt feel humiliated      0    sadness\n",
              "1  i can go from feeling so hopeless to so damned...      0    sadness\n",
              "2   im grabbing a minute to post i feel greedy wrong      3      anger\n",
              "3  i am ever feeling nostalgic about the fireplac...      2       love\n",
              "4                               i am feeling grouchy      3      anger"
            ],
            "text/html": [
              "\n",
              "  <div id=\"df-c6599ca7-03a3-4be0-8f63-cc4e09bf37d4\">\n",
              "    <div class=\"colab-df-container\">\n",
              "      <div>\n",
              "<style scoped>\n",
              "    .dataframe tbody tr th:only-of-type {\n",
              "        vertical-align: middle;\n",
              "    }\n",
              "\n",
              "    .dataframe tbody tr th {\n",
              "        vertical-align: top;\n",
              "    }\n",
              "\n",
              "    .dataframe thead th {\n",
              "        text-align: right;\n",
              "    }\n",
              "</style>\n",
              "<table border=\"1\" class=\"dataframe\">\n",
              "  <thead>\n",
              "    <tr style=\"text-align: right;\">\n",
              "      <th></th>\n",
              "      <th>text</th>\n",
              "      <th>label</th>\n",
              "      <th>label_name</th>\n",
              "    </tr>\n",
              "  </thead>\n",
              "  <tbody>\n",
              "    <tr>\n",
              "      <th>0</th>\n",
              "      <td>i didnt feel humiliated</td>\n",
              "      <td>0</td>\n",
              "      <td>sadness</td>\n",
              "    </tr>\n",
              "    <tr>\n",
              "      <th>1</th>\n",
              "      <td>i can go from feeling so hopeless to so damned...</td>\n",
              "      <td>0</td>\n",
              "      <td>sadness</td>\n",
              "    </tr>\n",
              "    <tr>\n",
              "      <th>2</th>\n",
              "      <td>im grabbing a minute to post i feel greedy wrong</td>\n",
              "      <td>3</td>\n",
              "      <td>anger</td>\n",
              "    </tr>\n",
              "    <tr>\n",
              "      <th>3</th>\n",
              "      <td>i am ever feeling nostalgic about the fireplac...</td>\n",
              "      <td>2</td>\n",
              "      <td>love</td>\n",
              "    </tr>\n",
              "    <tr>\n",
              "      <th>4</th>\n",
              "      <td>i am feeling grouchy</td>\n",
              "      <td>3</td>\n",
              "      <td>anger</td>\n",
              "    </tr>\n",
              "  </tbody>\n",
              "</table>\n",
              "</div>\n",
              "      <button class=\"colab-df-convert\" onclick=\"convertToInteractive('df-c6599ca7-03a3-4be0-8f63-cc4e09bf37d4')\"\n",
              "              title=\"Convert this dataframe to an interactive table.\"\n",
              "              style=\"display:none;\">\n",
              "        \n",
              "  <svg xmlns=\"http://www.w3.org/2000/svg\" height=\"24px\"viewBox=\"0 0 24 24\"\n",
              "       width=\"24px\">\n",
              "    <path d=\"M0 0h24v24H0V0z\" fill=\"none\"/>\n",
              "    <path d=\"M18.56 5.44l.94 2.06.94-2.06 2.06-.94-2.06-.94-.94-2.06-.94 2.06-2.06.94zm-11 1L8.5 8.5l.94-2.06 2.06-.94-2.06-.94L8.5 2.5l-.94 2.06-2.06.94zm10 10l.94 2.06.94-2.06 2.06-.94-2.06-.94-.94-2.06-.94 2.06-2.06.94z\"/><path d=\"M17.41 7.96l-1.37-1.37c-.4-.4-.92-.59-1.43-.59-.52 0-1.04.2-1.43.59L10.3 9.45l-7.72 7.72c-.78.78-.78 2.05 0 2.83L4 21.41c.39.39.9.59 1.41.59.51 0 1.02-.2 1.41-.59l7.78-7.78 2.81-2.81c.8-.78.8-2.07 0-2.86zM5.41 20L4 18.59l7.72-7.72 1.47 1.35L5.41 20z\"/>\n",
              "  </svg>\n",
              "      </button>\n",
              "      \n",
              "  <style>\n",
              "    .colab-df-container {\n",
              "      display:flex;\n",
              "      flex-wrap:wrap;\n",
              "      gap: 12px;\n",
              "    }\n",
              "\n",
              "    .colab-df-convert {\n",
              "      background-color: #E8F0FE;\n",
              "      border: none;\n",
              "      border-radius: 50%;\n",
              "      cursor: pointer;\n",
              "      display: none;\n",
              "      fill: #1967D2;\n",
              "      height: 32px;\n",
              "      padding: 0 0 0 0;\n",
              "      width: 32px;\n",
              "    }\n",
              "\n",
              "    .colab-df-convert:hover {\n",
              "      background-color: #E2EBFA;\n",
              "      box-shadow: 0px 1px 2px rgba(60, 64, 67, 0.3), 0px 1px 3px 1px rgba(60, 64, 67, 0.15);\n",
              "      fill: #174EA6;\n",
              "    }\n",
              "\n",
              "    [theme=dark] .colab-df-convert {\n",
              "      background-color: #3B4455;\n",
              "      fill: #D2E3FC;\n",
              "    }\n",
              "\n",
              "    [theme=dark] .colab-df-convert:hover {\n",
              "      background-color: #434B5C;\n",
              "      box-shadow: 0px 1px 3px 1px rgba(0, 0, 0, 0.15);\n",
              "      filter: drop-shadow(0px 1px 2px rgba(0, 0, 0, 0.3));\n",
              "      fill: #FFFFFF;\n",
              "    }\n",
              "  </style>\n",
              "\n",
              "      <script>\n",
              "        const buttonEl =\n",
              "          document.querySelector('#df-c6599ca7-03a3-4be0-8f63-cc4e09bf37d4 button.colab-df-convert');\n",
              "        buttonEl.style.display =\n",
              "          google.colab.kernel.accessAllowed ? 'block' : 'none';\n",
              "\n",
              "        async function convertToInteractive(key) {\n",
              "          const element = document.querySelector('#df-c6599ca7-03a3-4be0-8f63-cc4e09bf37d4');\n",
              "          const dataTable =\n",
              "            await google.colab.kernel.invokeFunction('convertToInteractive',\n",
              "                                                     [key], {});\n",
              "          if (!dataTable) return;\n",
              "\n",
              "          const docLinkHtml = 'Like what you see? Visit the ' +\n",
              "            '<a target=\"_blank\" href=https://colab.research.google.com/notebooks/data_table.ipynb>data table notebook</a>'\n",
              "            + ' to learn more about interactive tables.';\n",
              "          element.innerHTML = '';\n",
              "          dataTable['output_type'] = 'display_data';\n",
              "          await google.colab.output.renderOutput(dataTable, element);\n",
              "          const docLink = document.createElement('div');\n",
              "          docLink.innerHTML = docLinkHtml;\n",
              "          element.appendChild(docLink);\n",
              "        }\n",
              "      </script>\n",
              "    </div>\n",
              "  </div>\n",
              "  "
            ]
          },
          "metadata": {},
          "execution_count": 35
        }
      ]
    },
    {
      "cell_type": "markdown",
      "source": [
        "value_counts: https://pandas.pydata.org/docs/reference/api/pandas.Series.value_counts.html"
      ],
      "metadata": {
        "id": "q97rNwYtmKao"
      }
    },
    {
      "cell_type": "code",
      "source": [
        "df[\"label_name\"].value_counts(ascending=True)"
      ],
      "metadata": {
        "colab": {
          "base_uri": "https://localhost:8080/"
        },
        "id": "9ECkqUenlzfW",
        "outputId": "d2ce6bfc-75aa-4bf6-d695-eb3cc3e82f8a"
      },
      "execution_count": 36,
      "outputs": [
        {
          "output_type": "execute_result",
          "data": {
            "text/plain": [
              "surprise     572\n",
              "love        1304\n",
              "fear        1937\n",
              "anger       2159\n",
              "sadness     4666\n",
              "joy         5362\n",
              "Name: label_name, dtype: int64"
            ]
          },
          "metadata": {},
          "execution_count": 36
        }
      ]
    },
    {
      "cell_type": "code",
      "source": [
        "import matplotlib.pyplot as plt\n",
        "\n",
        "df[\"label_name\"].value_counts(ascending=True).plot.barh()\n",
        "plt.title(\"Frequency of Classes\")\n",
        "plt.show()"
      ],
      "metadata": {
        "colab": {
          "base_uri": "https://localhost:8080/",
          "height": 281
        },
        "id": "jmyHC7qsloRF",
        "outputId": "88f543e7-4b54-432b-cb9d-7e941e351213"
      },
      "execution_count": 37,
      "outputs": [
        {
          "output_type": "display_data",
          "data": {
            "text/plain": [
              "<Figure size 432x288 with 1 Axes>"
            ],
            "image/png": "[encoded data removed]"
          },
          "metadata": {
            "needs_background": "light"
          }
        }
      ]
    },
    {
      "cell_type": "code",
      "source": [
        "df[\"Words Per Tweet\"] = df[\"text\"].str.split().apply(len)\n",
        "df.boxplot(\"Words Per Tweet\", by=\"label_name\", grid=False, showfliers=False, color=\"black\")\n",
        "plt.suptitle(\"\")\n",
        "plt.xlabel(\"\")\n",
        "plt.show()"
      ],
      "metadata": {
        "colab": {
          "base_uri": "https://localhost:8080/",
          "height": 336
        },
        "id": "zjgmY8VUmRvo",
        "outputId": "3798637d-c6c0-46a9-d472-2c6582a5eae0"
      },
      "execution_count": 38,
      "outputs": [
        {
          "output_type": "stream",
          "name": "stderr",
          "text": [
            "/usr/local/lib/python3.7/dist-packages/matplotlib/cbook/__init__.py:1376: VisibleDeprecationWarning: Creating an ndarray from ragged nested sequences (which is a list-or-tuple of lists-or-tuples-or ndarrays with different lengths or shapes) is deprecated. If you meant to do this, you must specify 'dtype=object' when creating the ndarray.\n",
            "  X = np.atleast_1d(X.T if isinstance(X, np.ndarray) else np.asarray(X))\n"
          ]
        },
        {
          "output_type": "display_data",
          "data": {
            "text/plain": [
              "<Figure size 432x288 with 1 Axes>"
            ],
            "image/png": "[encoded data removed]"
          },
          "metadata": {
            "needs_background": "light"
          }
        }
      ]
    },
    {
      "cell_type": "markdown",
      "source": [
        "#From Text to Tokens"
      ],
      "metadata": {
        "id": "rsNJ7_Y9s91W"
      }
    },
    {
      "cell_type": "markdown",
      "source": [
        "##Character Tokenization"
      ],
      "metadata": {
        "id": "ymG92U7gtI8P"
      }
    },
    {
      "cell_type": "code",
      "source": [
        "text = \"Tokenizing text is a core task of NLP.\"\n",
        "tokenized_text = list(text)\n",
        "print(tokenized_text)"
      ],
      "metadata": {
        "colab": {
          "base_uri": "https://localhost:8080/"
        },
        "id": "Pu-FggFjmod6",
        "outputId": "8c5880e4-43d0-4f83-9730-5841f355de49"
      },
      "execution_count": 39,
      "outputs": [
        {
          "output_type": "stream",
          "name": "stdout",
          "text": [
            "['T', 'o', 'k', 'e', 'n', 'i', 'z', 'i', 'n', 'g', ' ', 't', 'e', 'x', 't', ' ', 'i', 's', ' ', 'a', ' ', 'c', 'o', 'r', 'e', ' ', 't', 'a', 's', 'k', ' ', 'o', 'f', ' ', 'N', 'L', 'P', '.']\n"
          ]
        }
      ]
    },
    {
      "cell_type": "markdown",
      "source": [
        "This is a good start, but we’re not done yet. Our model expects each character to be\n",
        "converted to an integer, a process sometimes called numericalization. One simple way\n",
        "to do this is by encoding each unique token (which are characters in this case) with a\n",
        "unique integer:"
      ],
      "metadata": {
        "id": "k4j8E_OltW6v"
      }
    },
    {
      "cell_type": "code",
      "source": [
        "token2idx = {ch: idx for idx, ch in enumerate(sorted(set(tokenized_text)))}\n",
        "print(token2idx)"
      ],
      "metadata": {
        "colab": {
          "base_uri": "https://localhost:8080/"
        },
        "id": "bchWu6VutZJX",
        "outputId": "9f176247-0145-47cb-a5e3-2497175cd778"
      },
      "execution_count": 40,
      "outputs": [
        {
          "output_type": "stream",
          "name": "stdout",
          "text": [
            "{' ': 0, '.': 1, 'L': 2, 'N': 3, 'P': 4, 'T': 5, 'a': 6, 'c': 7, 'e': 8, 'f': 9, 'g': 10, 'i': 11, 'k': 12, 'n': 13, 'o': 14, 'r': 15, 's': 16, 't': 17, 'x': 18, 'z': 19}\n"
          ]
        }
      ]
    },
    {
      "cell_type": "code",
      "source": [
        "print(len(token2idx))"
      ],
      "metadata": {
        "colab": {
          "base_uri": "https://localhost:8080/"
        },
        "id": "OyfLNc38vCRO",
        "outputId": "7b651c35-138d-476e-a256-57b6168ec923"
      },
      "execution_count": 41,
      "outputs": [
        {
          "output_type": "stream",
          "name": "stdout",
          "text": [
            "20\n"
          ]
        }
      ]
    },
    {
      "cell_type": "code",
      "source": [
        "input_ids = [token2idx[token] for token in tokenized_text]\n",
        "print(input_ids)"
      ],
      "metadata": {
        "colab": {
          "base_uri": "https://localhost:8080/"
        },
        "id": "1hAiWiAQvEfn",
        "outputId": "2ac10cf0-02ba-496d-9697-c9ff0c3e175f"
      },
      "execution_count": 42,
      "outputs": [
        {
          "output_type": "stream",
          "name": "stdout",
          "text": [
            "[5, 14, 12, 8, 13, 11, 19, 11, 13, 10, 0, 17, 8, 18, 17, 0, 11, 16, 0, 6, 0, 7, 14, 15, 8, 0, 17, 6, 16, 12, 0, 14, 9, 0, 3, 2, 4, 1]\n"
          ]
        }
      ]
    },
    {
      "cell_type": "code",
      "source": [
        "print(len(input_ids))"
      ],
      "metadata": {
        "colab": {
          "base_uri": "https://localhost:8080/"
        },
        "id": "8Ocy9NUtw39X",
        "outputId": "78a61eb2-9b38-4923-ad16-97971d1268ed"
      },
      "execution_count": 43,
      "outputs": [
        {
          "output_type": "stream",
          "name": "stdout",
          "text": [
            "38\n"
          ]
        }
      ]
    },
    {
      "cell_type": "code",
      "source": [
        "categorical_df = pd.DataFrame(\n",
        "{\"Name\": [\"Bumblebee\", \"Optimus Prime\", \"Megatron\"], \"Label ID\": [0,1,2]})\n",
        "categorical_df"
      ],
      "metadata": {
        "colab": {
          "base_uri": "https://localhost:8080/",
          "height": 143
        },
        "id": "ZnKIl7XkvRjr",
        "outputId": "26d449a5-d34d-494b-94cb-c96b2f4259e8"
      },
      "execution_count": 44,
      "outputs": [
        {
          "output_type": "execute_result",
          "data": {
            "text/plain": [
              "            Name  Label ID\n",
              "0      Bumblebee         0\n",
              "1  Optimus Prime         1\n",
              "2       Megatron         2"
            ],
            "text/html": [
              "\n",
              "  <div id=\"df-3ed1db0f-c65e-452e-b8bf-f3ad962a815b\">\n",
              "    <div class=\"colab-df-container\">\n",
              "      <div>\n",
              "<style scoped>\n",
              "    .dataframe tbody tr th:only-of-type {\n",
              "        vertical-align: middle;\n",
              "    }\n",
              "\n",
              "    .dataframe tbody tr th {\n",
              "        vertical-align: top;\n",
              "    }\n",
              "\n",
              "    .dataframe thead th {\n",
              "        text-align: right;\n",
              "    }\n",
              "</style>\n",
              "<table border=\"1\" class=\"dataframe\">\n",
              "  <thead>\n",
              "    <tr style=\"text-align: right;\">\n",
              "      <th></th>\n",
              "      <th>Name</th>\n",
              "      <th>Label ID</th>\n",
              "    </tr>\n",
              "  </thead>\n",
              "  <tbody>\n",
              "    <tr>\n",
              "      <th>0</th>\n",
              "      <td>Bumblebee</td>\n",
              "      <td>0</td>\n",
              "    </tr>\n",
              "    <tr>\n",
              "      <th>1</th>\n",
              "      <td>Optimus Prime</td>\n",
              "      <td>1</td>\n",
              "    </tr>\n",
              "    <tr>\n",
              "      <th>2</th>\n",
              "      <td>Megatron</td>\n",
              "      <td>2</td>\n",
              "    </tr>\n",
              "  </tbody>\n",
              "</table>\n",
              "</div>\n",
              "      <button class=\"colab-df-convert\" onclick=\"convertToInteractive('df-3ed1db0f-c65e-452e-b8bf-f3ad962a815b')\"\n",
              "              title=\"Convert this dataframe to an interactive table.\"\n",
              "              style=\"display:none;\">\n",
              "        \n",
              "  <svg xmlns=\"http://www.w3.org/2000/svg\" height=\"24px\"viewBox=\"0 0 24 24\"\n",
              "       width=\"24px\">\n",
              "    <path d=\"M0 0h24v24H0V0z\" fill=\"none\"/>\n",
              "    <path d=\"M18.56 5.44l.94 2.06.94-2.06 2.06-.94-2.06-.94-.94-2.06-.94 2.06-2.06.94zm-11 1L8.5 8.5l.94-2.06 2.06-.94-2.06-.94L8.5 2.5l-.94 2.06-2.06.94zm10 10l.94 2.06.94-2.06 2.06-.94-2.06-.94-.94-2.06-.94 2.06-2.06.94z\"/><path d=\"M17.41 7.96l-1.37-1.37c-.4-.4-.92-.59-1.43-.59-.52 0-1.04.2-1.43.59L10.3 9.45l-7.72 7.72c-.78.78-.78 2.05 0 2.83L4 21.41c.39.39.9.59 1.41.59.51 0 1.02-.2 1.41-.59l7.78-7.78 2.81-2.81c.8-.78.8-2.07 0-2.86zM5.41 20L4 18.59l7.72-7.72 1.47 1.35L5.41 20z\"/>\n",
              "  </svg>\n",
              "      </button>\n",
              "      \n",
              "  <style>\n",
              "    .colab-df-container {\n",
              "      display:flex;\n",
              "      flex-wrap:wrap;\n",
              "      gap: 12px;\n",
              "    }\n",
              "\n",
              "    .colab-df-convert {\n",
              "      background-color: #E8F0FE;\n",
              "      border: none;\n",
              "      border-radius: 50%;\n",
              "      cursor: pointer;\n",
              "      display: none;\n",
              "      fill: #1967D2;\n",
              "      height: 32px;\n",
              "      padding: 0 0 0 0;\n",
              "      width: 32px;\n",
              "    }\n",
              "\n",
              "    .colab-df-convert:hover {\n",
              "      background-color: #E2EBFA;\n",
              "      box-shadow: 0px 1px 2px rgba(60, 64, 67, 0.3), 0px 1px 3px 1px rgba(60, 64, 67, 0.15);\n",
              "      fill: #174EA6;\n",
              "    }\n",
              "\n",
              "    [theme=dark] .colab-df-convert {\n",
              "      background-color: #3B4455;\n",
              "      fill: #D2E3FC;\n",
              "    }\n",
              "\n",
              "    [theme=dark] .colab-df-convert:hover {\n",
              "      background-color: #434B5C;\n",
              "      box-shadow: 0px 1px 3px 1px rgba(0, 0, 0, 0.15);\n",
              "      filter: drop-shadow(0px 1px 2px rgba(0, 0, 0, 0.3));\n",
              "      fill: #FFFFFF;\n",
              "    }\n",
              "  </style>\n",
              "\n",
              "      <script>\n",
              "        const buttonEl =\n",
              "          document.querySelector('#df-3ed1db0f-c65e-452e-b8bf-f3ad962a815b button.colab-df-convert');\n",
              "        buttonEl.style.display =\n",
              "          google.colab.kernel.accessAllowed ? 'block' : 'none';\n",
              "\n",
              "        async function convertToInteractive(key) {\n",
              "          const element = document.querySelector('#df-3ed1db0f-c65e-452e-b8bf-f3ad962a815b');\n",
              "          const dataTable =\n",
              "            await google.colab.kernel.invokeFunction('convertToInteractive',\n",
              "                                                     [key], {});\n",
              "          if (!dataTable) return;\n",
              "\n",
              "          const docLinkHtml = 'Like what you see? Visit the ' +\n",
              "            '<a target=\"_blank\" href=https://colab.research.google.com/notebooks/data_table.ipynb>data table notebook</a>'\n",
              "            + ' to learn more about interactive tables.';\n",
              "          element.innerHTML = '';\n",
              "          dataTable['output_type'] = 'display_data';\n",
              "          await google.colab.output.renderOutput(dataTable, element);\n",
              "          const docLink = document.createElement('div');\n",
              "          docLink.innerHTML = docLinkHtml;\n",
              "          element.appendChild(docLink);\n",
              "        }\n",
              "      </script>\n",
              "    </div>\n",
              "  </div>\n",
              "  "
            ]
          },
          "metadata": {},
          "execution_count": 44
        }
      ]
    },
    {
      "cell_type": "markdown",
      "source": [
        "get_dummies: https://pandas.pydata.org/docs/reference/api/pandas.get_dummies.html\n"
      ],
      "metadata": {
        "id": "bF2H3J9Gv3j3"
      }
    },
    {
      "cell_type": "code",
      "source": [
        "pd.get_dummies(categorical_df[\"Name\"])"
      ],
      "metadata": {
        "colab": {
          "base_uri": "https://localhost:8080/",
          "height": 143
        },
        "id": "MM1zndZwv2vJ",
        "outputId": "d54f0836-31ae-4e86-c2fd-00860c995b1d"
      },
      "execution_count": 45,
      "outputs": [
        {
          "output_type": "execute_result",
          "data": {
            "text/plain": [
              "   Bumblebee  Megatron  Optimus Prime\n",
              "0          1         0              0\n",
              "1          0         0              1\n",
              "2          0         1              0"
            ],
            "text/html": [
              "\n",
              "  <div id=\"df-8b8fc01c-838e-4203-897e-53cc9ff4a343\">\n",
              "    <div class=\"colab-df-container\">\n",
              "      <div>\n",
              "<style scoped>\n",
              "    .dataframe tbody tr th:only-of-type {\n",
              "        vertical-align: middle;\n",
              "    }\n",
              "\n",
              "    .dataframe tbody tr th {\n",
              "        vertical-align: top;\n",
              "    }\n",
              "\n",
              "    .dataframe thead th {\n",
              "        text-align: right;\n",
              "    }\n",
              "</style>\n",
              "<table border=\"1\" class=\"dataframe\">\n",
              "  <thead>\n",
              "    <tr style=\"text-align: right;\">\n",
              "      <th></th>\n",
              "      <th>Bumblebee</th>\n",
              "      <th>Megatron</th>\n",
              "      <th>Optimus Prime</th>\n",
              "    </tr>\n",
              "  </thead>\n",
              "  <tbody>\n",
              "    <tr>\n",
              "      <th>0</th>\n",
              "      <td>1</td>\n",
              "      <td>0</td>\n",
              "      <td>0</td>\n",
              "    </tr>\n",
              "    <tr>\n",
              "      <th>1</th>\n",
              "      <td>0</td>\n",
              "      <td>0</td>\n",
              "      <td>1</td>\n",
              "    </tr>\n",
              "    <tr>\n",
              "      <th>2</th>\n",
              "      <td>0</td>\n",
              "      <td>1</td>\n",
              "      <td>0</td>\n",
              "    </tr>\n",
              "  </tbody>\n",
              "</table>\n",
              "</div>\n",
              "      <button class=\"colab-df-convert\" onclick=\"convertToInteractive('df-8b8fc01c-838e-4203-897e-53cc9ff4a343')\"\n",
              "              title=\"Convert this dataframe to an interactive table.\"\n",
              "              style=\"display:none;\">\n",
              "        \n",
              "  <svg xmlns=\"http://www.w3.org/2000/svg\" height=\"24px\"viewBox=\"0 0 24 24\"\n",
              "       width=\"24px\">\n",
              "    <path d=\"M0 0h24v24H0V0z\" fill=\"none\"/>\n",
              "    <path d=\"M18.56 5.44l.94 2.06.94-2.06 2.06-.94-2.06-.94-.94-2.06-.94 2.06-2.06.94zm-11 1L8.5 8.5l.94-2.06 2.06-.94-2.06-.94L8.5 2.5l-.94 2.06-2.06.94zm10 10l.94 2.06.94-2.06 2.06-.94-2.06-.94-.94-2.06-.94 2.06-2.06.94z\"/><path d=\"M17.41 7.96l-1.37-1.37c-.4-.4-.92-.59-1.43-.59-.52 0-1.04.2-1.43.59L10.3 9.45l-7.72 7.72c-.78.78-.78 2.05 0 2.83L4 21.41c.39.39.9.59 1.41.59.51 0 1.02-.2 1.41-.59l7.78-7.78 2.81-2.81c.8-.78.8-2.07 0-2.86zM5.41 20L4 18.59l7.72-7.72 1.47 1.35L5.41 20z\"/>\n",
              "  </svg>\n",
              "      </button>\n",
              "      \n",
              "  <style>\n",
              "    .colab-df-container {\n",
              "      display:flex;\n",
              "      flex-wrap:wrap;\n",
              "      gap: 12px;\n",
              "    }\n",
              "\n",
              "    .colab-df-convert {\n",
              "      background-color: #E8F0FE;\n",
              "      border: none;\n",
              "      border-radius: 50%;\n",
              "      cursor: pointer;\n",
              "      display: none;\n",
              "      fill: #1967D2;\n",
              "      height: 32px;\n",
              "      padding: 0 0 0 0;\n",
              "      width: 32px;\n",
              "    }\n",
              "\n",
              "    .colab-df-convert:hover {\n",
              "      background-color: #E2EBFA;\n",
              "      box-shadow: 0px 1px 2px rgba(60, 64, 67, 0.3), 0px 1px 3px 1px rgba(60, 64, 67, 0.15);\n",
              "      fill: #174EA6;\n",
              "    }\n",
              "\n",
              "    [theme=dark] .colab-df-convert {\n",
              "      background-color: #3B4455;\n",
              "      fill: #D2E3FC;\n",
              "    }\n",
              "\n",
              "    [theme=dark] .colab-df-convert:hover {\n",
              "      background-color: #434B5C;\n",
              "      box-shadow: 0px 1px 3px 1px rgba(0, 0, 0, 0.15);\n",
              "      filter: drop-shadow(0px 1px 2px rgba(0, 0, 0, 0.3));\n",
              "      fill: #FFFFFF;\n",
              "    }\n",
              "  </style>\n",
              "\n",
              "      <script>\n",
              "        const buttonEl =\n",
              "          document.querySelector('#df-8b8fc01c-838e-4203-897e-53cc9ff4a343 button.colab-df-convert');\n",
              "        buttonEl.style.display =\n",
              "          google.colab.kernel.accessAllowed ? 'block' : 'none';\n",
              "\n",
              "        async function convertToInteractive(key) {\n",
              "          const element = document.querySelector('#df-8b8fc01c-838e-4203-897e-53cc9ff4a343');\n",
              "          const dataTable =\n",
              "            await google.colab.kernel.invokeFunction('convertToInteractive',\n",
              "                                                     [key], {});\n",
              "          if (!dataTable) return;\n",
              "\n",
              "          const docLinkHtml = 'Like what you see? Visit the ' +\n",
              "            '<a target=\"_blank\" href=https://colab.research.google.com/notebooks/data_table.ipynb>data table notebook</a>'\n",
              "            + ' to learn more about interactive tables.';\n",
              "          element.innerHTML = '';\n",
              "          dataTable['output_type'] = 'display_data';\n",
              "          await google.colab.output.renderOutput(dataTable, element);\n",
              "          const docLink = document.createElement('div');\n",
              "          docLink.innerHTML = docLinkHtml;\n",
              "          element.appendChild(docLink);\n",
              "        }\n",
              "      </script>\n",
              "    </div>\n",
              "  </div>\n",
              "  "
            ]
          },
          "metadata": {},
          "execution_count": 45
        }
      ]
    },
    {
      "cell_type": "markdown",
      "source": [
        "The rows of this DataFrame are the one-hot vectors, which have a single “hot” entry\n",
        "with a 1 and 0s everywhere else. Now, looking at our input_ids, we have a similar\n",
        "problem: the elements create an ordinal scale. This means that adding or subtracting\n",
        "two IDs is a meaningless operation, since the result is a new ID that represents\n",
        "another random token."
      ],
      "metadata": {
        "id": "t88h3PvXwKQc"
      }
    },
    {
      "cell_type": "markdown",
      "source": [
        "torch.nn.functional: https://pytorch.org/docs/stable/nn.functional.html#torch-nn-functional"
      ],
      "metadata": {
        "id": "Ps2-Ca76wOA9"
      }
    },
    {
      "cell_type": "code",
      "source": [
        "!pip3 install torch torchvision torchaudio --extra-index-url https://download.pytorch.org/whl/cu116 --quiet"
      ],
      "metadata": {
        "id": "xf0oThd6wJit"
      },
      "execution_count": 46,
      "outputs": []
    },
    {
      "cell_type": "code",
      "source": [
        "import torch\n",
        "import torch.nn.functional as F\n",
        "input_ids = torch.tensor(input_ids)\n",
        "one_hot_encodings = F.one_hot(input_ids, num_classes=len(token2idx))\n",
        "one_hot_encodings.shape"
      ],
      "metadata": {
        "colab": {
          "base_uri": "https://localhost:8080/"
        },
        "id": "rhUtfbipwlo1",
        "outputId": "45862e2b-ed91-484d-8947-b6b122594e67"
      },
      "execution_count": 47,
      "outputs": [
        {
          "output_type": "execute_result",
          "data": {
            "text/plain": [
              "torch.Size([38, 20])"
            ]
          },
          "metadata": {},
          "execution_count": 47
        }
      ]
    },
    {
      "cell_type": "markdown",
      "source": [
        "len(token2idx) = 20\n",
        "\n",
        "len(input_ids) = 38"
      ],
      "metadata": {
        "id": "e0uiBlE8xCo0"
      }
    },
    {
      "cell_type": "code",
      "source": [
        "one_hot_encodings"
      ],
      "metadata": {
        "colab": {
          "base_uri": "https://localhost:8080/"
        },
        "id": "iTQb8qjlwrCd",
        "outputId": "07cddec1-f8c4-4ee7-d754-4c1d1a6ff3c9"
      },
      "execution_count": 48,
      "outputs": [
        {
          "output_type": "execute_result",
          "data": {
            "text/plain": [
              "tensor([[0, 0, 0, 0, 0, 1, 0, 0, 0, 0, 0, 0, 0, 0, 0, 0, 0, 0, 0, 0],\n",
              "        [0, 0, 0, 0, 0, 0, 0, 0, 0, 0, 0, 0, 0, 0, 1, 0, 0, 0, 0, 0],\n",
              "        [0, 0, 0, 0, 0, 0, 0, 0, 0, 0, 0, 0, 1, 0, 0, 0, 0, 0, 0, 0],\n",
              "        [0, 0, 0, 0, 0, 0, 0, 0, 1, 0, 0, 0, 0, 0, 0, 0, 0, 0, 0, 0],\n",
              "        [0, 0, 0, 0, 0, 0, 0, 0, 0, 0, 0, 0, 0, 1, 0, 0, 0, 0, 0, 0],\n",
              "        [0, 0, 0, 0, 0, 0, 0, 0, 0, 0, 0, 1, 0, 0, 0, 0, 0, 0, 0, 0],\n",
              "        [0, 0, 0, 0, 0, 0, 0, 0, 0, 0, 0, 0, 0, 0, 0, 0, 0, 0, 0, 1],\n",
              "        [0, 0, 0, 0, 0, 0, 0, 0, 0, 0, 0, 1, 0, 0, 0, 0, 0, 0, 0, 0],\n",
              "        [0, 0, 0, 0, 0, 0, 0, 0, 0, 0, 0, 0, 0, 1, 0, 0, 0, 0, 0, 0],\n",
              "        [0, 0, 0, 0, 0, 0, 0, 0, 0, 0, 1, 0, 0, 0, 0, 0, 0, 0, 0, 0],\n",
              "        [1, 0, 0, 0, 0, 0, 0, 0, 0, 0, 0, 0, 0, 0, 0, 0, 0, 0, 0, 0],\n",
              "        [0, 0, 0, 0, 0, 0, 0, 0, 0, 0, 0, 0, 0, 0, 0, 0, 0, 1, 0, 0],\n",
              "        [0, 0, 0, 0, 0, 0, 0, 0, 1, 0, 0, 0, 0, 0, 0, 0, 0, 0, 0, 0],\n",
              "        [0, 0, 0, 0, 0, 0, 0, 0, 0, 0, 0, 0, 0, 0, 0, 0, 0, 0, 1, 0],\n",
              "        [0, 0, 0, 0, 0, 0, 0, 0, 0, 0, 0, 0, 0, 0, 0, 0, 0, 1, 0, 0],\n",
              "        [1, 0, 0, 0, 0, 0, 0, 0, 0, 0, 0, 0, 0, 0, 0, 0, 0, 0, 0, 0],\n",
              "        [0, 0, 0, 0, 0, 0, 0, 0, 0, 0, 0, 1, 0, 0, 0, 0, 0, 0, 0, 0],\n",
              "        [0, 0, 0, 0, 0, 0, 0, 0, 0, 0, 0, 0, 0, 0, 0, 0, 1, 0, 0, 0],\n",
              "        [1, 0, 0, 0, 0, 0, 0, 0, 0, 0, 0, 0, 0, 0, 0, 0, 0, 0, 0, 0],\n",
              "        [0, 0, 0, 0, 0, 0, 1, 0, 0, 0, 0, 0, 0, 0, 0, 0, 0, 0, 0, 0],\n",
              "        [1, 0, 0, 0, 0, 0, 0, 0, 0, 0, 0, 0, 0, 0, 0, 0, 0, 0, 0, 0],\n",
              "        [0, 0, 0, 0, 0, 0, 0, 1, 0, 0, 0, 0, 0, 0, 0, 0, 0, 0, 0, 0],\n",
              "        [0, 0, 0, 0, 0, 0, 0, 0, 0, 0, 0, 0, 0, 0, 1, 0, 0, 0, 0, 0],\n",
              "        [0, 0, 0, 0, 0, 0, 0, 0, 0, 0, 0, 0, 0, 0, 0, 1, 0, 0, 0, 0],\n",
              "        [0, 0, 0, 0, 0, 0, 0, 0, 1, 0, 0, 0, 0, 0, 0, 0, 0, 0, 0, 0],\n",
              "        [1, 0, 0, 0, 0, 0, 0, 0, 0, 0, 0, 0, 0, 0, 0, 0, 0, 0, 0, 0],\n",
              "        [0, 0, 0, 0, 0, 0, 0, 0, 0, 0, 0, 0, 0, 0, 0, 0, 0, 1, 0, 0],\n",
              "        [0, 0, 0, 0, 0, 0, 1, 0, 0, 0, 0, 0, 0, 0, 0, 0, 0, 0, 0, 0],\n",
              "        [0, 0, 0, 0, 0, 0, 0, 0, 0, 0, 0, 0, 0, 0, 0, 0, 1, 0, 0, 0],\n",
              "        [0, 0, 0, 0, 0, 0, 0, 0, 0, 0, 0, 0, 1, 0, 0, 0, 0, 0, 0, 0],\n",
              "        [1, 0, 0, 0, 0, 0, 0, 0, 0, 0, 0, 0, 0, 0, 0, 0, 0, 0, 0, 0],\n",
              "        [0, 0, 0, 0, 0, 0, 0, 0, 0, 0, 0, 0, 0, 0, 1, 0, 0, 0, 0, 0],\n",
              "        [0, 0, 0, 0, 0, 0, 0, 0, 0, 1, 0, 0, 0, 0, 0, 0, 0, 0, 0, 0],\n",
              "        [1, 0, 0, 0, 0, 0, 0, 0, 0, 0, 0, 0, 0, 0, 0, 0, 0, 0, 0, 0],\n",
              "        [0, 0, 0, 1, 0, 0, 0, 0, 0, 0, 0, 0, 0, 0, 0, 0, 0, 0, 0, 0],\n",
              "        [0, 0, 1, 0, 0, 0, 0, 0, 0, 0, 0, 0, 0, 0, 0, 0, 0, 0, 0, 0],\n",
              "        [0, 0, 0, 0, 1, 0, 0, 0, 0, 0, 0, 0, 0, 0, 0, 0, 0, 0, 0, 0],\n",
              "        [0, 1, 0, 0, 0, 0, 0, 0, 0, 0, 0, 0, 0, 0, 0, 0, 0, 0, 0, 0]])"
            ]
          },
          "metadata": {},
          "execution_count": 48
        }
      ]
    },
    {
      "cell_type": "code",
      "source": [
        "print(f\"Token: {tokenized_text[0]}\")\n",
        "print(f\"Tensor index: {input_ids[0]}\")\n",
        "print(f\"One-hot: {one_hot_encodings[0]}\")"
      ],
      "metadata": {
        "colab": {
          "base_uri": "https://localhost:8080/"
        },
        "id": "A9Li71Miwt5Q",
        "outputId": "a5cd47ed-e3aa-45e2-9101-48358ee80768"
      },
      "execution_count": 49,
      "outputs": [
        {
          "output_type": "stream",
          "name": "stdout",
          "text": [
            "Token: T\n",
            "Tensor index: 5\n",
            "One-hot: tensor([0, 0, 0, 0, 0, 1, 0, 0, 0, 0, 0, 0, 0, 0, 0, 0, 0, 0, 0, 0])\n"
          ]
        }
      ]
    },
    {
      "cell_type": "markdown",
      "source": [
        "##Word Tokenization"
      ],
      "metadata": {
        "id": "PouKU-AnxcVc"
      }
    },
    {
      "cell_type": "code",
      "source": [
        "tokenized_text = text.split()\n",
        "print(tokenized_text)"
      ],
      "metadata": {
        "colab": {
          "base_uri": "https://localhost:8080/"
        },
        "id": "KG7brKyExSKd",
        "outputId": "b03ea9d5-07ea-42c3-b79a-36c7c0880e5d"
      },
      "execution_count": 50,
      "outputs": [
        {
          "output_type": "stream",
          "name": "stdout",
          "text": [
            "['Tokenizing', 'text', 'is', 'a', 'core', 'task', 'of', 'NLP.']\n"
          ]
        }
      ]
    },
    {
      "cell_type": "markdown",
      "source": [
        "##Subword Tokenization"
      ],
      "metadata": {
        "id": "1dX-HUWRxiBV"
      }
    },
    {
      "cell_type": "code",
      "source": [
        "from transformers import AutoTokenizer\n",
        "model_ckpt = \"distilbert-base-uncased\"\n",
        "tokenizer = AutoTokenizer.from_pretrained(model_ckpt)"
      ],
      "metadata": {
        "id": "ODhYVHgKxfw1"
      },
      "execution_count": 51,
      "outputs": []
    },
    {
      "cell_type": "code",
      "source": [
        "encoded_text = tokenizer(text)\n",
        "print(encoded_text)"
      ],
      "metadata": {
        "colab": {
          "base_uri": "https://localhost:8080/"
        },
        "id": "tQ6RBoOIxlY1",
        "outputId": "324e46d0-49fd-436f-dcd7-0d77b87a56da"
      },
      "execution_count": 52,
      "outputs": [
        {
          "output_type": "stream",
          "name": "stdout",
          "text": [
            "{'input_ids': [101, 19204, 6026, 3793, 2003, 1037, 4563, 4708, 1997, 17953, 2361, 1012, 102], 'attention_mask': [1, 1, 1, 1, 1, 1, 1, 1, 1, 1, 1, 1, 1]}\n"
          ]
        }
      ]
    },
    {
      "cell_type": "markdown",
      "source": [
        "convert_ids_to_tokens: https://huggingface.co/docs/transformers/main_classes/tokenizer#transformers.PreTrainedTokenizer.convert_ids_to_tokens"
      ],
      "metadata": {
        "id": "1KIuFfh6yFqg"
      }
    },
    {
      "cell_type": "code",
      "source": [
        "tokens = tokenizer.convert_ids_to_tokens(encoded_text.input_ids)\n",
        "print(tokens)"
      ],
      "metadata": {
        "colab": {
          "base_uri": "https://localhost:8080/"
        },
        "id": "w0PF0ejSxt9T",
        "outputId": "0682ca7f-f15a-4cf1-f327-8eef0e698b53"
      },
      "execution_count": 53,
      "outputs": [
        {
          "output_type": "stream",
          "name": "stdout",
          "text": [
            "['[CLS]', 'token', '##izing', 'text', 'is', 'a', 'core', 'task', 'of', 'nl', '##p', '.', '[SEP]']\n"
          ]
        }
      ]
    },
    {
      "cell_type": "markdown",
      "source": [
        "convert_tokens_to_string: https://huggingface.co/docs/transformers/internal/tokenization_utils#transformers.PreTrainedTokenizerBase.convert_tokens_to_string"
      ],
      "metadata": {
        "id": "m8aa7bCYyPv1"
      }
    },
    {
      "cell_type": "code",
      "source": [
        "print(tokenizer.convert_tokens_to_string(tokens))"
      ],
      "metadata": {
        "colab": {
          "base_uri": "https://localhost:8080/"
        },
        "id": "2zM4U1-PyLoh",
        "outputId": "8098d4be-55c2-41ce-9c4c-de88f2483bf4"
      },
      "execution_count": 54,
      "outputs": [
        {
          "output_type": "stream",
          "name": "stdout",
          "text": [
            "[CLS] tokenizing text is a core task of nlp. [SEP]\n"
          ]
        }
      ]
    },
    {
      "cell_type": "code",
      "source": [
        "tokenizer.vocab_size"
      ],
      "metadata": {
        "colab": {
          "base_uri": "https://localhost:8080/"
        },
        "id": "lU2ceoRhy3Ku",
        "outputId": "16fde54f-cc55-402b-ac6b-a3380e35b2f8"
      },
      "execution_count": 55,
      "outputs": [
        {
          "output_type": "execute_result",
          "data": {
            "text/plain": [
              "30522"
            ]
          },
          "metadata": {},
          "execution_count": 55
        }
      ]
    },
    {
      "cell_type": "markdown",
      "source": [
        "model_max_length: https://huggingface.co/docs/transformers/main_classes/tokenizer#transformers.PreTrainedTokenizer"
      ],
      "metadata": {
        "id": "bBls49g9zDy2"
      }
    },
    {
      "cell_type": "code",
      "source": [
        "tokenizer.model_max_length"
      ],
      "metadata": {
        "colab": {
          "base_uri": "https://localhost:8080/"
        },
        "id": "3ZhY8EJ_y3b7",
        "outputId": "4d718219-aae9-4417-d052-056794e73686"
      },
      "execution_count": 56,
      "outputs": [
        {
          "output_type": "execute_result",
          "data": {
            "text/plain": [
              "512"
            ]
          },
          "metadata": {},
          "execution_count": 56
        }
      ]
    },
    {
      "cell_type": "code",
      "source": [
        "tokenizer.model_input_names"
      ],
      "metadata": {
        "colab": {
          "base_uri": "https://localhost:8080/"
        },
        "id": "v6HsSnR3y4-A",
        "outputId": "2078ed0f-431c-470f-ba75-905ed57370a5"
      },
      "execution_count": 57,
      "outputs": [
        {
          "output_type": "execute_result",
          "data": {
            "text/plain": [
              "['input_ids', 'attention_mask']"
            ]
          },
          "metadata": {},
          "execution_count": 57
        }
      ]
    },
    {
      "cell_type": "markdown",
      "source": [
        "##Tokenizing the Whole Dataset"
      ],
      "metadata": {
        "id": "JyTUbmEyzM5Z"
      }
    },
    {
      "cell_type": "code",
      "source": [
        "from datasets import load_dataset\n",
        "emotions = load_dataset(\"emotion\")"
      ],
      "metadata": {
        "colab": {
          "base_uri": "https://localhost:8080/",
          "height": 105,
          "referenced_widgets": [
            "b4fc2eba517b49c6a20e9380044ba964",
            "2ad05256e32947da823f51bdcdef84a8",
            "6d2a5b04e1e54d949443799bb3d382c4",
            "a1a083e4aa8b405286910521e77f699b",
            "fdaae59458c1419c9f6315b0896022ff",
            "40c4a82db5f1455582cc1f9e83504874",
            "255beca63b374835a2a710de91ae9b5d",
            "f6304e251e194af6ae0ee02ef3a32821",
            "5504cad3c64b42d18175aebd10ea3a13",
            "0b1a17275c2a4a36bab1cf76e3ff658e",
            "906307af1dcf4229b2320aaee7f4d16f"
          ]
        },
        "id": "UtgEKtDI1eHx",
        "outputId": "d42cda1d-513d-44ea-ac57-27c766753c24"
      },
      "execution_count": 58,
      "outputs": [
        {
          "output_type": "stream",
          "name": "stderr",
          "text": [
            "WARNING:datasets.builder:Using custom data configuration default\n",
            "WARNING:datasets.builder:Reusing dataset emotion (/root/.cache/huggingface/datasets/emotion/default/0.0.0/348f63ca8e27b3713b6c04d723efe6d824a56fb3d1449794716c0f0296072705)\n"
          ]
        },
        {
          "output_type": "display_data",
          "data": {
            "text/plain": [
              "  0%|          | 0/3 [00:00<?, ?it/s]"
            ],
            "application/vnd.jupyter.widget-view+json": {
              "version_major": 2,
              "version_minor": 0,
              "model_id": "b4fc2eba517b49c6a20e9380044ba964"
            }
          },
          "metadata": {}
        }
      ]
    },
    {
      "cell_type": "code",
      "source": [
        "def tokenize(batch):\n",
        "  return tokenizer(batch[\"text\"], padding=True, truncation=True)"
      ],
      "metadata": {
        "id": "0KbLIbhnzORc"
      },
      "execution_count": 59,
      "outputs": []
    },
    {
      "cell_type": "code",
      "source": [
        "emotions[\"train\"][:2]"
      ],
      "metadata": {
        "colab": {
          "base_uri": "https://localhost:8080/"
        },
        "id": "WqM8LaW30IW0",
        "outputId": "0d62f1c9-54c9-42b5-8d5c-dace6db55946"
      },
      "execution_count": 60,
      "outputs": [
        {
          "output_type": "execute_result",
          "data": {
            "text/plain": [
              "{'text': ['i didnt feel humiliated',\n",
              "  'i can go from feeling so hopeless to so damned hopeful just from being around someone who cares and is awake'],\n",
              " 'label': [0, 0]}"
            ]
          },
          "metadata": {},
          "execution_count": 60
        }
      ]
    },
    {
      "cell_type": "code",
      "source": [
        "type(emotions[\"train\"][:2][\"text\"])"
      ],
      "metadata": {
        "colab": {
          "base_uri": "https://localhost:8080/"
        },
        "id": "DyOuKFhEzaxQ",
        "outputId": "3b7c1ffb-4f5a-473f-b489-1786b967fae1"
      },
      "execution_count": 61,
      "outputs": [
        {
          "output_type": "execute_result",
          "data": {
            "text/plain": [
              "list"
            ]
          },
          "metadata": {},
          "execution_count": 61
        }
      ]
    },
    {
      "cell_type": "code",
      "source": [
        "print(tokenize(emotions[\"train\"][:2]))"
      ],
      "metadata": {
        "colab": {
          "base_uri": "https://localhost:8080/"
        },
        "id": "nXwtAJkLzSHA",
        "outputId": "aacd5077-8b89-4ea8-eb94-b667c8c4b7c0"
      },
      "execution_count": 62,
      "outputs": [
        {
          "output_type": "stream",
          "name": "stdout",
          "text": [
            "{'input_ids': [[101, 1045, 2134, 2102, 2514, 26608, 102, 0, 0, 0, 0, 0, 0, 0, 0, 0, 0, 0, 0, 0, 0, 0, 0], [101, 1045, 2064, 2175, 2013, 3110, 2061, 20625, 2000, 2061, 9636, 17772, 2074, 2013, 2108, 2105, 2619, 2040, 14977, 1998, 2003, 8300, 102]], 'attention_mask': [[1, 1, 1, 1, 1, 1, 1, 0, 0, 0, 0, 0, 0, 0, 0, 0, 0, 0, 0, 0, 0, 0, 0], [1, 1, 1, 1, 1, 1, 1, 1, 1, 1, 1, 1, 1, 1, 1, 1, 1, 1, 1, 1, 1, 1, 1]]}\n"
          ]
        }
      ]
    },
    {
      "cell_type": "markdown",
      "source": [
        "Here we can see the result of padding: the first element of input_ids is shorter than\n",
        "the second, so zeros have been added to that element to make them the same length.\n",
        "These zeros have a corresponding [PAD] token in the vocabulary, and the set of spe‐\n",
        "cial tokens also includes the [CLS] and [SEP] tokens that we encountered earlier:\n",
        "![image.png](data:image/png;base64,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)"
      ],
      "metadata": {
        "id": "lMP_mAFK0SNJ"
      }
    },
    {
      "cell_type": "markdown",
      "source": [
        "dataset = dataset.map(lambda e: tokenizer(e['sentence1'], truncation=True, padding='max_length'), batched=True)"
      ],
      "metadata": {
        "id": "WsbY9MkF2nVf"
      }
    },
    {
      "cell_type": "code",
      "source": [
        "emotions_encoded = emotions.map(tokenize, batched=True, batch_size=None)"
      ],
      "metadata": {
        "colab": {
          "base_uri": "https://localhost:8080/",
          "height": 151,
          "referenced_widgets": [
            "aedc41a1b24441f8884d0b7b9e8b7930",
            "e51d9e82280e41d0a6cdf54d709f075c",
            "816e3374d6db4ed88e41aacbbdb365f5",
            "9624a7c821834da2a84915198a36c4f6",
            "af05a9c418164c4ba42f88aae7ccab1e",
            "a1aec1625c184de09cd870b99d450392",
            "1ec62ddf2b2f4392bc8c32d8dbb477d6",
            "329f61ad7aeb41f8af62de07a78fc980",
            "0c1286fd778740f780ec698905e8b788",
            "b35c06df23e445ec8740ca1b20d2498f",
            "90edf955377e496ab03a60d2e2fd037f",
            "2cefa579896244b8aa5eebd2ec82c45e",
            "36c489775a0549f89292c6e0d2156b4f",
            "7d15b4b70f7c487c9d008b62ae2cae2a",
            "d9f62b0dc78746c1b814845d57c2e5fe",
            "e1119209fd88410782634dceed5f00df",
            "210dca38652748f99b929958e6e533e1",
            "a2732210fb2f4f28ab30561d18182252",
            "c9f08a30c12e4e6f8b7406ac2db47650",
            "5ffa5c2234a04c2c8ff237c947cc537d",
            "1bbd30dfa87f4f0a91b48586752aa6b5",
            "df257497645e4090b864828c5d71e9bb",
            "e5ba399a88a541bfa31686a98f562a16",
            "326d922b4df84f948ef7cc95fc7a3e57",
            "743a17aea94942419a05a8fa070283da",
            "04a5a2ec176041bd8f69cf756015c4d5",
            "562ea98f9fc9468c9357fb8dcca89bef",
            "019fba2e6cde4feea2184a6b61272485",
            "28d63b1e475a49739ce741e1544149db",
            "6f98a4eaa272489bb97ab53df0403199",
            "aaff7a9d0b6e4febb8bfd7f80d6490a5",
            "783b94051938431099e649ff4fbf5f74",
            "62e9d39c5ea64f42929be8fba9bbfcf6"
          ]
        },
        "id": "TWvHTjYFzstI",
        "outputId": "2e2b03ed-1545-477a-baa5-faf2082daf69"
      },
      "execution_count": 63,
      "outputs": [
        {
          "output_type": "stream",
          "name": "stderr",
          "text": [
            "WARNING:datasets.fingerprint:Parameter 'function'=<function tokenize at 0x7fc96e738b90> of the transform datasets.arrow_dataset.Dataset._map_single couldn't be hashed properly, a random hash was used instead. Make sure your transforms and parameters are serializable with pickle or dill for the dataset fingerprinting and caching to work. If you reuse this transform, the caching mechanism will consider it to be different from the previous calls and recompute everything. This warning is only showed once. Subsequent hashing failures won't be showed.\n"
          ]
        },
        {
          "output_type": "display_data",
          "data": {
            "text/plain": [
              "  0%|          | 0/1 [00:00<?, ?ba/s]"
            ],
            "application/vnd.jupyter.widget-view+json": {
              "version_major": 2,
              "version_minor": 0,
              "model_id": "aedc41a1b24441f8884d0b7b9e8b7930"
            }
          },
          "metadata": {}
        },
        {
          "output_type": "display_data",
          "data": {
            "text/plain": [
              "  0%|          | 0/1 [00:00<?, ?ba/s]"
            ],
            "application/vnd.jupyter.widget-view+json": {
              "version_major": 2,
              "version_minor": 0,
              "model_id": "2cefa579896244b8aa5eebd2ec82c45e"
            }
          },
          "metadata": {}
        },
        {
          "output_type": "display_data",
          "data": {
            "text/plain": [
              "  0%|          | 0/1 [00:00<?, ?ba/s]"
            ],
            "application/vnd.jupyter.widget-view+json": {
              "version_major": 2,
              "version_minor": 0,
              "model_id": "e5ba399a88a541bfa31686a98f562a16"
            }
          },
          "metadata": {}
        }
      ]
    },
    {
      "cell_type": "code",
      "source": [
        "print(emotions_encoded[\"train\"].column_names)"
      ],
      "metadata": {
        "colab": {
          "base_uri": "https://localhost:8080/"
        },
        "id": "1AxVqWxQ0a_7",
        "outputId": "9ccf01dd-2178-4f74-ebb5-6fc381c7c2f9"
      },
      "execution_count": 64,
      "outputs": [
        {
          "output_type": "stream",
          "name": "stdout",
          "text": [
            "['attention_mask', 'input_ids', 'label', 'text']\n"
          ]
        }
      ]
    },
    {
      "cell_type": "markdown",
      "source": [
        "#Training a Text Classifier"
      ],
      "metadata": {
        "id": "m227HshB2x1X"
      }
    },
    {
      "cell_type": "markdown",
      "source": [
        "##Using pretrained models"
      ],
      "metadata": {
        "id": "xQEHNr7722aN"
      }
    },
    {
      "cell_type": "code",
      "source": [
        "from transformers import AutoModel\n",
        "model_ckpt = \"distilbert-base-uncased\"\n",
        "device = torch.device(\"cuda\" if torch.cuda.is_available() else \"cpu\")\n",
        "model = AutoModel.from_pretrained(model_ckpt).to(device)"
      ],
      "metadata": {
        "colab": {
          "base_uri": "https://localhost:8080/"
        },
        "id": "GHBinv-Q2UWG",
        "outputId": "d8295078-9a82-477a-978e-dc0a6e856415"
      },
      "execution_count": 65,
      "outputs": [
        {
          "output_type": "stream",
          "name": "stderr",
          "text": [
            "Some weights of the model checkpoint at distilbert-base-uncased were not used when initializing DistilBertModel: ['vocab_layer_norm.weight', 'vocab_projector.weight', 'vocab_transform.bias', 'vocab_layer_norm.bias', 'vocab_transform.weight', 'vocab_projector.bias']\n",
            "- This IS expected if you are initializing DistilBertModel from the checkpoint of a model trained on another task or with another architecture (e.g. initializing a BertForSequenceClassification model from a BertForPreTraining model).\n",
            "- This IS NOT expected if you are initializing DistilBertModel from the checkpoint of a model that you expect to be exactly identical (initializing a BertForSequenceClassification model from a BertForSequenceClassification model).\n"
          ]
        }
      ]
    },
    {
      "cell_type": "markdown",
      "source": [
        "##Extracting the last hidden states"
      ],
      "metadata": {
        "id": "hGSUT0YK27s7"
      }
    },
    {
      "cell_type": "code",
      "source": [
        "text = \"this is a test\"\n",
        "inputs = tokenizer(text, return_tensors=\"pt\")\n",
        "print(f\"Input tensor shape: {inputs['input_ids'].size()}\")"
      ],
      "metadata": {
        "colab": {
          "base_uri": "https://localhost:8080/"
        },
        "id": "MkNctoQ128w9",
        "outputId": "f6293431-8ed9-45f3-f50b-7d6ada51e0b0"
      },
      "execution_count": 66,
      "outputs": [
        {
          "output_type": "stream",
          "name": "stdout",
          "text": [
            "Input tensor shape: torch.Size([1, 6])\n"
          ]
        }
      ]
    },
    {
      "cell_type": "code",
      "source": [
        "inputs"
      ],
      "metadata": {
        "colab": {
          "base_uri": "https://localhost:8080/"
        },
        "id": "QUO9VjqM3z0-",
        "outputId": "a9521911-7e5a-42e1-d925-439c7459aaa6"
      },
      "execution_count": 67,
      "outputs": [
        {
          "output_type": "execute_result",
          "data": {
            "text/plain": [
              "{'input_ids': tensor([[ 101, 2023, 2003, 1037, 3231,  102]]), 'attention_mask': tensor([[1, 1, 1, 1, 1, 1]])}"
            ]
          },
          "metadata": {},
          "execution_count": 67
        }
      ]
    },
    {
      "cell_type": "code",
      "source": [
        "inputs.input_ids.numpy()"
      ],
      "metadata": {
        "colab": {
          "base_uri": "https://localhost:8080/"
        },
        "id": "GvdWqvuy3m7I",
        "outputId": "32dad677-4181-4db1-c2d1-8c5994013084"
      },
      "execution_count": 68,
      "outputs": [
        {
          "output_type": "execute_result",
          "data": {
            "text/plain": [
              "array([[ 101, 2023, 2003, 1037, 3231,  102]])"
            ]
          },
          "metadata": {},
          "execution_count": 68
        }
      ]
    },
    {
      "cell_type": "code",
      "source": [
        "tokens_text = tokenizer.convert_ids_to_tokens(inputs.input_ids.numpy().squeeze())\n",
        "print(tokens_text)"
      ],
      "metadata": {
        "colab": {
          "base_uri": "https://localhost:8080/"
        },
        "id": "rEmwtZs23SkA",
        "outputId": "3e3ae12f-56a7-4032-d68b-5666df3b093c"
      },
      "execution_count": 69,
      "outputs": [
        {
          "output_type": "stream",
          "name": "stdout",
          "text": [
            "['[CLS]', 'this', 'is', 'a', 'test', '[SEP]']\n"
          ]
        }
      ]
    },
    {
      "cell_type": "code",
      "source": [
        "text_return = tokenizer.convert_tokens_to_string(tokens_text)\n",
        "print(text_return)"
      ],
      "metadata": {
        "colab": {
          "base_uri": "https://localhost:8080/"
        },
        "id": "LAGLlLTw4olo",
        "outputId": "a3acef1e-b94b-4d6e-ca7f-4dd755bb8b8a"
      },
      "execution_count": 70,
      "outputs": [
        {
          "output_type": "stream",
          "name": "stdout",
          "text": [
            "[CLS] this is a test [SEP]\n"
          ]
        }
      ]
    },
    {
      "cell_type": "code",
      "source": [
        "#inputs = inputs.to(device)\n",
        "inputs = {k:v.to(device) for k,v in inputs.items()}\n",
        "with torch.no_grad():\n",
        "  outputs = model(**inputs)\n",
        "print(outputs)"
      ],
      "metadata": {
        "colab": {
          "base_uri": "https://localhost:8080/"
        },
        "id": "vXR8LEbq4_1f",
        "outputId": "eb1136fa-69ce-4be2-9017-ce00124a8640"
      },
      "execution_count": 71,
      "outputs": [
        {
          "output_type": "stream",
          "name": "stdout",
          "text": [
            "BaseModelOutput(last_hidden_state=tensor([[[-0.1565, -0.1862,  0.0528,  ..., -0.1188,  0.0662,  0.5470],\n",
            "         [-0.3575, -0.6484, -0.0618,  ..., -0.3040,  0.3508,  0.5221],\n",
            "         [-0.2772, -0.4459,  0.1818,  ..., -0.0948, -0.0076,  0.9958],\n",
            "         [-0.2841, -0.3917,  0.3753,  ..., -0.2151, -0.1173,  1.0526],\n",
            "         [ 0.2661, -0.5094, -0.3180,  ..., -0.4203,  0.0144, -0.2149],\n",
            "         [ 0.9441,  0.0112, -0.4714,  ...,  0.1439, -0.7288, -0.1619]]],\n",
            "       device='cuda:0'), hidden_states=None, attentions=None)\n"
          ]
        }
      ]
    },
    {
      "cell_type": "code",
      "source": [
        "inputs"
      ],
      "metadata": {
        "colab": {
          "base_uri": "https://localhost:8080/"
        },
        "id": "1ZMcl7BGLl_I",
        "outputId": "c633e922-5281-46e1-85cd-616112c45c5f"
      },
      "execution_count": 72,
      "outputs": [
        {
          "output_type": "execute_result",
          "data": {
            "text/plain": [
              "{'input_ids': tensor([[ 101, 2023, 2003, 1037, 3231,  102]], device='cuda:0'),\n",
              " 'attention_mask': tensor([[1, 1, 1, 1, 1, 1]], device='cuda:0')}"
            ]
          },
          "metadata": {},
          "execution_count": 72
        }
      ]
    },
    {
      "cell_type": "code",
      "source": [
        "for k,v in inputs.items():\n",
        "  print(k)\n",
        "  print(v)"
      ],
      "metadata": {
        "colab": {
          "base_uri": "https://localhost:8080/"
        },
        "id": "RkC_xq2m6BIR",
        "outputId": "e10a7981-77b8-45bd-9f4d-c3580aaa1201"
      },
      "execution_count": 73,
      "outputs": [
        {
          "output_type": "stream",
          "name": "stdout",
          "text": [
            "input_ids\n",
            "tensor([[ 101, 2023, 2003, 1037, 3231,  102]], device='cuda:0')\n",
            "attention_mask\n",
            "tensor([[1, 1, 1, 1, 1, 1]], device='cuda:0')\n"
          ]
        }
      ]
    },
    {
      "cell_type": "code",
      "source": [
        "outputs.last_hidden_state.size()\n",
        "#[batch_size, n_tokens, hidden_dim]"
      ],
      "metadata": {
        "colab": {
          "base_uri": "https://localhost:8080/"
        },
        "id": "kUNmbbgxLVh5",
        "outputId": "dc83619a-fc38-4a7f-fb09-9f28a0b89132"
      },
      "execution_count": 74,
      "outputs": [
        {
          "output_type": "execute_result",
          "data": {
            "text/plain": [
              "torch.Size([1, 6, 768])"
            ]
          },
          "metadata": {},
          "execution_count": 74
        }
      ]
    },
    {
      "cell_type": "code",
      "source": [
        "outputs.last_hidden_state[:,0].size()\n",
        "#[batch_size, hidden_dim] -> [CLS] token "
      ],
      "metadata": {
        "colab": {
          "base_uri": "https://localhost:8080/"
        },
        "id": "XWtiHQunMOXf",
        "outputId": "b46ba16e-e225-4ef1-8931-7333d7a8616b"
      },
      "execution_count": 75,
      "outputs": [
        {
          "output_type": "execute_result",
          "data": {
            "text/plain": [
              "torch.Size([1, 768])"
            ]
          },
          "metadata": {},
          "execution_count": 75
        }
      ]
    },
    {
      "cell_type": "code",
      "source": [
        "def extract_hidden_states(batch):\n",
        "  # Place model inputs on the GPU\n",
        "  inputs = {k:v.to(device) for k,v in batch.items() if k in tokenizer.model_input_names}\n",
        "  # Extract last hidden states\n",
        "  with torch.no_grad():\n",
        "    last_hidden_state = model(**inputs).last_hidden_state\n",
        "  # Return vector for [CLS] token\n",
        "  return {\"hidden_state\": last_hidden_state[:,0].cpu().numpy()}"
      ],
      "metadata": {
        "id": "m0FW_pKcMV4H"
      },
      "execution_count": 76,
      "outputs": []
    },
    {
      "cell_type": "code",
      "source": [
        "emotions_encoded.set_format(\"torch\", columns=[\"input_ids\", \"attention_mask\", \"label\"])"
      ],
      "metadata": {
        "id": "pfKl6iiiMpDI"
      },
      "execution_count": 77,
      "outputs": []
    },
    {
      "cell_type": "code",
      "source": [
        "emotions_encoded"
      ],
      "metadata": {
        "colab": {
          "base_uri": "https://localhost:8080/"
        },
        "id": "kJSCuG5AMyhM",
        "outputId": "5fd6d815-ea43-43ed-e8d7-fef888d35c3a"
      },
      "execution_count": 78,
      "outputs": [
        {
          "output_type": "execute_result",
          "data": {
            "text/plain": [
              "DatasetDict({\n",
              "    train: Dataset({\n",
              "        features: ['attention_mask', 'input_ids', 'label', 'text'],\n",
              "        num_rows: 16000\n",
              "    })\n",
              "    validation: Dataset({\n",
              "        features: ['attention_mask', 'input_ids', 'label', 'text'],\n",
              "        num_rows: 2000\n",
              "    })\n",
              "    test: Dataset({\n",
              "        features: ['attention_mask', 'input_ids', 'label', 'text'],\n",
              "        num_rows: 2000\n",
              "    })\n",
              "})"
            ]
          },
          "metadata": {},
          "execution_count": 78
        }
      ]
    },
    {
      "cell_type": "code",
      "source": [
        "emotions_encoded[\"train\"][\"input_ids\"][0]"
      ],
      "metadata": {
        "colab": {
          "base_uri": "https://localhost:8080/"
        },
        "id": "FV0NlMW6OH8Q",
        "outputId": "92c79c9c-76c8-4e0b-d673-ba84f8ad3a10"
      },
      "execution_count": 79,
      "outputs": [
        {
          "output_type": "execute_result",
          "data": {
            "text/plain": [
              "tensor([  101,  1045,  2134,  2102,  2514, 26608,   102,     0,     0,     0,\n",
              "            0,     0,     0,     0,     0,     0,     0,     0,     0,     0,\n",
              "            0,     0,     0,     0,     0,     0,     0,     0,     0,     0,\n",
              "            0,     0,     0,     0,     0,     0,     0,     0,     0,     0,\n",
              "            0,     0,     0,     0,     0,     0,     0,     0,     0,     0,\n",
              "            0,     0,     0,     0,     0,     0,     0,     0,     0,     0,\n",
              "            0,     0,     0,     0,     0,     0,     0,     0,     0,     0,\n",
              "            0,     0,     0,     0,     0,     0,     0,     0,     0,     0,\n",
              "            0,     0,     0,     0,     0,     0,     0])"
            ]
          },
          "metadata": {},
          "execution_count": 79
        }
      ]
    },
    {
      "cell_type": "code",
      "source": [
        "emotions_hidden = emotions_encoded.map(extract_hidden_states, batched=True)"
      ],
      "metadata": {
        "colab": {
          "base_uri": "https://localhost:8080/",
          "height": 113,
          "referenced_widgets": [
            "844a4ddc04be4e41a338bf880576606c",
            "efd4e37ca87b40f9a5e0c27ce3b23ccb",
            "e75d094a4e154c3587fe39ce9be14236",
            "27ae85bccb824b71b96b576d54875b27",
            "2b4643aafc8e46ae8c016d0b2f517e2e",
            "43d9937b8b224405a27b907da6f1e45f",
            "cfdbf56eb761470bb293f72b30af17eb",
            "f19cf3918a3948d1bff467ad6d5f7139",
            "4688d604d1534677a6d6d81ea5e70a52",
            "c147c6f281b24884bca7d342397e625d",
            "1cddbae166434f749bd104c4dbbeef5a",
            "754cfb92e97b410da883595808f46f8b",
            "c76f5fb604ef4e9385fb5a0fde5c6409",
            "1f5e289dcfbc4719bff61375e12145a9",
            "2d6768f07ec74e3684a2f7f6b8d50d97",
            "c64e7dffacca4c339498d32f51d6c8b1",
            "cd63a203d0b348dab8fc92323d03bf9d",
            "b2e5f451d473479d8b5fead8bc3ef1ac",
            "c2f6283104c14323a47e930733a30bee",
            "e3bddb76f3a447e49e3ee2e0990c4791",
            "1ae47693cd48441e845ac0623d5d763e",
            "c68b70874eaa439fb22ea16519b31dda",
            "122e76e4fff241159ec5b06c4436ceea",
            "81b3ee709b074a22be6dec790d3130c2",
            "0c6ea639fecf4ee295a509c980a20310",
            "e4a6b3b8ba504883839486a2124f406a",
            "0922a3ef6eb540078425443f243de429",
            "87a347fbcc434de0a7a8622e508aba17",
            "1d0f04d34811481eb2fe5844a1639266",
            "d75d4df42a334bbb873d58a46af950dd",
            "53904a925c77452faefa0376b73c37bf",
            "93c4c20f5efb481292fb4da53c399c19",
            "bbe13cef8d0b41cf9f02429ebde03800"
          ]
        },
        "id": "i21C1KX7ND56",
        "outputId": "2334a524-69db-46c1-b715-bef98e3a7bd0"
      },
      "execution_count": 80,
      "outputs": [
        {
          "output_type": "display_data",
          "data": {
            "text/plain": [
              "  0%|          | 0/16 [00:00<?, ?ba/s]"
            ],
            "application/vnd.jupyter.widget-view+json": {
              "version_major": 2,
              "version_minor": 0,
              "model_id": "844a4ddc04be4e41a338bf880576606c"
            }
          },
          "metadata": {}
        },
        {
          "output_type": "display_data",
          "data": {
            "text/plain": [
              "  0%|          | 0/2 [00:00<?, ?ba/s]"
            ],
            "application/vnd.jupyter.widget-view+json": {
              "version_major": 2,
              "version_minor": 0,
              "model_id": "754cfb92e97b410da883595808f46f8b"
            }
          },
          "metadata": {}
        },
        {
          "output_type": "display_data",
          "data": {
            "text/plain": [
              "  0%|          | 0/2 [00:00<?, ?ba/s]"
            ],
            "application/vnd.jupyter.widget-view+json": {
              "version_major": 2,
              "version_minor": 0,
              "model_id": "122e76e4fff241159ec5b06c4436ceea"
            }
          },
          "metadata": {}
        }
      ]
    },
    {
      "cell_type": "code",
      "source": [
        "emotions_hidden[\"train\"].column_names"
      ],
      "metadata": {
        "colab": {
          "base_uri": "https://localhost:8080/"
        },
        "id": "jTxDq4r_NQBh",
        "outputId": "f2cbbe75-59f1-4a54-f640-0161f61af4d0"
      },
      "execution_count": 81,
      "outputs": [
        {
          "output_type": "execute_result",
          "data": {
            "text/plain": [
              "['attention_mask', 'hidden_state', 'input_ids', 'label', 'text']"
            ]
          },
          "metadata": {},
          "execution_count": 81
        }
      ]
    },
    {
      "cell_type": "code",
      "source": [
        "emotions_hidden[\"train\"][\"hidden_state\"].shape"
      ],
      "metadata": {
        "colab": {
          "base_uri": "https://localhost:8080/"
        },
        "id": "af6u8ylkNeqe",
        "outputId": "1507a088-a051-4cdf-a096-ddff55045ad1"
      },
      "execution_count": 82,
      "outputs": [
        {
          "output_type": "execute_result",
          "data": {
            "text/plain": [
              "torch.Size([16000, 768])"
            ]
          },
          "metadata": {},
          "execution_count": 82
        }
      ]
    },
    {
      "cell_type": "markdown",
      "source": [
        "##Creating a feature matrix"
      ],
      "metadata": {
        "id": "xY446qkMQNPm"
      }
    },
    {
      "cell_type": "code",
      "source": [
        "import numpy as np\n",
        "X_train = np.array(emotions_hidden[\"train\"][\"hidden_state\"])\n",
        "X_valid = np.array(emotions_hidden[\"validation\"][\"hidden_state\"])\n",
        "y_train = np.array(emotions_hidden[\"train\"][\"label\"])\n",
        "y_valid = np.array(emotions_hidden[\"validation\"][\"label\"])\n",
        "X_train.shape, X_valid.shape"
      ],
      "metadata": {
        "colab": {
          "base_uri": "https://localhost:8080/"
        },
        "id": "gcTJJwo6NgGi",
        "outputId": "fee5aa55-404a-4568-f0c1-0b40c5e9e974"
      },
      "execution_count": 83,
      "outputs": [
        {
          "output_type": "execute_result",
          "data": {
            "text/plain": [
              "((16000, 768), (2000, 768))"
            ]
          },
          "metadata": {},
          "execution_count": 83
        }
      ]
    },
    {
      "cell_type": "markdown",
      "source": [
        "##Visualizing the training set"
      ],
      "metadata": {
        "id": "PfdbCRxUQYd5"
      }
    },
    {
      "cell_type": "code",
      "source": [
        "# !pip uninstall umap"
      ],
      "metadata": {
        "id": "RuHDXjoYUoSB"
      },
      "execution_count": 84,
      "outputs": []
    },
    {
      "cell_type": "code",
      "source": [
        "!pip install pynndescent --quiet\n",
        "!pip install numba --quiet\n",
        "!pip install scipy --quiet\n",
        "!pip install scikit-learn --quiet\n",
        "!pip install umap-learn --quiet\n",
        "!pip install transformers[tf,torch,sentencepiece,vision,optuna,sklearn,onnxruntime]==4.11.3 --quiet\n",
        "!pip install datasets[audio]==1.16.1 --quiet\n",
        "!pip install matplotlib --quiet\n",
        "!pip install ipywidgets --quiet"
      ],
      "metadata": {
        "id": "hgHzHADXQd30"
      },
      "execution_count": 85,
      "outputs": []
    },
    {
      "cell_type": "code",
      "source": [
        "import umap.umap_ as umap\n",
        "from sklearn.preprocessing import MinMaxScaler\n",
        "# Scale features to [0,1] range\n",
        "X_scaled = MinMaxScaler().fit_transform(X_train)\n",
        "# Initialize and fit UMAP\n",
        "mapper = umap.UMAP(n_components=2, metric=\"cosine\").fit(X_scaled)\n",
        "# Create a DataFrame of 2D embeddings\n",
        "df_emb = pd.DataFrame(mapper.embedding_, columns=[\"X\", \"Y\"])\n",
        "df_emb[\"label\"] = y_train\n",
        "df_emb.head()"
      ],
      "metadata": {
        "colab": {
          "base_uri": "https://localhost:8080/",
          "height": 206
        },
        "id": "mblVx7bZQaUi",
        "outputId": "8c89be08-1bf8-4593-eeff-aaaef4765925"
      },
      "execution_count": 86,
      "outputs": [
        {
          "output_type": "execute_result",
          "data": {
            "text/plain": [
              "          X         Y  label\n",
              "0  4.717510  6.920718      0\n",
              "1 -2.423651  6.715116      0\n",
              "2  5.420708  3.410718      3\n",
              "3 -2.292985  3.719785      2\n",
              "4 -2.943725  4.517552      3"
            ],
            "text/html": [
              "\n",
              "  <div id=\"df-8d3671c7-a3f0-4295-8050-0bc29f3e5e02\">\n",
              "    <div class=\"colab-df-container\">\n",
              "      <div>\n",
              "<style scoped>\n",
              "    .dataframe tbody tr th:only-of-type {\n",
              "        vertical-align: middle;\n",
              "    }\n",
              "\n",
              "    .dataframe tbody tr th {\n",
              "        vertical-align: top;\n",
              "    }\n",
              "\n",
              "    .dataframe thead th {\n",
              "        text-align: right;\n",
              "    }\n",
              "</style>\n",
              "<table border=\"1\" class=\"dataframe\">\n",
              "  <thead>\n",
              "    <tr style=\"text-align: right;\">\n",
              "      <th></th>\n",
              "      <th>X</th>\n",
              "      <th>Y</th>\n",
              "      <th>label</th>\n",
              "    </tr>\n",
              "  </thead>\n",
              "  <tbody>\n",
              "    <tr>\n",
              "      <th>0</th>\n",
              "      <td>4.717510</td>\n",
              "      <td>6.920718</td>\n",
              "      <td>0</td>\n",
              "    </tr>\n",
              "    <tr>\n",
              "      <th>1</th>\n",
              "      <td>-2.423651</td>\n",
              "      <td>6.715116</td>\n",
              "      <td>0</td>\n",
              "    </tr>\n",
              "    <tr>\n",
              "      <th>2</th>\n",
              "      <td>5.420708</td>\n",
              "      <td>3.410718</td>\n",
              "      <td>3</td>\n",
              "    </tr>\n",
              "    <tr>\n",
              "      <th>3</th>\n",
              "      <td>-2.292985</td>\n",
              "      <td>3.719785</td>\n",
              "      <td>2</td>\n",
              "    </tr>\n",
              "    <tr>\n",
              "      <th>4</th>\n",
              "      <td>-2.943725</td>\n",
              "      <td>4.517552</td>\n",
              "      <td>3</td>\n",
              "    </tr>\n",
              "  </tbody>\n",
              "</table>\n",
              "</div>\n",
              "      <button class=\"colab-df-convert\" onclick=\"convertToInteractive('df-8d3671c7-a3f0-4295-8050-0bc29f3e5e02')\"\n",
              "              title=\"Convert this dataframe to an interactive table.\"\n",
              "              style=\"display:none;\">\n",
              "        \n",
              "  <svg xmlns=\"http://www.w3.org/2000/svg\" height=\"24px\"viewBox=\"0 0 24 24\"\n",
              "       width=\"24px\">\n",
              "    <path d=\"M0 0h24v24H0V0z\" fill=\"none\"/>\n",
              "    <path d=\"M18.56 5.44l.94 2.06.94-2.06 2.06-.94-2.06-.94-.94-2.06-.94 2.06-2.06.94zm-11 1L8.5 8.5l.94-2.06 2.06-.94-2.06-.94L8.5 2.5l-.94 2.06-2.06.94zm10 10l.94 2.06.94-2.06 2.06-.94-2.06-.94-.94-2.06-.94 2.06-2.06.94z\"/><path d=\"M17.41 7.96l-1.37-1.37c-.4-.4-.92-.59-1.43-.59-.52 0-1.04.2-1.43.59L10.3 9.45l-7.72 7.72c-.78.78-.78 2.05 0 2.83L4 21.41c.39.39.9.59 1.41.59.51 0 1.02-.2 1.41-.59l7.78-7.78 2.81-2.81c.8-.78.8-2.07 0-2.86zM5.41 20L4 18.59l7.72-7.72 1.47 1.35L5.41 20z\"/>\n",
              "  </svg>\n",
              "      </button>\n",
              "      \n",
              "  <style>\n",
              "    .colab-df-container {\n",
              "      display:flex;\n",
              "      flex-wrap:wrap;\n",
              "      gap: 12px;\n",
              "    }\n",
              "\n",
              "    .colab-df-convert {\n",
              "      background-color: #E8F0FE;\n",
              "      border: none;\n",
              "      border-radius: 50%;\n",
              "      cursor: pointer;\n",
              "      display: none;\n",
              "      fill: #1967D2;\n",
              "      height: 32px;\n",
              "      padding: 0 0 0 0;\n",
              "      width: 32px;\n",
              "    }\n",
              "\n",
              "    .colab-df-convert:hover {\n",
              "      background-color: #E2EBFA;\n",
              "      box-shadow: 0px 1px 2px rgba(60, 64, 67, 0.3), 0px 1px 3px 1px rgba(60, 64, 67, 0.15);\n",
              "      fill: #174EA6;\n",
              "    }\n",
              "\n",
              "    [theme=dark] .colab-df-convert {\n",
              "      background-color: #3B4455;\n",
              "      fill: #D2E3FC;\n",
              "    }\n",
              "\n",
              "    [theme=dark] .colab-df-convert:hover {\n",
              "      background-color: #434B5C;\n",
              "      box-shadow: 0px 1px 3px 1px rgba(0, 0, 0, 0.15);\n",
              "      filter: drop-shadow(0px 1px 2px rgba(0, 0, 0, 0.3));\n",
              "      fill: #FFFFFF;\n",
              "    }\n",
              "  </style>\n",
              "\n",
              "      <script>\n",
              "        const buttonEl =\n",
              "          document.querySelector('#df-8d3671c7-a3f0-4295-8050-0bc29f3e5e02 button.colab-df-convert');\n",
              "        buttonEl.style.display =\n",
              "          google.colab.kernel.accessAllowed ? 'block' : 'none';\n",
              "\n",
              "        async function convertToInteractive(key) {\n",
              "          const element = document.querySelector('#df-8d3671c7-a3f0-4295-8050-0bc29f3e5e02');\n",
              "          const dataTable =\n",
              "            await google.colab.kernel.invokeFunction('convertToInteractive',\n",
              "                                                     [key], {});\n",
              "          if (!dataTable) return;\n",
              "\n",
              "          const docLinkHtml = 'Like what you see? Visit the ' +\n",
              "            '<a target=\"_blank\" href=https://colab.research.google.com/notebooks/data_table.ipynb>data table notebook</a>'\n",
              "            + ' to learn more about interactive tables.';\n",
              "          element.innerHTML = '';\n",
              "          dataTable['output_type'] = 'display_data';\n",
              "          await google.colab.output.renderOutput(dataTable, element);\n",
              "          const docLink = document.createElement('div');\n",
              "          docLink.innerHTML = docLinkHtml;\n",
              "          element.appendChild(docLink);\n",
              "        }\n",
              "      </script>\n",
              "    </div>\n",
              "  </div>\n",
              "  "
            ]
          },
          "metadata": {},
          "execution_count": 86
        }
      ]
    },
    {
      "cell_type": "code",
      "source": [
        "fig, axes = plt.subplots(2, 3, figsize=(7,5))\n",
        "axes = axes.flatten()\n",
        "cmaps = [\"Greys\", \"Blues\", \"Oranges\", \"Reds\", \"Purples\", \"Greens\"]\n",
        "labels = emotions[\"train\"].features[\"label\"].names\n",
        "for i, (label, cmap) in enumerate(zip(labels, cmaps)):\n",
        "  df_emb_sub = df_emb.query(f\"label == {i}\")\n",
        "  axes[i].hexbin(df_emb_sub[\"X\"], df_emb_sub[\"Y\"], cmap=cmap, gridsize=20, linewidths=(0,))\n",
        "  axes[i].set_title(label)\n",
        "  axes[i].set_xticks([]), axes[i].set_yticks([])\n",
        "plt.tight_layout()\n",
        "plt.show()"
      ],
      "metadata": {
        "colab": {
          "base_uri": "https://localhost:8080/",
          "height": 369
        },
        "id": "Wv7qxYblYvUE",
        "outputId": "062aeb8d-ea79-4fbd-db5f-2e07e9aa61fa"
      },
      "execution_count": 87,
      "outputs": [
        {
          "output_type": "display_data",
          "data": {
            "text/plain": [
              "<Figure size 504x360 with 6 Axes>"
            ],
            "image/png": "[encoded data removed]"
          },
          "metadata": {}
        }
      ]
    },
    {
      "cell_type": "markdown",
      "source": [
        "##Training a simple classifier"
      ],
      "metadata": {
        "id": "fd8yAHrxZEay"
      }
    },
    {
      "cell_type": "markdown",
      "source": [
        "Let’s use these hidden\n",
        "states to train a logistic regression model with Scikit-learn. Training such a simple\n",
        "model is fast and does not require a GPU:"
      ],
      "metadata": {
        "id": "uqAu3p1UZUdv"
      }
    },
    {
      "cell_type": "code",
      "source": [
        "from sklearn.linear_model import LogisticRegression\n",
        "# We increase `max_iter` to guarantee convergence\n",
        "lr_clf = LogisticRegression(max_iter=3000)\n",
        "lr_clf.fit(X_train, y_train)\n",
        "lr_clf.score(X_valid, y_valid)"
      ],
      "metadata": {
        "colab": {
          "base_uri": "https://localhost:8080/"
        },
        "id": "ePOmG61qZEo-",
        "outputId": "ab041cef-967e-4c2b-f7b1-ca2ba4b6566c"
      },
      "execution_count": 88,
      "outputs": [
        {
          "output_type": "stream",
          "name": "stderr",
          "text": [
            "/usr/local/lib/python3.7/dist-packages/sklearn/linear_model/_logistic.py:818: ConvergenceWarning: lbfgs failed to converge (status=1):\n",
            "STOP: TOTAL NO. of ITERATIONS REACHED LIMIT.\n",
            "\n",
            "Increase the number of iterations (max_iter) or scale the data as shown in:\n",
            "    https://scikit-learn.org/stable/modules/preprocessing.html\n",
            "Please also refer to the documentation for alternative solver options:\n",
            "    https://scikit-learn.org/stable/modules/linear_model.html#logistic-regression\n",
            "  extra_warning_msg=_LOGISTIC_SOLVER_CONVERGENCE_MSG,\n"
          ]
        },
        {
          "output_type": "execute_result",
          "data": {
            "text/plain": [
              "0.634"
            ]
          },
          "metadata": {},
          "execution_count": 88
        }
      ]
    },
    {
      "cell_type": "markdown",
      "source": [
        "In Scikit-learn there is a DummyClassifier that can be used\n",
        "to build a classifier with simple heuristics such as always choosing the majority class\n",
        "or always drawing a random class. In this case the best-performing heuristic is to\n",
        "always choose the most frequent class, which yields an accuracy of about 35%:"
      ],
      "metadata": {
        "id": "wWAoRAhbZPAd"
      }
    },
    {
      "cell_type": "code",
      "source": [
        "from sklearn.dummy import DummyClassifier\n",
        "dummy_clf = DummyClassifier(strategy=\"most_frequent\")\n",
        "dummy_clf.fit(X_train, y_train)\n",
        "dummy_clf.score(X_valid, y_valid)\n",
        "0.352"
      ],
      "metadata": {
        "colab": {
          "base_uri": "https://localhost:8080/"
        },
        "id": "Ju6DH3fzZL9h",
        "outputId": "c050a572-202c-4779-fc2f-0344f2d9fc42"
      },
      "execution_count": 89,
      "outputs": [
        {
          "output_type": "execute_result",
          "data": {
            "text/plain": [
              "0.352"
            ]
          },
          "metadata": {},
          "execution_count": 89
        }
      ]
    },
    {
      "cell_type": "code",
      "source": [
        "from sklearn.metrics import ConfusionMatrixDisplay, confusion_matrix\n",
        "def plot_confusion_matrix(y_preds, y_true, labels):\n",
        "  cm = confusion_matrix(y_true, y_preds, normalize=\"true\")\n",
        "  fig, ax = plt.subplots(figsize=(6, 6))\n",
        "  disp = ConfusionMatrixDisplay(confusion_matrix=cm, display_labels=labels)\n",
        "  disp.plot(cmap=\"Blues\", values_format=\".2f\", ax=ax, colorbar=False)\n",
        "  plt.title(\"Normalized confusion matrix\")\n",
        "  plt.show()\n",
        "y_preds = lr_clf.predict(X_valid)\n",
        "plot_confusion_matrix(y_preds, y_valid, labels)"
      ],
      "metadata": {
        "colab": {
          "base_uri": "https://localhost:8080/",
          "height": 404
        },
        "id": "Qsm3i5NeZWJf",
        "outputId": "c3a0cf00-f6d6-4428-df3c-0464a7a8395a"
      },
      "execution_count": 90,
      "outputs": [
        {
          "output_type": "display_data",
          "data": {
            "text/plain": [
              "<Figure size 432x432 with 1 Axes>"
            ],
            "image/png": "[encoded data removed]"
          },
          "metadata": {
            "needs_background": "light"
          }
        }
      ]
    }
  ]
}